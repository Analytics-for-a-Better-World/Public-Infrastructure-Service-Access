{
 "cells": [
  {
   "cell_type": "code",
   "execution_count": 5,
   "id": "d8dc4151",
   "metadata": {},
   "outputs": [
    {
     "name": "stdout",
     "output_type": "stream",
     "text": [
      "The autoreload extension is already loaded. To reload it, use:\n",
      "  %reload_ext autoreload\n"
     ]
    }
   ],
   "source": [
    "%load_ext autoreload\n",
    "%autoreload 2"
   ]
  },
  {
   "cell_type": "code",
   "execution_count": 8,
   "id": "3aad6442",
   "metadata": {},
   "outputs": [],
   "source": [
    "from functools import partial\n",
    "\n",
    "from optimization import jg_opt\n",
    "from pisa.administrative_area import AdministrativeArea\n",
    "from pisa.facilities import Facilities\n",
    "from pisa.population import WorldpopPopulation\n",
    "from pisa.population_served_by_isopolygons import get_population_served_by_isopolygons\n",
    "from pisa.visualisation import (\n",
    "    plot_facilities,\n",
    "    plot_isochrones,\n",
    "    plot_population,\n",
    "    plot_population_heatmap,\n",
    ")\n"
   ]
  },
  {
   "cell_type": "code",
   "execution_count": 7,
   "id": "f1c20214",
   "metadata": {},
   "outputs": [],
   "source": [
    "import os\n",
    "\n",
    "from dotenv import load_dotenv\n",
    "\n",
    "# load environment variables from an `.env` file in the local root directory\n",
    "load_dotenv()\n",
    "\n",
    "CBC_SOLVER_PATH = os.getenv(\n",
    "    \"CBC_SOLVER_PATH\"\n",
    ")  # path to the cbc executable (e.g. /opt/homebrew/bin/cbc)\n"
   ]
  },
  {
   "cell_type": "markdown",
   "id": "e07f56cd",
   "metadata": {},
   "source": [
    "### Define Administrative Area\n",
    "\n",
    "Let op: the administrative area is a country because of the package that we use for fetching the data (gadm).\n",
    "\n",
    "The naming is confusing: we want the administrative area to be a subset of a country (in this case, the administrative area should be Baucau). \n",
    "\n",
    "Should be easy to fix once we change gadm to pygadm (see issue #59 on GitHub)"
   ]
  },
  {
   "cell_type": "code",
   "execution_count": 9,
   "id": "2883d7fc",
   "metadata": {},
   "outputs": [
    {
     "name": "stderr",
     "output_type": "stream",
     "text": [
      "INFO:pisa.administrative_area:Validating country name: Timor-Leste\n",
      "INFO:pisa.administrative_area:Country name 'Timor-Leste' validated successfully\n",
      "INFO:pisa.administrative_area:Retrieving boundaries of all administrative areas of level 1 for country Timor-Leste\n"
     ]
    }
   ],
   "source": [
    "timor_leste = AdministrativeArea(country_name=\"Timor-Leste\", admin_level=1)\n",
    "\n",
    "# these are the boundaries of Baucau\n",
    "# type: Polygon\n",
    "baucau = timor_leste.get_admin_area_boundaries(\"Baucau\")"
   ]
  },
  {
   "cell_type": "markdown",
   "id": "3b2e2684",
   "metadata": {},
   "source": [
    "### Facilities"
   ]
  },
  {
   "cell_type": "markdown",
   "id": "87176234",
   "metadata": {},
   "source": [
    "#### Get existing facilities (in our case, hospitals) from OSM"
   ]
  },
  {
   "cell_type": "code",
   "execution_count": 11,
   "id": "af133adf",
   "metadata": {},
   "outputs": [
    {
     "name": "stderr",
     "output_type": "stream",
     "text": [
      "INFO:pisa.facilities:Retrieving existing facilities with tags {'amenity': 'hospital', 'building': 'hospital'} using OSM.\n",
      "INFO:pisa.facilities:Successfully retrieved existing facilities from OSM.\n"
     ]
    }
   ],
   "source": [
    "hospitals_df = Facilities(admin_area_boundaries=baucau).get_existing_facilities()"
   ]
  },
  {
   "cell_type": "code",
   "execution_count": null,
   "id": "7f7a91dc",
   "metadata": {},
   "outputs": [],
   "source": [
    "plot_facilities(hospitals_df, baucau)"
   ]
  },
  {
   "cell_type": "markdown",
   "id": "6abc7d94",
   "metadata": {},
   "source": [
    "#### Estimate potential locations for new facilities\n"
   ]
  },
  {
   "cell_type": "code",
   "execution_count": null,
   "id": "87c80da9",
   "metadata": {},
   "outputs": [],
   "source": [
    "potential_hospitals_df = Facilities(\n",
    "    admin_area_boundaries=baucau\n",
    ").estimate_potential_facilities(spacing=0.05)"
   ]
  },
  {
   "cell_type": "markdown",
   "id": "eaab29e2",
   "metadata": {},
   "source": [
    "### Get population \n",
    "In this example, from WorldPop"
   ]
  },
  {
   "cell_type": "code",
   "execution_count": null,
   "id": "876d9b9127d776b4",
   "metadata": {
    "ExecuteTime": {
     "end_time": "2025-04-02T11:37:28.478583Z",
     "start_time": "2025-04-02T11:37:28.473967Z"
    }
   },
   "outputs": [],
   "source": [
    "# TODO: why \"ID\" column? extra index for what reason? Maybe becomes apparent later?\n",
    "\n",
    "population_gdf = WorldpopPopulation(\n",
    "    admin_area_boundaries=baucau, iso3_country_code=timor_leste.get_iso3_country_code()\n",
    ").get_population_gdf()\n",
    "\n",
    "population_gdf.head()"
   ]
  },
  {
   "cell_type": "code",
   "execution_count": null,
   "id": "021481ee",
   "metadata": {},
   "outputs": [],
   "source": [
    "plot_population_heatmap(population_gdf, baucau)"
   ]
  },
  {
   "cell_type": "code",
   "execution_count": null,
   "id": "5622b259",
   "metadata": {},
   "outputs": [],
   "source": [
    "plot_population(population_gdf, baucau, random_sample_n=1000)"
   ]
  },
  {
   "cell_type": "markdown",
   "id": "71632809",
   "metadata": {},
   "source": [
    "### Calculate isopolygons\n",
    "\n",
    "Here we make some choices:\n",
    "- distance type\n",
    "- distance values\n",
    "- mode of transport \n",
    "\n",
    "Valid values for constants are in the script pisa.constants"
   ]
  },
  {
   "cell_type": "code",
   "execution_count": null,
   "id": "b759717d",
   "metadata": {},
   "outputs": [],
   "source": [
    "DISTANCE_TYPE = \"length\"\n",
    "\n",
    "DISTANCE_VALUES = [2000, 5000, 10000]\n",
    "\n",
    "MODE_OF_TRANSPORT = \"driving\""
   ]
  },
  {
   "cell_type": "markdown",
   "id": "bfea065f",
   "metadata": {},
   "source": [
    "#### Using OSM\n",
    "\n",
    "For this, we need to get the road network from osmnx"
   ]
  },
  {
   "cell_type": "code",
   "execution_count": null,
   "id": "071c3fce",
   "metadata": {},
   "outputs": [],
   "source": [
    "from pisa.osm_road_network import OsmRoadNetwork\n",
    "\n",
    "road_network = OsmRoadNetwork(\n",
    "    admin_area_boundaries=baucau,\n",
    "    mode_of_transport=MODE_OF_TRANSPORT,\n",
    "    distance_type=DISTANCE_TYPE,\n",
    ").get_osm_road_network()"
   ]
  },
  {
   "cell_type": "markdown",
   "id": "6447edc8",
   "metadata": {},
   "source": [
    "#### Calculate isopolygons for existing facilities"
   ]
  },
  {
   "cell_type": "code",
   "execution_count": null,
   "id": "be562bfe",
   "metadata": {},
   "outputs": [],
   "source": [
    "from pisa.isopolygons import OsmIsopolygonCalculator\n",
    "\n",
    "isopolygons_existing_facilities = OsmIsopolygonCalculator(\n",
    "    facilities_df=hospitals_df,\n",
    "    distance_type=DISTANCE_TYPE,\n",
    "    distance_values=DISTANCE_VALUES,\n",
    "    road_network=road_network,\n",
    ").calculate_isopolygons()"
   ]
  },
  {
   "cell_type": "code",
   "execution_count": null,
   "id": "c7dfcf0e",
   "metadata": {},
   "outputs": [],
   "source": [
    "isopolygons_existing_facilities.head()"
   ]
  },
  {
   "cell_type": "code",
   "execution_count": null,
   "id": "e54aa6e8",
   "metadata": {},
   "outputs": [],
   "source": [
    "plot_isochrones(isopolygons_existing_facilities, baucau)"
   ]
  },
  {
   "cell_type": "markdown",
   "id": "e2e57bd5",
   "metadata": {},
   "source": [
    "#### Calculate isopolygons for potential facilities"
   ]
  },
  {
   "cell_type": "code",
   "execution_count": null,
   "id": "932ca2f4",
   "metadata": {},
   "outputs": [],
   "source": [
    "isopolygons_potential_facilities = OsmIsopolygonCalculator(\n",
    "    facilities_df=potential_hospitals_df,\n",
    "    distance_type=DISTANCE_TYPE,\n",
    "    distance_values=DISTANCE_VALUES,\n",
    "    road_network=road_network,\n",
    ").calculate_isopolygons()"
   ]
  },
  {
   "cell_type": "markdown",
   "id": "0cd7f443",
   "metadata": {},
   "source": [
    "## Prepare optimization data\n",
    "\n",
    "Preparing the variables that go into the cell below"
   ]
  },
  {
   "cell_type": "code",
   "execution_count": null,
   "id": "cd6cedc6",
   "metadata": {},
   "outputs": [],
   "source": [
    "population_served_current = get_population_served_by_isopolygons(\n",
    "    grouped_population=population_gdf, isopolygons=isopolygons_existing_facilities\n",
    ")\n",
    "\n",
    "current = {DISTANCE_TYPE: population_served_current}"
   ]
  },
  {
   "cell_type": "code",
   "execution_count": null,
   "id": "fe9864f0",
   "metadata": {},
   "outputs": [],
   "source": [
    "population_served_potential = get_population_served_by_isopolygons(\n",
    "    grouped_population=population_gdf, isopolygons=isopolygons_potential_facilities\n",
    ")\n",
    "\n",
    "potential = {DISTANCE_TYPE: population_served_potential}"
   ]
  },
  {
   "cell_type": "code",
   "execution_count": null,
   "id": "4e08d927",
   "metadata": {},
   "outputs": [],
   "source": [
    "population_count = population_gdf.population.values"
   ]
  },
  {
   "cell_type": "code",
   "execution_count": null,
   "id": "04c59152",
   "metadata": {},
   "outputs": [],
   "source": [
    "BUDGET = [\n",
    "    5,\n",
    "    20,\n",
    "    50,\n",
    "]  # budget for the optimization in terms of how many locations can be built\n",
    "\n",
    "cbc_optimize = partial(jg_opt.OpenOptimize, solver_path=CBC_SOLVER_PATH)\n",
    "\n",
    "values, solutions = jg_opt.Solve(\n",
    "    household=population_count,\n",
    "    current=current,\n",
    "    potential=potential,\n",
    "    accessibility=DISTANCE_TYPE,\n",
    "    budgets=BUDGET,\n",
    "    optimize=cbc_optimize,\n",
    "    type=\"ID\",\n",
    ")"
   ]
  },
  {
   "cell_type": "code",
   "execution_count": null,
   "id": "a5c3b1bc",
   "metadata": {
    "vscode": {
     "languageId": "ruby"
    }
   },
   "outputs": [],
   "source": [
    "values"
   ]
  },
  {
   "cell_type": "code",
   "execution_count": null,
   "id": "46f6f89c",
   "metadata": {},
   "outputs": [],
   "source": [
    "solutions"
   ]
  }
 ],
 "metadata": {
  "kernelspec": {
   "display_name": "pisa",
   "language": "python",
   "name": "python3"
  },
  "language_info": {
   "codemirror_mode": {
    "name": "ipython",
    "version": 3
   },
   "file_extension": ".py",
   "mimetype": "text/x-python",
   "name": "python",
   "nbconvert_exporter": "python",
   "pygments_lexer": "ipython3",
   "version": "3.10.15"
  }
 },
 "nbformat": 4,
 "nbformat_minor": 5
}
