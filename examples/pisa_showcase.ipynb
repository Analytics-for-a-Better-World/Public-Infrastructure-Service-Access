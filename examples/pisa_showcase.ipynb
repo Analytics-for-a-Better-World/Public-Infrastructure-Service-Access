{
 "cells": [
  {
   "cell_type": "code",
   "id": "initial_id",
   "metadata": {
    "collapsed": true,
    "ExecuteTime": {
     "end_time": "2025-04-01T10:28:58.559295Z",
     "start_time": "2025-04-01T10:28:55.457360Z"
    }
   },
   "source": [
    "import sys\n",
    "sys.path.insert(0, \"..\")\n",
    "from pisa.administrative_area import AdministrativeArea\n",
    "from pisa.population import FacebookPopulation, WorldpopPopulation\n",
    "from gpbp import visualisation"
   ],
   "outputs": [],
   "execution_count": 1
  },
  {
   "metadata": {
    "ExecuteTime": {
     "end_time": "2025-04-01T10:29:02.757223Z",
     "start_time": "2025-04-01T10:29:02.206402Z"
    }
   },
   "cell_type": "code",
   "source": "adm_area = AdministrativeArea(country_name=\"Timor-Leste\", admin_level=1)",
   "id": "7aff3c58af37d41",
   "outputs": [
    {
     "name": "stderr",
     "output_type": "stream",
     "text": [
      "INFO:pisa.administrative_area:Validating country name: Timor-Leste\n",
      "INFO:pisa.administrative_area:Country name 'Timor-Leste' validated successfully\n",
      "INFO:pisa.administrative_area:Retrieving boundaries of all administrative areas of level 1 for country Timor-Leste\n"
     ]
    }
   ],
   "execution_count": 2
  },
  {
   "metadata": {
    "ExecuteTime": {
     "end_time": "2025-04-01T10:29:04.494655Z",
     "start_time": "2025-04-01T10:29:04.487775Z"
    }
   },
   "cell_type": "code",
   "source": "adm_boundaries = adm_area.get_admin_area_boundaries(\"Baucau\")",
   "id": "44d3673a5e0771b",
   "outputs": [],
   "execution_count": 3
  },
  {
   "metadata": {},
   "cell_type": "code",
   "source": "#adm_area.get_facilities(method=\"osm\", tags={\"amenity\":\"hospital\"})",
   "id": "339e7c7e4e361750",
   "outputs": [],
   "execution_count": null
  },
  {
   "metadata": {
    "ExecuteTime": {
     "end_time": "2025-04-01T10:29:06.928272Z",
     "start_time": "2025-04-01T10:29:06.349457Z"
    }
   },
   "cell_type": "code",
   "source": "population_test = WorldpopPopulation(admin_area = 'hallo', admin_boundaries = adm_boundaries)",
   "id": "876d9b9127d776b4",
   "outputs": [
    {
     "ename": "ValueError",
     "evalue": "Administrative area must be of type 'AdministrativeArea'",
     "output_type": "error",
     "traceback": [
      "\u001B[0;31m---------------------------------------------------------------------------\u001B[0m",
      "\u001B[0;31mValueError\u001B[0m                                Traceback (most recent call last)",
      "Cell \u001B[0;32mIn[4], line 1\u001B[0m\n\u001B[0;32m----> 1\u001B[0m population_test \u001B[38;5;241m=\u001B[39m \u001B[43mWorldpopPopulation\u001B[49m\u001B[43m(\u001B[49m\u001B[43madmin_area\u001B[49m\u001B[43m \u001B[49m\u001B[38;5;241;43m=\u001B[39;49m\u001B[43m \u001B[49m\u001B[38;5;124;43m'\u001B[39;49m\u001B[38;5;124;43mhallo\u001B[39;49m\u001B[38;5;124;43m'\u001B[39;49m\u001B[43m,\u001B[49m\u001B[43m \u001B[49m\u001B[43madmin_boundaries\u001B[49m\u001B[43m \u001B[49m\u001B[38;5;241;43m=\u001B[39;49m\u001B[43m \u001B[49m\u001B[43madm_boundaries\u001B[49m\u001B[43m)\u001B[49m\n",
      "File \u001B[0;32m~/repos/Public-Infrastructure-Service-Access/examples/../pisa/population.py:151\u001B[0m, in \u001B[0;36mWorldpopPopulation.__init__\u001B[0;34m(self, admin_area, admin_boundaries)\u001B[0m\n\u001B[1;32m    147\u001B[0m \u001B[38;5;28;01mdef\u001B[39;00m\u001B[38;5;250m \u001B[39m\u001B[38;5;21m__init__\u001B[39m(\n\u001B[1;32m    148\u001B[0m         \u001B[38;5;28mself\u001B[39m,\n\u001B[1;32m    149\u001B[0m         admin_area: AdministrativeArea,\n\u001B[1;32m    150\u001B[0m         admin_boundaries: Polygon \u001B[38;5;241m|\u001B[39m MultiPolygon):\n\u001B[0;32m--> 151\u001B[0m     \u001B[38;5;28;43msuper\u001B[39;49m\u001B[43m(\u001B[49m\u001B[43m)\u001B[49m\u001B[38;5;241;43m.\u001B[39;49m\u001B[38;5;21;43m__init__\u001B[39;49m\u001B[43m(\u001B[49m\u001B[43madmin_area\u001B[49m\u001B[43m,\u001B[49m\u001B[43m \u001B[49m\u001B[43madmin_boundaries\u001B[49m\u001B[43m)\u001B[49m\n",
      "File \u001B[0;32m~/repos/Public-Infrastructure-Service-Access/examples/../pisa/population.py:37\u001B[0m, in \u001B[0;36mPopulation.__init__\u001B[0;34m(self, admin_area, admin_boundaries, population_resolution)\u001B[0m\n\u001B[1;32m     30\u001B[0m \u001B[38;5;28;01mdef\u001B[39;00m\u001B[38;5;250m \u001B[39m\u001B[38;5;21m__init__\u001B[39m(\n\u001B[1;32m     31\u001B[0m     \u001B[38;5;28mself\u001B[39m,\n\u001B[1;32m     32\u001B[0m     admin_area: AdministrativeArea,\n\u001B[1;32m     33\u001B[0m     admin_boundaries: Polygon \u001B[38;5;241m|\u001B[39m MultiPolygon,\n\u001B[1;32m     34\u001B[0m     population_resolution: \u001B[38;5;28mint\u001B[39m\u001B[38;5;241m=\u001B[39m\u001B[38;5;241m5\u001B[39m,\n\u001B[1;32m     35\u001B[0m ):\n\u001B[0;32m---> 37\u001B[0m     \u001B[38;5;28;43mself\u001B[39;49m\u001B[38;5;241;43m.\u001B[39;49m\u001B[43m_validate_input\u001B[49m\u001B[43m(\u001B[49m\u001B[43madmin_area\u001B[49m\u001B[43m,\u001B[49m\u001B[43m \u001B[49m\u001B[43madmin_boundaries\u001B[49m\u001B[43m)\u001B[49m\n\u001B[1;32m     39\u001B[0m     \u001B[38;5;28mself\u001B[39m\u001B[38;5;241m.\u001B[39madmin_area \u001B[38;5;241m=\u001B[39m admin_area\n\u001B[1;32m     40\u001B[0m     \u001B[38;5;28mself\u001B[39m\u001B[38;5;241m.\u001B[39miso3_country_code \u001B[38;5;241m=\u001B[39m admin_area\u001B[38;5;241m.\u001B[39mget_iso3_country_code()\n",
      "File \u001B[0;32m~/repos/Public-Infrastructure-Service-Access/examples/../pisa/population.py:48\u001B[0m, in \u001B[0;36mPopulation._validate_input\u001B[0;34m(self, admin_area, admin_boundaries)\u001B[0m\n\u001B[1;32m     45\u001B[0m \u001B[38;5;250m\u001B[39m\u001B[38;5;124;03m\"\"\"Checks if input is correct\"\"\"\u001B[39;00m\n\u001B[1;32m     47\u001B[0m \u001B[38;5;28;01mif\u001B[39;00m \u001B[38;5;129;01mnot\u001B[39;00m \u001B[38;5;28misinstance\u001B[39m(admin_area, AdministrativeArea):\n\u001B[0;32m---> 48\u001B[0m     \u001B[38;5;28;01mraise\u001B[39;00m \u001B[38;5;167;01mValueError\u001B[39;00m(\n\u001B[1;32m     49\u001B[0m         \u001B[38;5;124m\"\u001B[39m\u001B[38;5;124mAdministrative area must be of type \u001B[39m\u001B[38;5;124m'\u001B[39m\u001B[38;5;124mAdministrativeArea\u001B[39m\u001B[38;5;124m'\u001B[39m\u001B[38;5;124m\"\u001B[39m\n\u001B[1;32m     50\u001B[0m     )\n\u001B[1;32m     52\u001B[0m \u001B[38;5;28;01mif\u001B[39;00m \u001B[38;5;129;01mnot\u001B[39;00m \u001B[38;5;28misinstance\u001B[39m(admin_boundaries, (Polygon \u001B[38;5;129;01mor\u001B[39;00m MultiPolygon)):\n\u001B[1;32m     53\u001B[0m     \u001B[38;5;28;01mraise\u001B[39;00m \u001B[38;5;167;01mValueError\u001B[39;00m(\n\u001B[1;32m     54\u001B[0m         \u001B[38;5;124m\"\u001B[39m\u001B[38;5;124mAdministrative boundaries must be of type Polygon or Multipolygon\u001B[39m\u001B[38;5;124m\"\u001B[39m\n\u001B[1;32m     55\u001B[0m     )\n",
      "\u001B[0;31mValueError\u001B[0m: Administrative area must be of type 'AdministrativeArea'"
     ]
    }
   ],
   "execution_count": 4
  },
  {
   "metadata": {},
   "cell_type": "code",
   "source": "pop = population_test.get_population_gdf()",
   "id": "c6cb76b89819ec89",
   "outputs": [],
   "execution_count": null
  },
  {
   "metadata": {},
   "cell_type": "code",
   "source": "visualisation.plot_population_heatmap(pop)",
   "id": "d89efd4d0f761d47",
   "outputs": [],
   "execution_count": null
  },
  {
   "metadata": {},
   "cell_type": "code",
   "source": "",
   "id": "87d144f637f69666",
   "outputs": [],
   "execution_count": null
  }
 ],
 "metadata": {
  "kernelspec": {
   "display_name": "Python 3",
   "language": "python",
   "name": "python3"
  },
  "language_info": {
   "codemirror_mode": {
    "name": "ipython",
    "version": 2
   },
   "file_extension": ".py",
   "mimetype": "text/x-python",
   "name": "python",
   "nbconvert_exporter": "python",
   "pygments_lexer": "ipython2",
   "version": "2.7.6"
  }
 },
 "nbformat": 4,
 "nbformat_minor": 5
}
