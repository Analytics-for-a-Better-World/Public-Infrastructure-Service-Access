{
 "cells": [
  {
   "cell_type": "code",
   "execution_count": 1,
   "id": "d8dc4151",
   "metadata": {},
   "outputs": [],
   "source": [
    "%load_ext autoreload\n",
    "%autoreload 2"
   ]
  },
  {
   "cell_type": "code",
   "execution_count": 7,
   "id": "3aad6442",
   "metadata": {},
   "outputs": [],
   "source": [
    "from pisa.administrative_area import AdministrativeArea\n",
    "from pisa.facilities import Facilities\n",
    "from pisa.population import WorldpopPopulation, FacebookPopulation\n",
    "from pisa.isopolygons import OsmIsopolygonCalculatorAlternative\n"
   ]
  },
  {
   "cell_type": "markdown",
   "id": "714770cb",
   "metadata": {},
   "source": [
    "### Define administrative area\n",
    "\n",
    "Let op: the administrative area is a country because of the package that we use for fetching the data (gadm)! \n",
    "\n",
    "The naming is confusing: we want the administrative area to be a subset of a country (in this case, the administrative area should be Baucau). \n",
    "\n",
    "Should be easy to fix once we change gadm to pygadm (see issue #59 on GitHub)"
   ]
  },
  {
   "cell_type": "code",
   "execution_count": 3,
   "id": "2883d7fc",
   "metadata": {},
   "outputs": [
    {
     "name": "stderr",
     "output_type": "stream",
     "text": [
      "INFO:pisa.administrative_area:Validating country name: Timor-Leste\n",
      "INFO:pisa.administrative_area:Country name 'Timor-Leste' validated successfully\n",
      "INFO:pisa.administrative_area:Retrieving boundaries of all administrative areas of level 1 for country Timor-Leste\n"
     ]
    }
   ],
   "source": [
    "timor_leste = AdministrativeArea(country_name=\"Timor-Leste\", admin_level=1)\n",
    "\n",
    "# these are the boundaries of Baucau\n",
    "# type: Polygon\n",
    "baucau = timor_leste.get_admin_area_boundaries(\"Baucau\")"
   ]
  },
  {
   "cell_type": "markdown",
   "id": "f16096fa",
   "metadata": {},
   "source": [
    "### Get hospitals from osm"
   ]
  },
  {
   "cell_type": "code",
   "execution_count": 4,
   "id": "6336eeb4",
   "metadata": {},
   "outputs": [
    {
     "name": "stderr",
     "output_type": "stream",
     "text": [
      "INFO:pisa.facilities:Retrieving existing facilities with tags {'amenity': 'hospital', 'building': 'hospital'} using OSM.\n",
      "/Users/catherine/code/Public-Infrastructure-Service-Access/pisa/facilities.py:63: UserWarning: Geometry is in a geographic CRS. Results from 'centroid' are likely incorrect. Use 'GeoSeries.to_crs()' to re-project geometries to a projected CRS before this operation.\n",
      "\n",
      "  facilities_gdf[\"longitude\"] = facilities_gdf.geometry.centroid.x\n",
      "/Users/catherine/code/Public-Infrastructure-Service-Access/pisa/facilities.py:64: UserWarning: Geometry is in a geographic CRS. Results from 'centroid' are likely incorrect. Use 'GeoSeries.to_crs()' to re-project geometries to a projected CRS before this operation.\n",
      "\n",
      "  facilities_gdf[\"latitude\"] = facilities_gdf.geometry.centroid.y\n",
      "INFO:pisa.facilities:Successfully retrieved existing facilities from OSM.\n"
     ]
    }
   ],
   "source": [
    "hospitals = Facilities(admin_area_boundaries=baucau).get_existing_facilities()\n",
    "\n",
    "# todo: suppress user warning Geometry is in a geographic CRS, and\n",
    "# add documentation on why this is ok"
   ]
  },
  {
   "cell_type": "code",
   "execution_count": 6,
   "id": "961db65a",
   "metadata": {},
   "outputs": [
    {
     "data": {
      "text/html": [
       "<div>\n",
       "<style scoped>\n",
       "    .dataframe tbody tr th:only-of-type {\n",
       "        vertical-align: middle;\n",
       "    }\n",
       "\n",
       "    .dataframe tbody tr th {\n",
       "        vertical-align: top;\n",
       "    }\n",
       "\n",
       "    .dataframe thead th {\n",
       "        text-align: right;\n",
       "    }\n",
       "</style>\n",
       "<table border=\"1\" class=\"dataframe\">\n",
       "  <thead>\n",
       "    <tr style=\"text-align: right;\">\n",
       "      <th></th>\n",
       "      <th>longitude</th>\n",
       "      <th>latitude</th>\n",
       "    </tr>\n",
       "    <tr>\n",
       "      <th>osmid</th>\n",
       "      <th></th>\n",
       "      <th></th>\n",
       "    </tr>\n",
       "  </thead>\n",
       "  <tbody>\n",
       "    <tr>\n",
       "      <th>1777614876</th>\n",
       "      <td>126.600478</td>\n",
       "      <td>-8.547331</td>\n",
       "    </tr>\n",
       "    <tr>\n",
       "      <th>1777614896</th>\n",
       "      <td>126.653327</td>\n",
       "      <td>-8.628429</td>\n",
       "    </tr>\n",
       "    <tr>\n",
       "      <th>1777615024</th>\n",
       "      <td>126.596990</td>\n",
       "      <td>-8.474279</td>\n",
       "    </tr>\n",
       "    <tr>\n",
       "      <th>1777615035</th>\n",
       "      <td>126.726988</td>\n",
       "      <td>-8.656430</td>\n",
       "    </tr>\n",
       "    <tr>\n",
       "      <th>1777615036</th>\n",
       "      <td>126.684393</td>\n",
       "      <td>-8.567978</td>\n",
       "    </tr>\n",
       "  </tbody>\n",
       "</table>\n",
       "</div>"
      ],
      "text/plain": [
       "             longitude  latitude\n",
       "osmid                           \n",
       "1777614876  126.600478 -8.547331\n",
       "1777614896  126.653327 -8.628429\n",
       "1777615024  126.596990 -8.474279\n",
       "1777615035  126.726988 -8.656430\n",
       "1777615036  126.684393 -8.567978"
      ]
     },
     "execution_count": 6,
     "metadata": {},
     "output_type": "execute_result"
    }
   ],
   "source": [
    "hospitals.head()"
   ]
  },
  {
   "cell_type": "markdown",
   "id": "43c1e483",
   "metadata": {},
   "source": [
    "### Get population from WorldPop"
   ]
  },
  {
   "cell_type": "code",
   "execution_count": null,
   "id": "876d9b9127d776b4",
   "metadata": {
    "ExecuteTime": {
     "end_time": "2025-04-02T11:37:28.478583Z",
     "start_time": "2025-04-02T11:37:28.473967Z"
    }
   },
   "outputs": [
    {
     "data": {
      "text/html": [
       "<div>\n",
       "<style scoped>\n",
       "    .dataframe tbody tr th:only-of-type {\n",
       "        vertical-align: middle;\n",
       "    }\n",
       "\n",
       "    .dataframe tbody tr th {\n",
       "        vertical-align: top;\n",
       "    }\n",
       "\n",
       "    .dataframe thead th {\n",
       "        text-align: right;\n",
       "    }\n",
       "</style>\n",
       "<table border=\"1\" class=\"dataframe\">\n",
       "  <thead>\n",
       "    <tr style=\"text-align: right;\">\n",
       "      <th></th>\n",
       "      <th>ID</th>\n",
       "      <th>longitude</th>\n",
       "      <th>latitude</th>\n",
       "      <th>population</th>\n",
       "      <th>geometry</th>\n",
       "    </tr>\n",
       "  </thead>\n",
       "  <tbody>\n",
       "    <tr>\n",
       "      <th>0</th>\n",
       "      <td>0</td>\n",
       "      <td>126.14917</td>\n",
       "      <td>-8.67333</td>\n",
       "      <td>0.10</td>\n",
       "      <td>POINT (126.14917 -8.67333)</td>\n",
       "    </tr>\n",
       "    <tr>\n",
       "      <th>1</th>\n",
       "      <td>1</td>\n",
       "      <td>126.14917</td>\n",
       "      <td>-8.67250</td>\n",
       "      <td>0.09</td>\n",
       "      <td>POINT (126.14917 -8.6725)</td>\n",
       "    </tr>\n",
       "    <tr>\n",
       "      <th>2</th>\n",
       "      <td>2</td>\n",
       "      <td>126.15000</td>\n",
       "      <td>-8.67333</td>\n",
       "      <td>0.10</td>\n",
       "      <td>POINT (126.15 -8.67333)</td>\n",
       "    </tr>\n",
       "    <tr>\n",
       "      <th>3</th>\n",
       "      <td>3</td>\n",
       "      <td>126.15000</td>\n",
       "      <td>-8.67250</td>\n",
       "      <td>0.09</td>\n",
       "      <td>POINT (126.15 -8.6725)</td>\n",
       "    </tr>\n",
       "    <tr>\n",
       "      <th>4</th>\n",
       "      <td>4</td>\n",
       "      <td>126.15000</td>\n",
       "      <td>-8.67167</td>\n",
       "      <td>0.09</td>\n",
       "      <td>POINT (126.15 -8.67167)</td>\n",
       "    </tr>\n",
       "  </tbody>\n",
       "</table>\n",
       "</div>"
      ],
      "text/plain": [
       "   ID  longitude  latitude  population                    geometry\n",
       "0   0  126.14917  -8.67333        0.10  POINT (126.14917 -8.67333)\n",
       "1   1  126.14917  -8.67250        0.09   POINT (126.14917 -8.6725)\n",
       "2   2  126.15000  -8.67333        0.10     POINT (126.15 -8.67333)\n",
       "3   3  126.15000  -8.67250        0.09      POINT (126.15 -8.6725)\n",
       "4   4  126.15000  -8.67167        0.09     POINT (126.15 -8.67167)"
      ]
     },
     "execution_count": 5,
     "metadata": {},
     "output_type": "execute_result"
    }
   ],
   "source": [
    "# TODO: why \"ID\" column? extra index for what reason? Maybe becomes apparent later?\n",
    "\n",
    "population = WorldpopPopulation(\n",
    "    admin_area_boundaries=baucau,\n",
    "    iso3_country_code=timor_leste.get_iso3_country_code()                \n",
    ").get_population_gdf()\n",
    "\n",
    "population.head()"
   ]
  },
  {
   "cell_type": "markdown",
   "id": "87d144f637f69666",
   "metadata": {},
   "source": [
    "### Alternatively: get population from facebook"
   ]
  },
  {
   "cell_type": "code",
   "execution_count": 8,
   "id": "f364250b",
   "metadata": {},
   "outputs": [
    {
     "name": "stderr",
     "output_type": "stream",
     "text": [
      "INFO:hdx.api.configuration:No HDX base configuration parameter. Using default base configuration file: /Users/catherine/Library/Caches/pypoetry/virtualenvs/gpbp-ys_3FNdB-py3.10/lib/python3.10/site-packages/hdx/api/hdx_base_configuration.yml.\n",
      "INFO:hdx.api.configuration:Loading HDX base configuration from: /Users/catherine/Library/Caches/pypoetry/virtualenvs/gpbp-ys_3FNdB-py3.10/lib/python3.10/site-packages/hdx/api/hdx_base_configuration.yml\n"
     ]
    },
    {
     "name": "stderr",
     "output_type": "stream",
     "text": [
      "INFO:hdx.api.configuration:No HDX configuration parameter and no configuration file at default path: /Users/catherine/.hdx_configuration.yml.\n",
      "INFO:hdx.api.configuration:Read only access to HDX: True\n"
     ]
    },
    {
     "data": {
      "text/html": [
       "<div>\n",
       "<style scoped>\n",
       "    .dataframe tbody tr th:only-of-type {\n",
       "        vertical-align: middle;\n",
       "    }\n",
       "\n",
       "    .dataframe tbody tr th {\n",
       "        vertical-align: top;\n",
       "    }\n",
       "\n",
       "    .dataframe thead th {\n",
       "        text-align: right;\n",
       "    }\n",
       "</style>\n",
       "<table border=\"1\" class=\"dataframe\">\n",
       "  <thead>\n",
       "    <tr style=\"text-align: right;\">\n",
       "      <th></th>\n",
       "      <th>ID</th>\n",
       "      <th>longitude</th>\n",
       "      <th>latitude</th>\n",
       "      <th>population</th>\n",
       "      <th>geometry</th>\n",
       "    </tr>\n",
       "  </thead>\n",
       "  <tbody>\n",
       "    <tr>\n",
       "      <th>0</th>\n",
       "      <td>0</td>\n",
       "      <td>126.17236</td>\n",
       "      <td>-8.50986</td>\n",
       "      <td>5.44</td>\n",
       "      <td>POINT (126.17236 -8.50986)</td>\n",
       "    </tr>\n",
       "    <tr>\n",
       "      <th>1</th>\n",
       "      <td>1</td>\n",
       "      <td>126.17681</td>\n",
       "      <td>-8.50625</td>\n",
       "      <td>5.44</td>\n",
       "      <td>POINT (126.17681 -8.50625)</td>\n",
       "    </tr>\n",
       "    <tr>\n",
       "      <th>2</th>\n",
       "      <td>2</td>\n",
       "      <td>126.17736</td>\n",
       "      <td>-8.51042</td>\n",
       "      <td>5.44</td>\n",
       "      <td>POINT (126.17736 -8.51042)</td>\n",
       "    </tr>\n",
       "    <tr>\n",
       "      <th>3</th>\n",
       "      <td>3</td>\n",
       "      <td>126.18069</td>\n",
       "      <td>-8.51208</td>\n",
       "      <td>5.44</td>\n",
       "      <td>POINT (126.18069 -8.51208)</td>\n",
       "    </tr>\n",
       "    <tr>\n",
       "      <th>4</th>\n",
       "      <td>4</td>\n",
       "      <td>126.18097</td>\n",
       "      <td>-8.51264</td>\n",
       "      <td>5.44</td>\n",
       "      <td>POINT (126.18097 -8.51264)</td>\n",
       "    </tr>\n",
       "  </tbody>\n",
       "</table>\n",
       "</div>"
      ],
      "text/plain": [
       "   ID  longitude  latitude  population                    geometry\n",
       "0   0  126.17236  -8.50986        5.44  POINT (126.17236 -8.50986)\n",
       "1   1  126.17681  -8.50625        5.44  POINT (126.17681 -8.50625)\n",
       "2   2  126.17736  -8.51042        5.44  POINT (126.17736 -8.51042)\n",
       "3   3  126.18069  -8.51208        5.44  POINT (126.18069 -8.51208)\n",
       "4   4  126.18097  -8.51264        5.44  POINT (126.18097 -8.51264)"
      ]
     },
     "execution_count": 8,
     "metadata": {},
     "output_type": "execute_result"
    }
   ],
   "source": [
    "population_fb = FacebookPopulation(\n",
    "    admin_area_boundaries=baucau,\n",
    "    iso3_country_code=timor_leste.get_iso3_country_code()                \n",
    ").get_population_gdf()\n",
    "\n",
    "population_fb.head()"
   ]
  },
  {
   "cell_type": "markdown",
   "id": "36fd2c85",
   "metadata": {},
   "source": [
    "### Isopolygons\n",
    "\n",
    "Here we make some choices:\n",
    "- mode of transport \n",
    "- distance type\n",
    "\n",
    "Valid values are in the script pisa.constants"
   ]
  },
  {
   "cell_type": "markdown",
   "id": "bfea065f",
   "metadata": {},
   "source": [
    "#### Option 1: using OSM\n",
    "\n",
    "For this, we need to get the road network from osmnx"
   ]
  },
  {
   "cell_type": "code",
   "execution_count": null,
   "id": "071c3fce",
   "metadata": {},
   "outputs": [],
   "source": [
    "from pisa.osm_road_network import OsmRoadNetwork\n",
    "\n",
    "# suppose the roads here are difficult: the user should be able to adjust the fallback speed to a lower value\n",
    "\n",
    "road_network = OsmRoadNetwork(\n",
    "    admin_area_boundaries=baucau,\n",
    "    mode_of_transport=\"driving\",\n",
    "    distance_type=\"travel_time\",\n",
    "    fallback_speed=30\n",
    ").get_osm_road_network()"
   ]
  },
  {
   "cell_type": "markdown",
   "id": "0b7fa31c",
   "metadata": {},
   "source": []
  }
 ],
 "metadata": {
  "kernelspec": {
   "display_name": "gpbp-ys_3FNdB-py3.10",
   "language": "python",
   "name": "python3"
  },
  "language_info": {
   "codemirror_mode": {
    "name": "ipython",
    "version": 3
   },
   "file_extension": ".py",
   "mimetype": "text/x-python",
   "name": "python",
   "nbconvert_exporter": "python",
   "pygments_lexer": "ipython3",
   "version": "3.10.15"
  }
 },
 "nbformat": 4,
 "nbformat_minor": 5
}
