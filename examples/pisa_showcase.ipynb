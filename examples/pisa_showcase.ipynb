{
 "cells": [
  {
   "cell_type": "code",
   "execution_count": null,
   "id": "d8dc4151",
   "metadata": {},
   "outputs": [],
   "source": [
    "%load_ext autoreload\n",
    "%autoreload 2"
   ]
  },
  {
   "cell_type": "code",
   "execution_count": null,
   "id": "3aad6442",
   "metadata": {},
   "outputs": [],
   "source": [
    "from pisa.administrative_area import AdministrativeArea\n",
    "from pisa.facilities import Facilities\n",
    "from pisa.population import FacebookPopulation, WorldpopPopulation\n"
   ]
  },
  {
   "cell_type": "markdown",
   "id": "714770cb",
   "metadata": {},
   "source": [
    "### Define administrative area\n",
    "\n",
    "Let op: the administrative area is a country because of the package that we use for fetching the data (gadm)! \n",
    "\n",
    "The naming is confusing: we want the administrative area to be a subset of a country (in this case, the administrative area should be Baucau). \n",
    "\n",
    "Should be easy to fix once we change gadm to pygadm (see issue #59 on GitHub)"
   ]
  },
  {
   "cell_type": "code",
   "execution_count": null,
   "id": "2883d7fc",
   "metadata": {},
   "outputs": [],
   "source": [
    "timor_leste = AdministrativeArea(country_name=\"Timor-Leste\", admin_level=1)\n",
    "\n",
    "# these are the boundaries of Baucau\n",
    "# type: Polygon\n",
    "baucau = timor_leste.get_admin_area_boundaries(\"Baucau\")"
   ]
  },
  {
   "cell_type": "markdown",
   "id": "f16096fa",
   "metadata": {},
   "source": [
    "### Get hospitals from osm"
   ]
  },
  {
   "cell_type": "code",
   "execution_count": null,
   "id": "6336eeb4",
   "metadata": {},
   "outputs": [],
   "source": [
    "hospitals = Facilities(admin_area_boundaries=baucau).get_existing_facilities()\n",
    "\n",
    "# todo: suppress user warning Geometry is in a geographic CRS, and\n",
    "# add documentation on why this is ok"
   ]
  },
  {
   "cell_type": "code",
   "execution_count": null,
   "id": "961db65a",
   "metadata": {},
   "outputs": [],
   "source": [
    "hospitals.head()"
   ]
  },
  {
   "cell_type": "markdown",
   "id": "43c1e483",
   "metadata": {},
   "source": [
    "### Get population from WorldPop"
   ]
  },
  {
   "cell_type": "code",
   "execution_count": null,
   "id": "876d9b9127d776b4",
   "metadata": {
    "ExecuteTime": {
     "end_time": "2025-04-02T11:37:28.478583Z",
     "start_time": "2025-04-02T11:37:28.473967Z"
    }
   },
   "outputs": [],
   "source": [
    "# TODO: why \"ID\" column? extra index for what reason? Maybe becomes apparent later?\n",
    "\n",
    "population = WorldpopPopulation(\n",
    "    admin_area_boundaries=baucau, iso3_country_code=timor_leste.get_iso3_country_code()\n",
    ").get_population_gdf()\n",
    "\n",
    "population.head()"
   ]
  },
  {
   "cell_type": "markdown",
   "id": "87d144f637f69666",
   "metadata": {},
   "source": [
    "### Alternatively: get population from facebook"
   ]
  },
  {
   "cell_type": "code",
   "execution_count": null,
   "id": "f364250b",
   "metadata": {},
   "outputs": [],
   "source": [
    "population_fb = FacebookPopulation(\n",
    "    admin_area_boundaries=baucau, iso3_country_code=timor_leste.get_iso3_country_code()\n",
    ").get_population_gdf()\n",
    "\n",
    "population_fb.head()"
   ]
  },
  {
   "cell_type": "markdown",
   "id": "36fd2c85",
   "metadata": {},
   "source": [
    "### Isopolygons\n",
    "\n",
    "Here we make some choices:\n",
    "- mode of transport \n",
    "- distance type\n",
    "\n",
    "Valid values are in the script pisa.constants"
   ]
  },
  {
   "cell_type": "markdown",
   "id": "bfea065f",
   "metadata": {},
   "source": [
    "#### Option 1: using OSM\n",
    "\n",
    "For this, we need to get the road network from osmnx"
   ]
  },
  {
   "cell_type": "code",
   "execution_count": null,
   "id": "071c3fce",
   "metadata": {},
   "outputs": [],
   "source": [
    "from pisa.osm_road_network import OsmRoadNetwork\n",
    "\n",
    "road_network = OsmRoadNetwork(\n",
    "    admin_area_boundaries=baucau, mode_of_transport=\"driving\", distance_type=\"travel_time\", fallback_speed=20.5\n",
    ").get_osm_road_network()"
   ]
  },
  {
   "cell_type": "markdown",
   "id": "0b7fa31c",
   "metadata": {},
   "source": []
  }
 ],
 "metadata": {
  "kernelspec": {
   "display_name": "pisa",
   "language": "python",
   "name": "python3"
  },
  "language_info": {
   "codemirror_mode": {
    "name": "ipython",
    "version": 3
   },
   "file_extension": ".py",
   "mimetype": "text/x-python",
   "name": "python",
   "nbconvert_exporter": "python",
   "pygments_lexer": "ipython3",
   "version": "3.10.15"
  }
 },
 "nbformat": 4,
 "nbformat_minor": 5
}
