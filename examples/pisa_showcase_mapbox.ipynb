{
 "cells": [
  {
   "cell_type": "code",
   "execution_count": null,
   "id": "94bda005",
   "metadata": {},
   "outputs": [],
   "source": [
    "%load_ext autoreload\n",
    "%autoreload 2"
   ]
  },
  {
   "cell_type": "code",
   "execution_count": null,
   "id": "d6297956",
   "metadata": {},
   "outputs": [],
   "source": [
    "from functools import partial\n",
    "\n",
    "from optimization import jg_opt\n",
    "from pisa.administrative_area import AdministrativeArea\n",
    "from pisa.facilities import Facilities\n",
    "from pisa.population import WorldpopPopulation\n",
    "from pisa.population_served_by_isopolygons import get_population_served_by_isopolygons\n",
    "from pisa.visualisation import (\n",
    "    plot_facilities,\n",
    "    plot_isochrones,\n",
    "    plot_population,\n",
    "    plot_population_heatmap,\n",
    ")\n"
   ]
  },
  {
   "cell_type": "markdown",
   "id": "77f88efc",
   "metadata": {},
   "source": [
    "### Define Administrative Area\n",
    "\n",
    "Let op: the administrative area is a country because of the package that we use for fetching the data (gadm).\n",
    "\n",
    "The naming is confusing: we want the administrative area to be a subset of a country (in this case, the administrative area should be Baucau). \n",
    "\n",
    "Should be easy to fix once we change gadm to pygadm (see issue #59 on GitHub)"
   ]
  },
  {
   "cell_type": "code",
   "execution_count": null,
   "id": "e471b899",
   "metadata": {},
   "outputs": [],
   "source": [
    "timor_leste = AdministrativeArea(country_name=\"Timor-Leste\", admin_level=1)\n",
    "\n",
    "# these are the boundaries of Baucau\n",
    "# type: Polygon\n",
    "baucau = timor_leste.get_admin_area_boundaries(\"Baucau\")"
   ]
  },
  {
   "cell_type": "markdown",
   "id": "911339dd",
   "metadata": {},
   "source": [
    "### Facilities"
   ]
  },
  {
   "cell_type": "markdown",
   "id": "19799a9d",
   "metadata": {},
   "source": [
    "#### Get existing facilities (in our case, hospitals) from OSM"
   ]
  },
  {
   "cell_type": "code",
   "execution_count": null,
   "id": "81418cf9",
   "metadata": {},
   "outputs": [],
   "source": [
    "hospitals_df = Facilities(admin_area_boundaries=baucau).get_existing_facilities()"
   ]
  },
  {
   "cell_type": "code",
   "execution_count": null,
   "id": "de1f5d48",
   "metadata": {},
   "outputs": [],
   "source": [
    "plot_facilities(hospitals_df, baucau)"
   ]
  },
  {
   "cell_type": "markdown",
   "id": "7737e7ee",
   "metadata": {},
   "source": [
    "#### Estimate potential locations for new facilities\n"
   ]
  },
  {
   "cell_type": "code",
   "execution_count": null,
   "id": "0852b068",
   "metadata": {},
   "outputs": [],
   "source": [
    "potential_hospitals_df = Facilities(\n",
    "    admin_area_boundaries=baucau\n",
    ").estimate_potential_facilities(spacing=0.05)\n",
    "\n",
    "plot_facilities(potential_hospitals_df, baucau)"
   ]
  },
  {
   "cell_type": "markdown",
   "id": "67d5b933",
   "metadata": {},
   "source": [
    "### Get population \n",
    "In this example, from WorldPop"
   ]
  },
  {
   "cell_type": "code",
   "execution_count": null,
   "id": "69528831",
   "metadata": {},
   "outputs": [],
   "source": [
    "# TODO: why \"ID\" column? extra index for what reason? Maybe becomes apparent later?\n",
    "\n",
    "population_gdf = WorldpopPopulation(\n",
    "    admin_area_boundaries=baucau, iso3_country_code=timor_leste.get_iso3_country_code()\n",
    ").get_population_gdf()\n",
    "\n",
    "population_gdf.head()"
   ]
  },
  {
   "cell_type": "code",
   "execution_count": null,
   "id": "70a046c4",
   "metadata": {},
   "outputs": [],
   "source": [
    "plot_population_heatmap(population_gdf, baucau)"
   ]
  },
  {
   "cell_type": "code",
   "execution_count": null,
   "id": "92fdbb0c",
   "metadata": {},
   "outputs": [],
   "source": [
    "plot_population(population_gdf, baucau, random_sample_n=1000)"
   ]
  },
  {
   "cell_type": "markdown",
   "id": "0ba0b3d0",
   "metadata": {},
   "source": [
    "### Calculate isopolygons\n",
    "\n",
    "Here we make some choices:\n",
    "- distance type\n",
    "- distance values\n",
    "- mode of transport \n",
    "\n",
    "Valid values for constants are in the script pisa.constants"
   ]
  },
  {
   "cell_type": "code",
   "execution_count": null,
   "id": "3ddc595c",
   "metadata": {},
   "outputs": [],
   "source": [
    "DISTANCE_TYPE = \"length\"\n",
    "\n",
    "DISTANCE_VALUES = [2000, 5000, 10000]\n",
    "\n",
    "MODE_OF_TRANSPORT = \"driving\""
   ]
  },
  {
   "cell_type": "markdown",
   "id": "6e13f8bd",
   "metadata": {},
   "source": [
    "#### Using Mapbox API"
   ]
  },
  {
   "cell_type": "code",
   "execution_count": null,
   "id": "8f7e221b",
   "metadata": {},
   "outputs": [],
   "source": [
    "import os\n",
    "\n",
    "from dotenv import load_dotenv\n",
    "\n",
    "# keep the API keys in a `.env` file in the local root directory\n",
    "load_dotenv()\n",
    "\n",
    "\n",
    "MAPBOX_API_TOKEN = os.getenv(\"MAPBOX_API_TOKEN\")\n",
    "CBC_SOLVER_PATH = os.getenv(\n",
    "    \"CBC_SOLVER_PATH\"\n",
    ")  # path to the cbc executable (e.g. /opt/homebrew/bin/cbc)\n"
   ]
  },
  {
   "cell_type": "markdown",
   "id": "3b4dbf31",
   "metadata": {},
   "source": [
    "#### Calculate isopolygons for existing facilities"
   ]
  },
  {
   "cell_type": "code",
   "execution_count": null,
   "id": "10153e66",
   "metadata": {},
   "outputs": [],
   "source": [
    "from pisa.isopolygons import MapboxIsopolygonCalculator\n",
    "\n",
    "isopolygons_existing_facilities = MapboxIsopolygonCalculator(\n",
    "    facilities_df=hospitals_df,\n",
    "    distance_type=DISTANCE_TYPE,\n",
    "    distance_values=DISTANCE_VALUES,\n",
    "    mode_of_transport=MODE_OF_TRANSPORT,\n",
    "    mapbox_api_token=MAPBOX_API_TOKEN,\n",
    ").calculate_isopolygons()"
   ]
  },
  {
   "cell_type": "code",
   "execution_count": null,
   "id": "1b877e7d",
   "metadata": {},
   "outputs": [],
   "source": [
    "isopolygons_existing_facilities.head()"
   ]
  },
  {
   "cell_type": "code",
   "execution_count": null,
   "id": "152ec5a3",
   "metadata": {},
   "outputs": [],
   "source": [
    "plot_isochrones(isopolygons_existing_facilities, baucau)"
   ]
  },
  {
   "cell_type": "markdown",
   "id": "7d5b8ba0",
   "metadata": {},
   "source": [
    "#### Calculate isopolygons for potential facilities"
   ]
  },
  {
   "cell_type": "code",
   "execution_count": null,
   "id": "8dc8f172",
   "metadata": {},
   "outputs": [],
   "source": [
    "isopolygons_potential_facilities = MapboxIsopolygonCalculator(\n",
    "    facilities_df=potential_hospitals_df,\n",
    "    distance_type=DISTANCE_TYPE,\n",
    "    distance_values=DISTANCE_VALUES,\n",
    "    mode_of_transport=MODE_OF_TRANSPORT,\n",
    "    mapbox_api_token=MAPBOX_API_TOKEN,\n",
    ").calculate_isopolygons()\n",
    "\n",
    "\n",
    "isopolygons_potential_facilities.head()"
   ]
  },
  {
   "cell_type": "markdown",
   "id": "a7fa4038",
   "metadata": {},
   "source": [
    "### Prepare optimization data\n",
    "\n"
   ]
  },
  {
   "cell_type": "code",
   "execution_count": null,
   "id": "6e2b5a58",
   "metadata": {},
   "outputs": [],
   "source": [
    "population_served_current = get_population_served_by_isopolygons(\n",
    "    grouped_population=population_gdf, isopolygons=isopolygons_existing_facilities\n",
    ")\n",
    "\n",
    "current = {DISTANCE_TYPE: population_served_current}"
   ]
  },
  {
   "cell_type": "code",
   "execution_count": null,
   "id": "9da67ce3",
   "metadata": {},
   "outputs": [],
   "source": [
    "population_served_potential = get_population_served_by_isopolygons(\n",
    "    grouped_population=population_gdf, isopolygons=isopolygons_potential_facilities\n",
    ")\n",
    "\n",
    "potential = {DISTANCE_TYPE: population_served_potential}"
   ]
  },
  {
   "cell_type": "code",
   "execution_count": null,
   "id": "7e884306",
   "metadata": {},
   "outputs": [],
   "source": [
    "population_count = population_gdf.population.values"
   ]
  },
  {
   "cell_type": "code",
   "execution_count": null,
   "id": "1c7e5b4d",
   "metadata": {},
   "outputs": [],
   "source": [
    "BUDGET = [\n",
    "    5,\n",
    "    20,\n",
    "    50,\n",
    "]  # budget for the optimization in terms of how many locations can be built\n",
    "\n",
    "cbc_optimize = partial(jg_opt.OpenOptimize, solver_path=CBC_SOLVER_PATH)\n",
    "\n",
    "values, solutions = jg_opt.Solve(\n",
    "    household=population_count,\n",
    "    current=current,\n",
    "    potential=potential,\n",
    "    accessibility=DISTANCE_TYPE,\n",
    "    budgets=BUDGET,\n",
    "    optimize=cbc_optimize,\n",
    "    type=\"ID\",\n",
    ")"
   ]
  },
  {
   "cell_type": "code",
   "execution_count": null,
   "id": "300fd824",
   "metadata": {},
   "outputs": [],
   "source": [
    "values"
   ]
  },
  {
   "cell_type": "code",
   "execution_count": null,
   "id": "2c88985e",
   "metadata": {},
   "outputs": [],
   "source": [
    "solutions"
   ]
  },
  {
   "cell_type": "code",
   "execution_count": null,
   "id": "9fad0cf5",
   "metadata": {},
   "outputs": [],
   "source": []
  }
 ],
 "metadata": {
  "kernelspec": {
   "display_name": "gpbp-ys_3FNdB-py3.10",
   "language": "python",
   "name": "python3"
  },
  "language_info": {
   "codemirror_mode": {
    "name": "ipython",
    "version": 3
   },
   "file_extension": ".py",
   "mimetype": "text/x-python",
   "name": "python",
   "nbconvert_exporter": "python",
   "pygments_lexer": "ipython3",
   "version": "3.10.15"
  }
 },
 "nbformat": 4,
 "nbformat_minor": 5
}
