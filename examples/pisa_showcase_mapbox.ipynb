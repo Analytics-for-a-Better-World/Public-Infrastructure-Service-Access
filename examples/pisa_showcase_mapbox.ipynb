{
 "cells": [
  {
   "cell_type": "code",
   "id": "94bda005",
   "metadata": {},
   "source": [
    "%load_ext autoreload\n",
    "%autoreload 2"
   ],
   "outputs": [],
   "execution_count": null
  },
  {
   "cell_type": "code",
   "id": "d6297956",
   "metadata": {},
   "source": [
    "import warnings\n",
    "\n",
    "from functools import partial\n",
    "\n",
    "from optimization import jg_opt\n",
    "from pisa.administrative_area import AdministrativeArea\n",
    "from pisa.facilities import Facilities\n",
    "from pisa.population import WorldpopPopulation\n",
    "from pisa.population_served_by_isopolygons import get_population_served_by_isopolygons\n",
    "from pisa.visualisation import (\n",
    "    plot_facilities,\n",
    "    plot_isochrones,\n",
    "    plot_population,\n",
    "    plot_population_heatmap,\n",
    ")\n"
   ],
   "outputs": [],
   "execution_count": null
  },
  {
   "cell_type": "markdown",
   "id": "77f88efc",
   "metadata": {},
   "source": [
    "### Define Administrative Area\n",
    "\n",
    "Let op: the administrative area is a country because of the package that we use for fetching the data (gadm).\n",
    "\n",
    "The naming is confusing: we want the administrative area to be a subset of a country (in this case, the administrative area should be Baucau). \n",
    "\n",
    "Should be easy to fix once we change gadm to pygadm (see issue #59 on GitHub)"
   ]
  },
  {
   "cell_type": "code",
   "id": "e471b899",
   "metadata": {},
   "source": [
    "timor_leste = AdministrativeArea(country_name=\"Timor-Leste\", admin_level=1)\n",
    "\n",
    "# these are the boundaries of Baucau\n",
    "# type: Polygon\n",
    "baucau = timor_leste.get_admin_area_boundaries(\"Baucau\")"
   ],
   "outputs": [],
   "execution_count": null
  },
  {
   "cell_type": "markdown",
   "id": "911339dd",
   "metadata": {},
   "source": [
    "### Facilities"
   ]
  },
  {
   "cell_type": "markdown",
   "id": "19799a9d",
   "metadata": {},
   "source": [
    "#### Get existing facilities (in our case, hospitals) from OSM"
   ]
  },
  {
   "cell_type": "code",
   "id": "81418cf9",
   "metadata": {},
   "source": [
    "hospitals_df = Facilities(admin_area_boundaries=baucau).get_existing_facilities()"
   ],
   "outputs": [],
   "execution_count": null
  },
  {
   "cell_type": "code",
   "id": "de1f5d48",
   "metadata": {},
   "source": [
    "plot_facilities(hospitals_df, baucau)"
   ],
   "outputs": [],
   "execution_count": null
  },
  {
   "cell_type": "markdown",
   "id": "7737e7ee",
   "metadata": {},
   "source": [
    "#### Estimate potential locations for new facilities\n"
   ]
  },
  {
   "cell_type": "code",
   "id": "0852b068",
   "metadata": {},
   "source": [
    "potential_hospitals_df = Facilities(\n",
    "    admin_area_boundaries=baucau\n",
    ").estimate_potential_facilities(spacing=0.05)\n",
    "\n",
    "plot_facilities(potential_hospitals_df, baucau)"
   ],
   "outputs": [],
   "execution_count": null
  },
  {
   "cell_type": "markdown",
   "id": "67d5b933",
   "metadata": {},
   "source": [
    "### Get population \n",
    "In this example, from WorldPop"
   ]
  },
  {
   "cell_type": "code",
   "id": "69528831",
   "metadata": {},
   "source": [
    "population_gdf = WorldpopPopulation(\n",
    "    admin_area_boundaries=baucau, iso3_country_code=timor_leste.get_iso3_country_code()\n",
    ").get_population_gdf()\n",
    "\n",
    "population_gdf.head()"
   ],
   "outputs": [],
   "execution_count": null
  },
  {
   "cell_type": "code",
   "id": "70a046c4",
   "metadata": {},
   "source": [
    "plot_population_heatmap(population_gdf, baucau)"
   ],
   "outputs": [],
   "execution_count": null
  },
  {
   "cell_type": "code",
   "id": "92fdbb0c",
   "metadata": {},
   "source": [
    "plot_population(population_gdf, baucau, random_sample_n=1000)"
   ],
   "outputs": [],
   "execution_count": null
  },
  {
   "cell_type": "markdown",
   "id": "0ba0b3d0",
   "metadata": {},
   "source": [
    "### Calculate isopolygons\n",
    "\n",
    "Here we make some choices:\n",
    "- distance type\n",
    "- distance values\n",
    "- mode of transport \n",
    "\n",
    "Valid values for constants are in the script pisa.constants"
   ]
  },
  {
   "cell_type": "code",
   "id": "3ddc595c",
   "metadata": {},
   "source": [
    "DISTANCE_TYPE = \"length\"\n",
    "\n",
    "DISTANCE_VALUES = [2000, 5000, 10000]\n",
    "\n",
    "MODE_OF_TRANSPORT = \"driving\""
   ],
   "outputs": [],
   "execution_count": null
  },
  {
   "cell_type": "markdown",
   "id": "6e13f8bd",
   "metadata": {},
   "source": [
    "#### Using Mapbox API"
   ]
  },
  {
   "cell_type": "code",
   "id": "8f7e221b",
   "metadata": {},
   "source": [
    "import os\n",
    "\n",
    "from dotenv import load_dotenv\n",
    "\n",
    "# keep the API keys in a `.env` file in the local root directory\n",
    "load_dotenv()\n",
    "\n",
    "\n",
    "MAPBOX_API_TOKEN = os.getenv(\"MAPBOX_API_TOKEN\")\n",
    "CBC_SOLVER_PATH = os.getenv(\n",
    "    \"CBC_SOLVER_PATH\"\n",
    ")  # path to the cbc executable (e.g. /opt/homebrew/bin/cbc)\n"
   ],
   "outputs": [],
   "execution_count": null
  },
  {
   "cell_type": "markdown",
   "id": "3b4dbf31",
   "metadata": {},
   "source": [
    "#### Calculate isopolygons for existing facilities"
   ]
  },
  {
   "cell_type": "code",
   "id": "10153e66",
   "metadata": {},
   "source": [
    "from pisa.isopolygons import MapboxIsopolygonCalculator\n",
    "\n",
    "with warnings.catch_warnings():\n",
    "    warnings.simplefilter(\"ignore\", category=UserWarning)\n",
    "    isopolygons_existing_facilities = MapboxIsopolygonCalculator(\n",
    "    facilities_df=hospitals_df,\n",
    "    distance_type=DISTANCE_TYPE,\n",
    "    distance_values=DISTANCE_VALUES,\n",
    "    mode_of_transport=MODE_OF_TRANSPORT,\n",
    "    mapbox_api_token=MAPBOX_API_TOKEN,\n",
    "    ).calculate_isopolygons()"
   ],
   "outputs": [],
   "execution_count": null
  },
  {
   "cell_type": "code",
   "id": "1b877e7d",
   "metadata": {},
   "source": [
    "isopolygons_existing_facilities.head()"
   ],
   "outputs": [],
   "execution_count": null
  },
  {
   "cell_type": "code",
   "id": "152ec5a3",
   "metadata": {},
   "source": [
    "plot_isochrones(isopolygons_existing_facilities, baucau)"
   ],
   "outputs": [],
   "execution_count": null
  },
  {
   "cell_type": "markdown",
   "id": "7d5b8ba0",
   "metadata": {},
   "source": [
    "#### Calculate isopolygons for potential facilities"
   ]
  },
  {
   "cell_type": "code",
   "id": "8dc8f172",
   "metadata": {},
   "source": [
    "with warnings.catch_warnings():\n",
    "    warnings.simplefilter(\"ignore\", category=UserWarning)\n",
    "    isopolygons_potential_facilities = MapboxIsopolygonCalculator(\n",
    "    facilities_df=potential_hospitals_df,\n",
    "    distance_type=DISTANCE_TYPE,\n",
    "    distance_values=DISTANCE_VALUES,\n",
    "    mode_of_transport=MODE_OF_TRANSPORT,\n",
    "    mapbox_api_token=MAPBOX_API_TOKEN,\n",
    "    ).calculate_isopolygons()"
   ],
   "outputs": [],
   "execution_count": null
  },
  {
   "cell_type": "markdown",
   "id": "a7fa4038",
   "metadata": {},
   "source": [
    "### Prepare optimization data\n",
    "\n"
   ]
  },
  {
   "cell_type": "code",
   "id": "6e2b5a58",
   "metadata": {},
   "source": [
    "population_served_current = get_population_served_by_isopolygons(\n",
    "    grouped_population=population_gdf, isopolygons=isopolygons_existing_facilities\n",
    ")\n",
    "\n",
    "current = {DISTANCE_TYPE: population_served_current}"
   ],
   "outputs": [],
   "execution_count": null
  },
  {
   "cell_type": "code",
   "id": "9da67ce3",
   "metadata": {},
   "source": [
    "population_served_potential = get_population_served_by_isopolygons(\n",
    "    grouped_population=population_gdf, isopolygons=isopolygons_potential_facilities\n",
    ")\n",
    "\n",
    "potential = {DISTANCE_TYPE: population_served_potential}"
   ],
   "outputs": [],
   "execution_count": null
  },
  {
   "cell_type": "code",
   "id": "7e884306",
   "metadata": {},
   "source": [
    "population_count = population_gdf.population.values"
   ],
   "outputs": [],
   "execution_count": null
  },
  {
   "cell_type": "code",
   "id": "1c7e5b4d",
   "metadata": {},
   "source": [
    "BUDGET = [\n",
    "    5,\n",
    "    20,\n",
    "    50,\n",
    "]  # budget for the optimization in terms of how many locations can be built\n",
    "\n",
    "cbc_optimize = partial(jg_opt.OpenOptimize, solver_path=CBC_SOLVER_PATH)\n",
    "\n",
    "values, solutions = jg_opt.Solve(\n",
    "    household=population_count,\n",
    "    current=current,\n",
    "    potential=potential,\n",
    "    accessibility=DISTANCE_TYPE,\n",
    "    budgets=BUDGET,\n",
    "    optimize=cbc_optimize,\n",
    "    type=\"ID\",\n",
    ")"
   ],
   "outputs": [],
   "execution_count": null
  },
  {
   "cell_type": "code",
   "id": "300fd824",
   "metadata": {},
   "source": [
    "values"
   ],
   "outputs": [],
   "execution_count": null
  },
  {
   "cell_type": "code",
   "id": "2c88985e",
   "metadata": {},
   "source": [
    "solutions"
   ],
   "outputs": [],
   "execution_count": null
  },
  {
   "cell_type": "code",
   "id": "9fad0cf5",
   "metadata": {},
   "source": [],
   "outputs": [],
   "execution_count": null
  }
 ],
 "metadata": {
  "kernelspec": {
   "display_name": "gpbp-ys_3FNdB-py3.10",
   "language": "python",
   "name": "python3"
  },
  "language_info": {
   "codemirror_mode": {
    "name": "ipython",
    "version": 3
   },
   "file_extension": ".py",
   "mimetype": "text/x-python",
   "name": "python",
   "nbconvert_exporter": "python",
   "pygments_lexer": "ipython3",
   "version": "3.10.15"
  }
 },
 "nbformat": 4,
 "nbformat_minor": 5
}
