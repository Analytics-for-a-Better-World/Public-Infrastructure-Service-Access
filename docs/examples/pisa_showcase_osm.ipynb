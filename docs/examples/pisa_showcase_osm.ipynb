{
 "cells": [
  {
   "cell_type": "code",
   "execution_count": null,
   "id": "d8dc4151",
   "metadata": {},
   "outputs": [],
   "source": [
    "%load_ext autoreload\n",
    "%autoreload 2"
   ]
  },
  {
   "cell_type": "code",
   "execution_count": null,
   "id": "3aad6442",
   "metadata": {},
   "outputs": [],
   "source": [
    "import warnings\n",
    "from functools import partial\n",
    "\n",
    "from pisa_abw.administrative_area import AdministrativeArea\n",
    "from pisa_abw.facilities import Facilities\n",
    "from pisa_abw.population import WorldpopPopulation\n",
    "from pisa_abw.population_served_by_isopolygons import get_population_served_by_isopolygons\n",
    "from pisa_abw.visualisation import (\n",
    "    plot_facilities,\n",
    "    plot_isochrones,\n",
    "    plot_population,\n",
    "    plot_population_heatmap,\n",
    ")\n",
    "\n",
    "from optimization import jg_opt\n"
   ]
  },
  {
   "cell_type": "code",
   "execution_count": null,
   "id": "f1c20214",
   "metadata": {},
   "outputs": [],
   "source": [
    "import os\n",
    "\n",
    "from dotenv import load_dotenv\n",
    "\n",
    "# load environment variables from an `.env` file in the local root directory\n",
    "load_dotenv()\n",
    "\n",
    "CBC_SOLVER_PATH = os.getenv(\"CBC_SOLVER_PATH\")  # path to the cbc executable (e.g. /opt/homebrew/bin/cbc)\n"
   ]
  },
  {
   "cell_type": "markdown",
   "id": "11e14775",
   "metadata": {},
   "source": [
    "# Pisa Showcase, Example Notebook"
   ]
  },
  {
   "cell_type": "markdown",
   "id": "5722a36ff89d8545",
   "metadata": {},
   "source": [
    "### Use Case Example notebook\n",
    "\n",
    "This notebook shows how to use the PISA package to calculate new locations for hospitals where it would have most impact, i.e. reach the highest possible number of people that currently do not have a hospital in their vicinity.\n",
    "\n",
    "The example is based on the case of `Baucau, Timor-Leste`, and we are interested in the part of the population that cannot reach a hospital when driving 10 km. WorldPop is used as source to get the population count in `Baucau` area and the road network from OSM is used to identify their distance to current hospitals and potential locations for new facilities. Depending on the specified budget, the optimization will return a number of locations where new hospitals would reach the highest number of people that currently do not have a hospital in their vicinity."
   ]
  },
  {
   "cell_type": "markdown",
   "id": "392fdaa33418c66a",
   "metadata": {},
   "source": [
    "### Define Administrative Area\n",
    "\n",
    "We need to define the administrative area that we want to work with. This is done in two steps:\n",
    "1. Create an `AdministrativeArea` object with the country name and administrative level of interest.\n",
    "2. Call the `get_admin_area_boundaries` method on this `AdministrativeArea` object with the name of the region of interest to get the boundaries of the administrative area. The regions that can be specified here are dependent on which administrative level was specified in the first step."
   ]
  },
  {
   "cell_type": "code",
   "execution_count": null,
   "id": "2883d7fc",
   "metadata": {},
   "outputs": [],
   "source": [
    "timor_leste = AdministrativeArea(country_name=\"Timor-Leste\", admin_level=1)\n",
    "\n",
    "# these are the boundaries of Baucau\n",
    "# type: Polygon\n",
    "baucau = timor_leste.get_admin_area_boundaries(\"Baucau\")"
   ]
  },
  {
   "cell_type": "markdown",
   "id": "3b2e2684",
   "metadata": {},
   "source": [
    "### Facilities"
   ]
  },
  {
   "cell_type": "markdown",
   "id": "87176234",
   "metadata": {},
   "source": [
    "#### Get existing facilities (in our case, hospitals) from OSM\n",
    "We first identify the existing hospitals in `Baucau` by calling the `get_existing_facilities` method on the `Facilities` class, which takes the administrative area boundaries as input. This method fetches the existing facilities from OpenStreetMap (OSM)."
   ]
  },
  {
   "cell_type": "code",
   "execution_count": null,
   "id": "af133adf",
   "metadata": {},
   "outputs": [],
   "source": [
    "# Suppress user warning about geometry in geographic CRS. Centroid is calculated over a single facility (e.g. a hospital),\n",
    "# so distances are very small and projection isn't necessary\n",
    "warnings.filterwarnings(\n",
    "    \"ignore\",\n",
    "    message=\"Geometry is in a geographic CRS. Results from 'centroid' are likely incorrect\",\n",
    "    category=UserWarning,\n",
    ")\n",
    "\n",
    "hospitals_df = Facilities(admin_area_boundaries=baucau).get_existing_facilities()"
   ]
  },
  {
   "cell_type": "code",
   "execution_count": null,
   "id": "7f7a91dc",
   "metadata": {},
   "outputs": [],
   "source": [
    "plot_facilities(hospitals_df, baucau)"
   ]
  },
  {
   "cell_type": "markdown",
   "id": "6abc7d94",
   "metadata": {},
   "source": [
    "#### Estimate potential locations for new facilities\n",
    "We then identify potential locations for new hospitals in `Baucau` by drawing a grid over the area. The `spacing` parameter specifies the distance between potential facilities. In this case, we use a spacing of 0.05."
   ]
  },
  {
   "cell_type": "code",
   "execution_count": null,
   "id": "87c80da9",
   "metadata": {},
   "outputs": [],
   "source": [
    "potential_hospitals_df = Facilities(admin_area_boundaries=baucau).estimate_potential_facilities(spacing=0.05)"
   ]
  },
  {
   "cell_type": "markdown",
   "id": "eaab29e2",
   "metadata": {},
   "source": [
    "### Get population \n",
    "We get the population data for `Baucau` from WorldPop by calling the `get_population_gdf` method on the `WorldpopPopulation` class, which takes the administrative area boundaries and the ISO3 country code as input parameters. The ISO3 country code is obtained from the `AdministrativeArea` object.\n",
    "\n",
    "WorldPop always provides the most recent population data available, which is usually from the previous year. There is also a possibility to use Facebook population data in the PISA package, but the most recent data available is from 2019. In this example, we use WorldPop."
   ]
  },
  {
   "cell_type": "code",
   "execution_count": null,
   "id": "876d9b9127d776b4",
   "metadata": {},
   "outputs": [],
   "source": [
    "population_gdf = WorldpopPopulation(\n",
    "    admin_area_boundaries=baucau, iso3_country_code=timor_leste.get_iso3_country_code()\n",
    ").get_population_gdf()\n",
    "\n",
    "population_gdf.head()"
   ]
  },
  {
   "cell_type": "code",
   "execution_count": null,
   "id": "021481ee",
   "metadata": {},
   "outputs": [],
   "source": [
    "plot_population_heatmap(population_gdf, baucau)"
   ]
  },
  {
   "cell_type": "code",
   "execution_count": null,
   "id": "5622b259",
   "metadata": {},
   "outputs": [],
   "source": [
    "plot_population(population_gdf, baucau, random_sample_n=1000)"
   ]
  },
  {
   "cell_type": "markdown",
   "id": "71632809",
   "metadata": {},
   "source": [
    "### Calculate isopolygons\n",
    "\n",
    "We specify the parameters for determining access to existing and potential facilities.\n",
    "\n",
    "For this we make choices on:\n",
    "- distance type: in this notebook we use `length` (i.e. distance in meters) as the distance type, but it could also be `time` (i.e. travel time in minutes)\n",
    "- distance values: these are the distances we want to use to determine access to hospitals. In this example, we use 2000, 5000 and 10000 meters (i.e. 2, 5 and 10 km) as the distance values.\n",
    "- mode of transport: in this example, we use `driving` as the mode of transport, but it could also be `walking` or `cycling`.\n",
    "\n",
    "Valid values for constants can be found in the script `pisa_abw.constants`"
   ]
  },
  {
   "cell_type": "code",
   "execution_count": null,
   "id": "b759717d",
   "metadata": {},
   "outputs": [],
   "source": [
    "DISTANCE_TYPE = \"length\"\n",
    "\n",
    "DISTANCE_VALUES = [2000, 5000, 10000]\n",
    "\n",
    "MODE_OF_TRANSPORT = \"driving\""
   ]
  },
  {
   "cell_type": "markdown",
   "id": "bfea065f",
   "metadata": {},
   "source": [
    "#### Using OSM\n",
    "\n",
    "In order to determine the population that lives 10 km or less driving from an existing or potential facility, we need to get the road network from OSM. This can be done by calling the `get_osm_road_network` method on the `OsmRoadNetwork` class, which takes the administrative area boundaries, mode of transport, and distance type as input parameters. This will return the road network for the specific input parameters that can be used in the following step."
   ]
  },
  {
   "cell_type": "code",
   "execution_count": null,
   "id": "071c3fce",
   "metadata": {},
   "outputs": [],
   "source": [
    "from pisa_abw.osm_road_network import OsmRoadNetwork\n",
    "\n",
    "road_network = OsmRoadNetwork(\n",
    "    admin_area_boundaries=baucau,\n",
    "    mode_of_transport=MODE_OF_TRANSPORT,\n",
    "    distance_type=DISTANCE_TYPE,\n",
    ").get_osm_road_network()"
   ]
  },
  {
   "cell_type": "markdown",
   "id": "6447edc8",
   "metadata": {},
   "source": [
    "#### Calculate isopolygons for existing facilities\n",
    "\n",
    "We calculate the areas (isopolygons) around the existing facilities that are reachable within the specified distances and transport mode. This is done by using the `calculate_isopolygons` method of the `OsmIsopolygonCalculator` class, which takes the existing facilities, distance type, distance values, and road network as input parameters."
   ]
  },
  {
   "cell_type": "code",
   "execution_count": null,
   "id": "be562bfe",
   "metadata": {},
   "outputs": [],
   "source": [
    "from pisa_abw.isopolygons import OsmIsopolygonCalculator\n",
    "\n",
    "with warnings.catch_warnings():\n",
    "    warnings.simplefilter(\"ignore\", category=UserWarning)\n",
    "    isopolygons_existing_facilities = OsmIsopolygonCalculator(\n",
    "        facilities_df=hospitals_df,\n",
    "        distance_type=DISTANCE_TYPE,\n",
    "        distance_values=DISTANCE_VALUES,\n",
    "        road_network=road_network,\n",
    "    ).calculate_isopolygons()"
   ]
  },
  {
   "cell_type": "code",
   "execution_count": null,
   "id": "c7dfcf0e",
   "metadata": {},
   "outputs": [],
   "source": [
    "isopolygons_existing_facilities.head()"
   ]
  },
  {
   "cell_type": "code",
   "execution_count": null,
   "id": "e54aa6e8",
   "metadata": {},
   "outputs": [],
   "source": [
    "plot_isochrones(isopolygons_existing_facilities, baucau)"
   ]
  },
  {
   "cell_type": "markdown",
   "id": "e2e57bd5",
   "metadata": {},
   "source": [
    "#### Calculate isopolygons for potential facilities\n",
    "\n",
    "We do the same for the potential facilities. This will give us the areas around the potential facilities that are reachable within the specified distances and transport mode."
   ]
  },
  {
   "cell_type": "code",
   "execution_count": null,
   "id": "932ca2f4",
   "metadata": {},
   "outputs": [],
   "source": [
    "with warnings.catch_warnings():\n",
    "    warnings.simplefilter(\"ignore\", category=UserWarning)\n",
    "    isopolygons_potential_facilities = OsmIsopolygonCalculator(\n",
    "        facilities_df=potential_hospitals_df,\n",
    "        distance_type=DISTANCE_TYPE,\n",
    "        distance_values=DISTANCE_VALUES,\n",
    "        road_network=road_network,\n",
    "    ).calculate_isopolygons()"
   ]
  },
  {
   "cell_type": "markdown",
   "id": "0cd7f443",
   "metadata": {},
   "source": [
    "#### Get population served by isopolygons\n",
    "\n",
    "We can now calculate the population that lives within the isopolygons for both existing and potential facilities. This is done by using the `get_population_served_by_isopolygons` function, which takes the population data and the isopolygons as input parameters. We save this value in a dictionary with the distance type as key."
   ]
  },
  {
   "cell_type": "code",
   "execution_count": null,
   "id": "cd6cedc6",
   "metadata": {},
   "outputs": [],
   "source": [
    "population_served_current = get_population_served_by_isopolygons(\n",
    "    grouped_population=population_gdf, isopolygons=isopolygons_existing_facilities\n",
    ")\n",
    "\n",
    "current = {DISTANCE_TYPE: population_served_current}"
   ]
  },
  {
   "cell_type": "code",
   "execution_count": null,
   "id": "fe9864f0",
   "metadata": {},
   "outputs": [],
   "source": [
    "population_served_potential = get_population_served_by_isopolygons(\n",
    "    grouped_population=population_gdf, isopolygons=isopolygons_potential_facilities\n",
    ")\n",
    "\n",
    "potential = {DISTANCE_TYPE: population_served_potential}"
   ]
  },
  {
   "cell_type": "markdown",
   "id": "2739944627bd4da4",
   "metadata": {},
   "source": [
    "## Prepare optimization data\n",
    "\n",
    "Preparing the variables that go into the optimization:\n",
    "1. We define the population count, which is the total population in the area of interest. This is used to calculate the number of people that can be served by the existing and potential facilities.\n",
    "2. We define the budget for the optimization, which is the number of locations that can be built. In this example, we use a budget of 5, 20 and 50 locations.\n",
    "3. We set the optimization method to use the CBC solver. The `jg_opt.OpenOptimize` function is used to create an optimization object with the specified solver path (defined in a .env file)."
   ]
  },
  {
   "cell_type": "code",
   "execution_count": null,
   "id": "4e08d927",
   "metadata": {},
   "outputs": [],
   "source": [
    "population_count = population_gdf.population.values"
   ]
  },
  {
   "cell_type": "code",
   "execution_count": null,
   "id": "633552c7b547a5b4",
   "metadata": {},
   "outputs": [],
   "source": [
    "BUDGET = [\n",
    "    5,\n",
    "    20,\n",
    "    50,\n",
    "]  # budget for the optimization in terms of how many locations can be built"
   ]
  },
  {
   "cell_type": "code",
   "execution_count": null,
   "id": "b713a502795dbf9c",
   "metadata": {},
   "outputs": [],
   "source": [
    "cbc_optimize = partial(jg_opt.OpenOptimize, solver_path=CBC_SOLVER_PATH)"
   ]
  },
  {
   "cell_type": "markdown",
   "id": "f4d0550b38aaba93",
   "metadata": {},
   "source": [
    "### Optimization\n",
    "\n",
    "We run the optimization using the `jg_opt.Solve` function, which takes the population count, current population served by existing facilities, population that could be served by the potential facilities, distance type, budget, and optimization method as input parameters. The optimization will return the values (percentage of population that can be reached with the new facilities) and solutions (the best locations for new facilities) for the specified budgets."
   ]
  },
  {
   "cell_type": "code",
   "execution_count": null,
   "id": "04c59152",
   "metadata": {},
   "outputs": [],
   "source": [
    "values, solutions = jg_opt.Solve(\n",
    "    household=population_count,\n",
    "    current=current,\n",
    "    potential=potential,\n",
    "    accessibility=DISTANCE_TYPE,\n",
    "    budgets=BUDGET,\n",
    "    optimize=cbc_optimize,\n",
    "    type=\"ID\",\n",
    ")"
   ]
  },
  {
   "cell_type": "code",
   "execution_count": null,
   "id": "a5c3b1bc",
   "metadata": {
    "vscode": {
     "languageId": "ruby"
    }
   },
   "outputs": [],
   "source": [
    "values"
   ]
  },
  {
   "cell_type": "code",
   "execution_count": null,
   "id": "46f6f89c",
   "metadata": {},
   "outputs": [],
   "source": [
    "solutions"
   ]
  }
 ],
 "metadata": {
  "kernelspec": {
   "display_name": "pisa",
   "language": "python",
   "name": "python3"
  },
  "language_info": {
   "codemirror_mode": {
    "name": "ipython",
    "version": 3
   },
   "file_extension": ".py",
   "mimetype": "text/x-python",
   "name": "python",
   "nbconvert_exporter": "python",
   "pygments_lexer": "ipython3",
   "version": "3.10.15"
  }
 },
 "nbformat": 4,
 "nbformat_minor": 5
}
