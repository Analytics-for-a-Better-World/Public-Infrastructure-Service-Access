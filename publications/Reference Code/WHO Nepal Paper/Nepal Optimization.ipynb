{
 "cells": [
  {
   "cell_type": "markdown",
   "metadata": {},
   "source": [
    "This notebook uses `pisa<=1.0.0`"
   ]
  },
  {
   "attachments": {},
   "cell_type": "markdown",
   "metadata": {},
   "source": [
    "https://www.elsevier.com/authors/policies-and-guidelines/documents/elsdoc-1.pdf"
   ]
  },
  {
   "cell_type": "code",
   "execution_count": 1,
   "metadata": {},
   "outputs": [],
   "source": [
    "import pandas as pd, numpy as np, matplotlib.pyplot as plt, seaborn as sns, plotly.express as px, geopandas as gpd, folium, sys, os, itertools\n",
    "from matplotlib.colors import to_rgba\n",
    "from functools import reduce\n",
    "from shapely.ops import unary_union\n",
    "from tqdm.notebook import tqdm\n",
    "\n",
    "%load_ext autoreload\n",
    "%autoreload 2\n",
    "\n",
    "sys.path.append('../../optimization/')\n",
    "import maxcovering as mc\n",
    "\n",
    "sys.path.append('./JG/')\n",
    "import map_graphics as mg"
   ]
  },
  {
   "attachments": {},
   "cell_type": "markdown",
   "metadata": {},
   "source": [
    "# Definitions"
   ]
  },
  {
   "cell_type": "code",
   "execution_count": 2,
   "metadata": {},
   "outputs": [],
   "source": [
    "path_data = './Data/'\n",
    "overleaf_figures = r'D:\\joaquimg\\Dropbox\\Apps\\Overleaf\\WHO Nepal Lancet\\Figures/'\n",
    "old_data_path_in_git_hub = r'D:\\joaquimg\\Documents\\GitHub\\clones\\WHO_Nepal_Laboratory_Analytics\\Data/'\n",
    "old_data_path_out_git_hub = r'D:\\joaquimg\\Documents\\GitHub\\results\\Nepal\\Data\\Travel Time/'"
   ]
  },
  {
   "cell_type": "code",
   "execution_count": 3,
   "metadata": {},
   "outputs": [
    {
     "data": {
      "text/html": [
       "<svg  width=\"550\" height=\"55\"><rect x=\"0\" y=\"0\" width=\"55\" height=\"55\" style=\"fill:#4878d0;stroke-width:2;stroke:rgb(255,255,255)\"/><rect x=\"55\" y=\"0\" width=\"55\" height=\"55\" style=\"fill:#ee854a;stroke-width:2;stroke:rgb(255,255,255)\"/><rect x=\"110\" y=\"0\" width=\"55\" height=\"55\" style=\"fill:#6acc64;stroke-width:2;stroke:rgb(255,255,255)\"/><rect x=\"165\" y=\"0\" width=\"55\" height=\"55\" style=\"fill:#d65f5f;stroke-width:2;stroke:rgb(255,255,255)\"/><rect x=\"220\" y=\"0\" width=\"55\" height=\"55\" style=\"fill:#956cb4;stroke-width:2;stroke:rgb(255,255,255)\"/><rect x=\"275\" y=\"0\" width=\"55\" height=\"55\" style=\"fill:#8c613c;stroke-width:2;stroke:rgb(255,255,255)\"/><rect x=\"330\" y=\"0\" width=\"55\" height=\"55\" style=\"fill:#dc7ec0;stroke-width:2;stroke:rgb(255,255,255)\"/><rect x=\"385\" y=\"0\" width=\"55\" height=\"55\" style=\"fill:#797979;stroke-width:2;stroke:rgb(255,255,255)\"/><rect x=\"440\" y=\"0\" width=\"55\" height=\"55\" style=\"fill:#d5bb67;stroke-width:2;stroke:rgb(255,255,255)\"/><rect x=\"495\" y=\"0\" width=\"55\" height=\"55\" style=\"fill:#82c6e2;stroke-width:2;stroke:rgb(255,255,255)\"/></svg>"
      ],
      "text/plain": [
       "['#4878d0',\n",
       " '#ee854a',\n",
       " '#6acc64',\n",
       " '#d65f5f',\n",
       " '#956cb4',\n",
       " '#8c613c',\n",
       " '#dc7ec0',\n",
       " '#797979',\n",
       " '#d5bb67',\n",
       " '#82c6e2']"
      ]
     },
     "execution_count": 3,
     "metadata": {},
     "output_type": "execute_result"
    }
   ],
   "source": [
    "paper_colors = sns.color_palette('muted').as_hex()\n",
    "paper_colors"
   ]
  },
  {
   "attachments": {},
   "cell_type": "markdown",
   "metadata": {},
   "source": [
    "# Some old data still needed"
   ]
  },
  {
   "cell_type": "code",
   "execution_count": 4,
   "metadata": {},
   "outputs": [],
   "source": [
    "df_lab_owner = pd.read_excel(f'{old_data_path_in_git_hub}Nepal_Lab_Types.xlsx')\n",
    "shapefile = gpd.read_file(f'{old_data_path_in_git_hub}shapefile_nepal_districts.geojson')\n",
    "\n",
    "if os.path.exists(f'{old_data_path_out_git_hub}current_hospitals_new.pkl'):\n",
    "    current_hospitals = pd.read_pickle(f'{old_data_path_out_git_hub}current_hospitals_new.pkl')\n",
    "else:\n",
    "    current_hospitals = pd.read_pickle(f'{old_data_path_out_git_hub}current_hospitals.pkl')\n",
    "    current_hospitals.to_pickle(f'{old_data_path_out_git_hub}current_hospitals_new.pkl')\n"
   ]
  },
  {
   "cell_type": "code",
   "execution_count": null,
   "metadata": {},
   "outputs": [],
   "source": [
    "rwi_district = mg.get_rwi_district(old_data_path_in_git_hub,shapefile)"
   ]
  },
  {
   "attachments": {},
   "cell_type": "markdown",
   "metadata": {},
   "source": [
    "# New data from GitHub"
   ]
  },
  {
   "cell_type": "code",
   "execution_count": null,
   "metadata": {},
   "outputs": [],
   "source": [
    "population = pd.read_pickle(f'{path_data}population.pkl')\n",
    "existing_labs = pd.read_pickle(f'{path_data}existing_labs.pkl')\n",
    "potential_locs_hospitals = pd.read_pickle(f'{path_data}potential_locs_hospitals.pkl')     # first set, from OSM\n",
    "potential_locs_healthsites = pd.read_pickle(f'{path_data}potential_locs_healthsites.pkl') # richer set\n",
    "potential_locs_10kmgrid = pd.read_pickle(f'{path_data}potential_locs_10kmgrid.pkl')       # generated as a regular grid"
   ]
  },
  {
   "attachments": {},
   "cell_type": "markdown",
   "metadata": {},
   "source": [
    "# Ensure consistency on the laboratory names"
   ]
  },
  {
   "cell_type": "code",
   "execution_count": null,
   "metadata": {},
   "outputs": [],
   "source": [
    "assert set(existing_labs.L_NAME) == set(current_hospitals.L_NAME), set(existing_labs.L_NAME) ^ set(current_hospitals.L_NAME)\n",
    "assert set(existing_labs.L_NAME) == set(df_lab_owner.Laboratory), set(existing_labs.L_NAME) ^ set(df_lab_owner.Laboratory)"
   ]
  },
  {
   "attachments": {},
   "cell_type": "markdown",
   "metadata": {},
   "source": [
    "# Enforce consistency in province naming"
   ]
  },
  {
   "cell_type": "code",
   "execution_count": null,
   "metadata": {},
   "outputs": [],
   "source": [
    "rename_provinces = { str(p) : f'Province {p}' for p in [1,2,5] } | { 'Sudur Pashchim' : 'Sudurpashchim', 'Lumbini' : 'Province 5' }"
   ]
  },
  {
   "cell_type": "code",
   "execution_count": null,
   "metadata": {},
   "outputs": [],
   "source": [
    "lab_descriptions = pd.merge( existing_labs, df_lab_owner, left_on='L_NAME', right_on='Laboratory' )\n",
    "lab_descriptions['Owner'] = lab_descriptions['Type'].str[:1]\n",
    "lab_descriptions['Latitude'] = existing_labs.geometry.apply(lambda point: point.y)\n",
    "lab_descriptions['Longitude'] = existing_labs.geometry.apply(lambda point: point.x)\n",
    "lab_descriptions['Laboratory'] = existing_labs.L_NAME"
   ]
  },
  {
   "cell_type": "code",
   "execution_count": null,
   "metadata": {},
   "outputs": [],
   "source": [
    "lab_descriptions['Province Name'] = [ rename_provinces.get(p,p) for p in lab_descriptions['Province'] ]\n",
    "shapefile['Province Name'] = [ rename_provinces.get(p,p) for p in shapefile.Province ]\n",
    "rwi_district['Province Name'] = [ rename_provinces.get(p,p) for p in rwi_district.Province ]\n",
    "\n",
    "province_colors = { c : nc for c,nc in zip(set(lab_descriptions['Province Name'].values),paper_colors) }\n",
    "province_colors['Nepal'] = paper_colors[len(province_colors)]\n",
    "shapefile['COLOR'] = [ province_colors[c] for c in shapefile['Province Name'].values ]"
   ]
  },
  {
   "cell_type": "code",
   "execution_count": null,
   "metadata": {},
   "outputs": [],
   "source": [
    "shapefile.plot(color=shapefile['COLOR'])"
   ]
  },
  {
   "attachments": {},
   "cell_type": "markdown",
   "metadata": {},
   "source": [
    "# Descriptive"
   ]
  },
  {
   "attachments": {},
   "cell_type": "markdown",
   "metadata": {},
   "source": [
    "# Fixing 'missing province' from [the data preparation](https://github.com/Analytics-for-a-Better-World/Public-Infrastructure-Service-Access/blob/main/publications/WHO%20Nepal%20Paper/Nepal%20Paper%20Results.ipynb)\n",
    "\n",
    "We follow the strategy described in https://gis.stackexchange.com/questions/413715/assign-point-to-closest-polygon-using-sjoin"
   ]
  },
  {
   "cell_type": "code",
   "execution_count": null,
   "metadata": {},
   "outputs": [],
   "source": [
    "mg.ShowPoints( locations = population[['ID','ycoord','xcoord','DISTRICT']], \n",
    "               choices = { 'red' : population[ population.Province.isna() ].index }, \n",
    "               icon_style ='font-size:12px', tiles='OpenStreetMap' )"
   ]
  },
  {
   "cell_type": "code",
   "execution_count": null,
   "metadata": {},
   "outputs": [],
   "source": [
    "aux = population[['ID','xcoord','ycoord','population','geometry']].copy()\n",
    "aux.crs = 'EPSG:4326'\n",
    "adm = shapefile.copy().to_crs(crs=3857)\n",
    "adm['original'] = adm.geometry.copy()\n",
    "adm['buffered'] = adm.geometry.buffer(1500)\n",
    "adm = adm.set_geometry('buffered').to_crs(crs=4326)\n",
    "adjusted_population = gpd.sjoin(aux, adm, how=\"left\", predicate=\"within\")\n",
    "adjusted_population['dist'] = gpd.GeoSeries(adjusted_population['geometry_left']).to_crs(crs=3857).distance(gpd.GeoSeries(adjusted_population['original']).to_crs(crs=3857))\n",
    "adjusted_population = adjusted_population.sort_values(\"dist\", ascending=True).groupby([\"ID\"]).first().reset_index(drop=False)\n",
    "assert adjusted_population[['ID','xcoord','ycoord','population']].equals(population[['ID','xcoord','ycoord','population']]), 'ID mismatch after adjusting population'\n",
    "assert adjusted_population[~population.Province.isna()][['ID','Province']].equals(population[~population.Province.isna()][['ID','Province']]), 'Province mismatch after adjusting population'"
   ]
  },
  {
   "cell_type": "code",
   "execution_count": null,
   "metadata": {},
   "outputs": [],
   "source": [
    "mg.ShowPoints( locations = population[['ID','ycoord','xcoord','DISTRICT']], \n",
    "               choices = { province_colors[p] : idx for p,idx in adjusted_population[population.Province.isna()].groupby(['Province Name'])['ID'].unique().reset_index().set_index('Province Name').to_dict()['ID'].items() }, \n",
    "               icon_style ='font-size:12px', tiles='OpenStreetMap' )"
   ]
  },
  {
   "attachments": {},
   "cell_type": "markdown",
   "metadata": {},
   "source": [
    "# Create legends for pictures in the paper"
   ]
  },
  {
   "cell_type": "code",
   "execution_count": null,
   "metadata": {},
   "outputs": [],
   "source": [
    "def CreateLegend( colors, labels, alpha, filename, dpi ):\n",
    "\n",
    "    class Handler(object):\n",
    "        def __init__(self, color, alpha):\n",
    "            self.color=color\n",
    "            self.alpha=alpha\n",
    "        def legend_artist(self, legend, orig_handle, fontsize, handlebox):\n",
    "            x0, y0 = handlebox.xdescent, handlebox.ydescent\n",
    "            width, height = handlebox.width, handlebox.height\n",
    "            patch = plt.Rectangle([x0, y0], width, height, facecolor=self.color, alpha=self.alpha,\n",
    "                                    edgecolor='k', transform=handlebox.get_transform())\n",
    "            handlebox.add_artist(patch)\n",
    "            return patch\n",
    "        \n",
    "    def export_legend(legend, filename=filename, dpi=dpi):\n",
    "        fig  = legend.figure\n",
    "        fig.canvas.draw()\n",
    "        bbox  = legend.get_window_extent().transformed(fig.dpi_scale_trans.inverted())\n",
    "        fig.savefig(filename, dpi=dpi, bbox_inches=bbox)\n",
    "\n",
    "    handles = [plt.Rectangle((0,0),1,1) for i  in range(len(colors))]\n",
    "    hmap = dict(zip(handles, [Handler(color,alpha) for color in colors] ))\n",
    "\n",
    "    export_legend( plt.legend(handles=handles, labels=labels, handler_map=hmap) )"
   ]
  },
  {
   "cell_type": "code",
   "execution_count": null,
   "metadata": {},
   "outputs": [],
   "source": [
    "labels = sorted(province_colors.keys())\n",
    "\n",
    "labels.remove('Nepal')\n",
    "colors = [ province_colors[p] for p in labels ]\n",
    "\n",
    "CreateLegend( colors, labels, .8, overleaf_figures+'legend_provinces.pdf', dpi='figure' )\n",
    "\n",
    "labels = labels + ['Nepal']\n",
    "colors = [ province_colors[p] for p in labels ]\n",
    "\n",
    "CreateLegend( colors, labels, 1, overleaf_figures+'legend_nepal.pdf', dpi='figure' )\n",
    "\n",
    "labels.remove('Nepal')\n",
    "colors = [ province_colors[p] for p in labels ] + ['lightpink']\n",
    "labels = labels + ['New choice']\n",
    "\n",
    "CreateLegend( colors, labels, .8, overleaf_figures+'legend_opt_only_new.pdf', dpi='figure' )\n",
    "\n",
    "colors = colors + ['lightcyan']\n",
    "labels = labels + ['Already chosen']\n",
    "\n",
    "CreateLegend( colors, labels, .8, overleaf_figures+'legend_opt.pdf', dpi='figure' )"
   ]
  },
  {
   "cell_type": "markdown",
   "metadata": {},
   "source": [
    "# Descriptive analysis situation as it is in Nepal"
   ]
  },
  {
   "cell_type": "code",
   "execution_count": null,
   "metadata": {},
   "outputs": [],
   "source": [
    "lab_provinces = { lab : province for lab,province in lab_descriptions[['L_NAME','Province Name']].values }\n",
    "province_geometries = { province : unary_union( shapefile[shapefile['Province Name']==province].geometry ) for province in set(shapefile['Province Name']) }"
   ]
  },
  {
   "cell_type": "code",
   "execution_count": null,
   "metadata": {},
   "outputs": [],
   "source": [
    "def style_provinces(x):\n",
    "    return dict(fillColor=x['properties']['COLOR'],color='black',weight=.5,fillOpacity=.25)\n",
    "\n",
    "def style_isochrones(x):\n",
    "    return dict(fillColor='green',fillOpacity=.5,color='red',weight=1)\n",
    "\n",
    "folium_map = mg.ShowPoints( locations = lab_descriptions[['Owner','Latitude','Longitude','Laboratory']], \n",
    "               choices = { province_colors[p] : idx for p,idx in lab_descriptions.groupby(['Province Name'])['Hosp_ID'].unique().reset_index().set_index('Province Name').to_dict()['Hosp_ID'].items() }, \n",
    "               icon_style ='font-size:12px', tiles='OpenStreetMap' )\n",
    "adm = folium.GeoJson(data=shapefile, style_function=style_provinces)\n",
    "adm.add_to(folium_map)\n",
    "\n",
    "for name, data in current_hospitals[['L_NAME','60min_driving']].values:\n",
    "    geo_j = folium.GeoJson(data=province_geometries[lab_provinces[name]].intersection(data),style_function=style_isochrones)\n",
    "    geo_j.add_to(folium_map)\n",
    "\n",
    "mg.FoliumToPng( folium_map=folium_map, crop=(300, 113, 1068, 627), file_name=overleaf_figures+'labs' )\n",
    "folium_map"
   ]
  },
  {
   "cell_type": "code",
   "execution_count": null,
   "metadata": {},
   "outputs": [],
   "source": [
    "existing_labs_summary = lab_descriptions[['Laboratory','Type','Province Name']].drop_duplicates().reset_index(drop=True).groupby(['Province Name','Type'],as_index=True).size().unstack(level=1).fillna(0).astype(int).sort_index()\n",
    "existing_labs_summary.loc['Nepal'] = existing_labs_summary.sum(numeric_only=True, axis=0)\n",
    "existing_labs_summary.loc[:,'Laboratories'] = existing_labs_summary.sum(numeric_only=True, axis=1)\n",
    "existing_labs_summary = existing_labs_summary[['Laboratories','Government','Private']]"
   ]
  },
  {
   "cell_type": "code",
   "execution_count": null,
   "metadata": {},
   "outputs": [],
   "source": [
    "existing_labs_summary"
   ]
  },
  {
   "cell_type": "code",
   "execution_count": null,
   "metadata": {},
   "outputs": [],
   "source": [
    "head_count_per_province = adjusted_population[[c for c in population.columns if not c == 'geometry']].groupby('Province').sum()['population'].to_frame().astype(int).rename(index=rename_provinces).rename(index=rename_provinces).sort_index()\n",
    "\n",
    "adm_stats = existing_labs_summary.merge(head_count_per_province,left_index=True,right_index=True).rename(columns={'population' : 'Inhabitants' })\n",
    "adm_stats.loc['Nepal'] = adm_stats.sum(numeric_only=True, axis=0).round(2)\n",
    "adm_stats['Labs P.M.'] = (adm_stats.Laboratories / adm_stats.Inhabitants * 1e6).round(2)\n",
    "\n",
    "import pyperclip\n",
    "pyperclip.copy(adm_stats.style.format(decimal='.', thousands=',', precision=2).to_latex())\n",
    "\n",
    "adm_stats"
   ]
  },
  {
   "cell_type": "markdown",
   "metadata": {},
   "source": [
    "# Growth over the months"
   ]
  },
  {
   "cell_type": "code",
   "execution_count": null,
   "metadata": {},
   "outputs": [],
   "source": [
    "def AdjustColumnsForLegendAndColorsForLinePlots( df, colors, n=2, d=0, what='' ):\n",
    "    _min = df.min().to_dict()\n",
    "    _max = df.max().to_dict()\n",
    "    original = df.columns.to_list()\n",
    "    max_c = max([len(o) for o in original])\n",
    "    df.columns = [f'{_min[c]:{n}.{d}f} to {_max[c]:{n}.{d}f}{what}<br>{c:<{max_c}}' for c in df.columns]\n",
    "    return df, { c : colors[o] for c,o in zip(df.columns,original) }       "
   ]
  },
  {
   "cell_type": "markdown",
   "metadata": {},
   "source": [
    "# Lab counts"
   ]
  },
  {
   "cell_type": "code",
   "execution_count": null,
   "metadata": {},
   "outputs": [],
   "source": [
    "lab_counts = lab_descriptions[['Date Open','L_NAME','Province Name']].pivot_table(index='Date Open',columns='Province Name',aggfunc=len,fill_value=0,margins=True, margins_name='Nepal').reset_index().set_index('Date Open')\n",
    "lab_counts.drop(lab_counts.tail(1).index,inplace=True)\n",
    "lab_counts.columns = list(zip(*lab_counts.columns.values))[1]"
   ]
  },
  {
   "cell_type": "code",
   "execution_count": null,
   "metadata": {},
   "outputs": [],
   "source": [
    "aux, colors = AdjustColumnsForLegendAndColorsForLinePlots( lab_counts.cumsum(), province_colors, what=' labs' )\n",
    "mg.draw_lines( aux,\n",
    "              x=aux.index,y=aux.columns,\n",
    "              x_title=None, \n",
    "              y_title='Number of Laboratories',\n",
    "              width=600,height=350,\n",
    "              colors=colors,\n",
    "              line_width=5, horizontal_legend=False,\n",
    "              file_name=overleaf_figures+'nof_labs_2021.pdf')"
   ]
  },
  {
   "cell_type": "markdown",
   "metadata": {},
   "source": [
    "# Accessibility "
   ]
  },
  {
   "cell_type": "code",
   "execution_count": null,
   "metadata": {},
   "outputs": [],
   "source": [
    "is_chrone = lambda c : 'min' in c and c.startswith('ID')"
   ]
  },
  {
   "cell_type": "code",
   "execution_count": null,
   "metadata": {},
   "outputs": [],
   "source": [
    "assert list(filter(is_chrone, existing_labs.columns)) == list(filter(is_chrone, potential_locs_healthsites.columns))\n",
    "assert list(filter(is_chrone, existing_labs.columns)) == list(filter(is_chrone, potential_locs_10kmgrid.columns))"
   ]
  },
  {
   "cell_type": "code",
   "execution_count": null,
   "metadata": {},
   "outputs": [],
   "source": [
    "chrone_columns = list(filter(is_chrone, existing_labs.columns))"
   ]
  },
  {
   "cell_type": "code",
   "execution_count": null,
   "metadata": {},
   "outputs": [],
   "source": [
    "all_facs = pd.concat([existing_labs[chrone_columns],potential_locs_healthsites[chrone_columns]],ignore_index=True)\n",
    "household = adjusted_population.population.astype(np.uint).values\n",
    "already_open = all_facs.index[:len(existing_labs)].values"
   ]
  },
  {
   "cell_type": "code",
   "execution_count": null,
   "metadata": {},
   "outputs": [],
   "source": [
    "def purify( lol ):\n",
    "    return [l for l in lol if l]"
   ]
  },
  {
   "cell_type": "code",
   "execution_count": null,
   "metadata": {},
   "outputs": [],
   "source": [
    "coverage_obtained_in_nepal = lab_descriptions.groupby(['Date Open'])['Hosp_ID'].unique().reset_index().set_index('Date Open')\n",
    "coverage_obtained_in_nepal['sol'] = coverage_obtained_in_nepal['Hosp_ID'].apply(list).cumsum()\n",
    "for c in chrone_columns:\n",
    "    coverage_obtained_in_nepal[' '.join(c.split('_')[1:])] = coverage_obtained_in_nepal['sol'].apply( lambda s : household[mc.all_in(purify(lab_descriptions[lab_descriptions['Hosp_ID'].isin(s)][c].values))].sum()/household.sum()*100 )\n",
    "done = coverage_obtained_in_nepal[coverage_obtained_in_nepal.columns[-4:]]\n",
    "done, colors = AdjustColumnsForLegendAndColorsForLinePlots(done, dict(zip(done.columns,sns.color_palette('muted').as_hex())), n=4, d=1, what='%' )\n",
    "mg.draw_lines(done, \n",
    "              y=done.columns, \n",
    "              x_title=None, \n",
    "              y_title='% population with access', \n",
    "              width=600,height=200,line_width=5,\n",
    "              horizontal_legend=False,\n",
    "              colors=colors,\n",
    "              file_name=overleaf_figures+'unrestricted_coverage_2021.pdf')"
   ]
  },
  {
   "cell_type": "code",
   "execution_count": null,
   "metadata": {},
   "outputs": [],
   "source": [
    "set( adjusted_population['Province Name'] ) ^ set( lab_descriptions['Province Name'] )"
   ]
  },
  {
   "cell_type": "code",
   "execution_count": null,
   "metadata": {},
   "outputs": [],
   "source": [
    "households_per_province = { p : set(idx) for p,idx in adjusted_population.groupby(['Province Name'])['ID'].unique().reset_index().set_index('Province Name').to_dict()['ID'].items() }"
   ]
  },
  {
   "cell_type": "code",
   "execution_count": null,
   "metadata": {},
   "outputs": [],
   "source": [
    "for combination in itertools.combinations(households_per_province.values(), 2):\n",
    "    assert len( reduce(lambda x, y: x.intersection(y),combination) ) == 0\n",
    "assert reduce(lambda x, y: x.union(y),households_per_province.values()) == set(adjusted_population.ID.values)"
   ]
  },
  {
   "cell_type": "code",
   "execution_count": null,
   "metadata": {},
   "outputs": [],
   "source": [
    "for c in [c for c in lab_descriptions.columns if c.lower().startswith('id_') ]:\n",
    "    lab_descriptions['R'+c] = lab_descriptions.apply(lambda row: list(set(row[c]).intersection(households_per_province.get(row['Province Name'], set()))), axis=1)\n",
    "    lab_descriptions['R minus '+c] = lab_descriptions.apply(lambda row: set(row['R'+c]).symmetric_difference(set(row[c])), axis=1)"
   ]
  },
  {
   "cell_type": "code",
   "execution_count": null,
   "metadata": {},
   "outputs": [],
   "source": [
    "boundary_lab = lab_descriptions.loc[lab_descriptions['R minus ID_60min_driving'].apply(len).argmax()].to_dict()\n",
    "name = boundary_lab['L_NAME']\n",
    "own_province = boundary_lab['Province Name']\n",
    "left_out = household[list(boundary_lab['R minus ID_60min_driving'])].sum()\n",
    "province_to_the_left = lab_descriptions[lab_descriptions.L_NAME.str.contains('Universal College')]['Province Name'].values[0] # name from tooltip\n",
    "pyperclip.copy( f'{name} at {own_province} could serve {left_out} from {province_to_the_left}' )\n",
    "folium_map = mg.ShowPoints( locations = lab_descriptions[['Owner','Latitude','Longitude','Laboratory']], \n",
    "               choices = { province_colors[p] : idx for p,idx in lab_descriptions.groupby(['Province Name'])['Hosp_ID'].unique().reset_index().set_index('Province Name').to_dict()['Hosp_ID'].items() }, \n",
    "               icon_style ='font-size:12px', tiles='OpenStreetMap' )\n",
    "folium.GeoJson(data=shapefile, style_function=style_provinces).add_to(folium_map)\n",
    "folium_map = mg.FitAround( folium_map, boundary_lab['geometry'].y, boundary_lab['geometry'].x, delta_lat=.3, delta_lon=.3 )\n",
    "data = current_hospitals[current_hospitals['L_NAME']==name]['60min_driving'].values[0]\n",
    "folium.GeoJson(data=data,style_function=lambda _ : dict(fillColor='red',fillOpacity=.3,color='red',weight=1)).add_to(folium_map)\n",
    "folium.GeoJson(data=province_geometries[lab_provinces[name]].intersection(data),style_function=style_isochrones).add_to(folium_map)\n",
    "mg.FoliumToPng( folium_map=folium_map, crop=(350, 200, 1000, 600), file_name=overleaf_figures+'restricted_or_not' )\n",
    "folium_map"
   ]
  },
  {
   "cell_type": "code",
   "execution_count": null,
   "metadata": {},
   "outputs": [],
   "source": [
    "coverage_obtained_in_nepal = lab_descriptions.groupby(['Date Open'])['Hosp_ID'].unique().reset_index().set_index('Date Open')\n",
    "coverage_obtained_in_nepal['sol'] = coverage_obtained_in_nepal['Hosp_ID'].apply(list).cumsum()\n",
    "for c in chrone_columns:\n",
    "    coverage_obtained_in_nepal[' '.join(c.split('_')[1:])] = coverage_obtained_in_nepal['sol'].apply( lambda s : household[mc.all_in(purify(lab_descriptions[lab_descriptions['Hosp_ID'].isin(s)]['R'+c].values))].sum()/household.sum()*100 )\n",
    "done = coverage_obtained_in_nepal[coverage_obtained_in_nepal.columns[-4:]]\n",
    "done, colors = AdjustColumnsForLegendAndColorsForLinePlots(done, dict(zip(done.columns,sns.color_palette('muted').as_hex())), n=4, d=1, what='%' )\n",
    "mg.draw_lines(done, \n",
    "              y=done.columns, \n",
    "              x_title=None, \n",
    "              y_title='% population with access', \n",
    "              width=600,height=200,line_width=5,\n",
    "              horizontal_legend=False,\n",
    "              colors=colors,\n",
    "              file_name=overleaf_figures+'restricted_coverage_2021.pdf')"
   ]
  },
  {
   "cell_type": "markdown",
   "metadata": {},
   "source": [
    "## At district level"
   ]
  },
  {
   "cell_type": "code",
   "execution_count": null,
   "metadata": {},
   "outputs": [],
   "source": [
    "pop_per_district = adjusted_population.pivot_table( columns='Province Name', index='DISTRICT', values='population', aggfunc=sum, fill_value=0, margins=True ).astype(int)"
   ]
  },
  {
   "cell_type": "code",
   "execution_count": null,
   "metadata": {},
   "outputs": [],
   "source": [
    "def GetCoveragePerDistrict( data, column, pop_with_district=adjusted_population ):\n",
    "    cov = pop_with_district[ pop_with_district.ID.isin( mg.UnionListOfLists( data[column].values ) ) ]\n",
    "    return ( cov.pivot_table( columns='Province Name', index='DISTRICT', values='population', aggfunc=sum, fill_value=0, margins=True ) / pop_per_district ).fillna(0).All.to_dict()"
   ]
  },
  {
   "cell_type": "code",
   "execution_count": null,
   "metadata": {},
   "outputs": [],
   "source": [
    "def ColorCoveragePerDistrict( data, column, file_name=None, pop_with_district=adjusted_population, dpi=150 ):\n",
    "    cov_per_district = GetCoveragePerDistrict( data, column, pop_with_district )\n",
    "    shapefile[column] = [ to_rgba( c, alpha=cov_per_district[d] ) if cov_per_district[d] > 0 else 'red' for c,d in shapefile[['COLOR','DISTRICT']].values ]\n",
    "    return mg.DrawAdministrative(shapefile,file_name=file_name,color=column, dpi=dpi )"
   ]
  },
  {
   "cell_type": "code",
   "execution_count": null,
   "metadata": {},
   "outputs": [],
   "source": [
    "for c in filter( lambda c : c.startswith('ID_'), lab_descriptions.columns ):\n",
    "    ColorCoveragePerDistrict( lab_descriptions, c, file_name=overleaf_figures+f'District_{c}.png' )"
   ]
  },
  {
   "cell_type": "code",
   "execution_count": null,
   "metadata": {},
   "outputs": [],
   "source": [
    "for c in filter( lambda c : c.startswith('RID_'), lab_descriptions.columns ):\n",
    "    ColorCoveragePerDistrict( lab_descriptions, c, file_name=overleaf_figures+f'District_{c}.png' )"
   ]
  },
  {
   "cell_type": "code",
   "execution_count": null,
   "metadata": {},
   "outputs": [],
   "source": [
    "nof_districts = adjusted_population.DISTRICT.nunique()"
   ]
  },
  {
   "cell_type": "code",
   "execution_count": null,
   "metadata": {},
   "outputs": [],
   "source": [
    "def GetCoveragePerProvince( data, column, pop_with_district=adjusted_population ):\n",
    "    cov = pop_with_district[ pop_with_district.ID.isin( mg.UnionListOfLists(data[column].values) ) ]\n",
    "    return cov.pivot_table( columns='DISTRICT', index='Province Name', values='population', aggfunc=sum, fill_value=0, margins=True )"
   ]
  },
  {
   "cell_type": "code",
   "execution_count": null,
   "metadata": {},
   "outputs": [],
   "source": [
    "head_count_nepal_and_per_province = head_count_per_province.population\n",
    "head_count_nepal_and_per_province.loc['All'] = head_count_per_province.population.sum()\n",
    "head_count_nepal_and_per_province"
   ]
  },
  {
   "cell_type": "code",
   "execution_count": null,
   "metadata": {},
   "outputs": [],
   "source": [
    "pop_per_province = adjusted_population.groupby('Province Name')['population'].sum().astype(int)"
   ]
  },
  {
   "cell_type": "code",
   "execution_count": null,
   "metadata": {},
   "outputs": [],
   "source": [
    "pop_per_district = adjusted_population.groupby(['DISTRICT'])['population'].sum().astype(int)\n",
    "pop_per_district['All'] = pop_per_district.sum()\n",
    "pop_per_district = pop_per_district.to_dict()"
   ]
  },
  {
   "cell_type": "code",
   "execution_count": null,
   "metadata": {},
   "outputs": [],
   "source": [
    "district_counts = adjusted_population.groupby('Province Name')['DISTRICT'].nunique()\n",
    "district_counts['All'] = district_counts.sum()\n",
    "district_counts = district_counts.to_dict()\n",
    "district_counts"
   ]
  },
  {
   "cell_type": "code",
   "execution_count": null,
   "metadata": {},
   "outputs": [],
   "source": [
    "districts_per_province = adjusted_population.groupby('Province Name')['DISTRICT'].unique().apply(set).to_dict()\n",
    "districts_per_province['All'] = set(adjusted_population['DISTRICT'].unique())"
   ]
  },
  {
   "cell_type": "code",
   "execution_count": null,
   "metadata": {},
   "outputs": [],
   "source": [
    "def ForTheseColumns( columns ):\n",
    "    cov_per_province = pd.DataFrame()\n",
    "    isolated = dict()\n",
    "    for c in columns:\n",
    "        aux = adjusted_population.copy()\n",
    "        aux.loc[ ~aux.ID.isin( mg.UnionListOfLists(lab_descriptions[c].values) ), 'population' ] = 0\n",
    "        aux = aux.pivot_table( columns='DISTRICT', index='Province Name', values='population', aggfunc=sum, fill_value=0, margins=True ).astype(int)\n",
    "        # cov_per_province['nof_'+c] = aux.All\n",
    "        # cov_per_province['nof_districts_'+c] = aux.replace(0,np.nan).count(axis=1)-1\n",
    "        # cov_per_province['min_access_'+c] = \n",
    "        cov_per_province['pc_'+c] = (aux.div(head_count_nepal_and_per_province,axis=0)*100).round(2).All\n",
    "        access = aux.apply(lambda row: {col: val/pop_per_district[col] for col, val in row.items() if val != 0}, axis=1).to_dict()\n",
    "        isolated[c] = aux.apply(lambda row: [col for col, val in row.items() if val == 0 and col in districts_per_province[row.name]], axis=1).to_dict()\n",
    "        cov_per_province = pd.concat( [cov_per_province, ( pd.DataFrame.from_dict( { k : (district_counts[k]-(len(v)-1),round(min(v.values())*100,2), round(max(v.values())*100,1)) for k,v in access.items() }, orient='index', columns=['nof_'+c,'min_'+c,'max_'+c] ) )], axis=1 )\n",
    "        # display(aux.replace(0,np.nan).count(axis=1)-1)\n",
    "        # display((aux.div(head_count_nepal_and_per_province,axis=0)*100).round(1))\n",
    "    pyperclip.copy( cov_per_province.style.format(decimal='.', thousands=',', precision=2).to_latex() )\n",
    "    return cov_per_province, isolated"
   ]
  },
  {
   "cell_type": "code",
   "execution_count": null,
   "metadata": {},
   "outputs": [],
   "source": [
    "cov_per_province, isolated_u = ForTheseColumns( chrone_columns )"
   ]
  },
  {
   "cell_type": "code",
   "execution_count": null,
   "metadata": {},
   "outputs": [],
   "source": [
    "cov_per_province, isolated_r = ForTheseColumns( [c for c in lab_descriptions.columns if c.startswith('RID_')] )"
   ]
  },
  {
   "cell_type": "code",
   "execution_count": null,
   "metadata": {},
   "outputs": [],
   "source": [
    "cov_per_province"
   ]
  },
  {
   "cell_type": "code",
   "execution_count": null,
   "metadata": {},
   "outputs": [],
   "source": [
    "len(isolated_u['ID_60min_driving']['All']),len(isolated_r['RID_60min_driving']['All']),[d.title() for d in sorted(list(set(isolated_r['RID_60min_driving']['All'])-set(isolated_u['ID_60min_driving']['All'])))]"
   ]
  },
  {
   "cell_type": "code",
   "execution_count": null,
   "metadata": {},
   "outputs": [],
   "source": [
    "GetCoveragePerProvince( lab_descriptions, 'ID_60min_driving' ).div(head_count_nepal_and_per_province,axis=0).replace(0.0,np.nan).count(axis=1)-1"
   ]
  },
  {
   "cell_type": "code",
   "execution_count": null,
   "metadata": {},
   "outputs": [],
   "source": [
    "mg.GetAccessibilityFromData( mg.UnionListOfLists(lab_descriptions['ID_60min_driving'].values), adjusted_population, rwi_district ).set_index( 'Province Name', drop=True )"
   ]
  },
  {
   "cell_type": "code",
   "execution_count": null,
   "metadata": {},
   "outputs": [],
   "source": [
    "pd.DataFrame({ c : GetCoveragePerProvince( lab_descriptions, c, adjusted_population ).All.astype(int) for c in chrone_columns })"
   ]
  },
  {
   "cell_type": "code",
   "execution_count": null,
   "metadata": {},
   "outputs": [],
   "source": [
    "labs = dict()\n",
    "labs['may'] = lab_descriptions[ lab_descriptions['Date Open'] <= '2021-05-01' ]\n",
    "labs['november'] = lab_descriptions"
   ]
  },
  {
   "cell_type": "code",
   "execution_count": null,
   "metadata": {},
   "outputs": [],
   "source": [
    "for period in labs.keys():\n",
    "    for c in ['ID_60min_driving','RID_60min_driving']:\n",
    "        accessibility_frame = mg.GetAccessibilityFromData( mg.UnionListOfLists(labs[period][c]), adjusted_population, rwi_district )\n",
    "        for_table = accessibility_frame.copy()\n",
    "        for_table['District'] = accessibility_frame.District.str.replace('_',' ').str.title()\n",
    "        for_table.columns = for_table.columns.str.replace('_',' ').str.replace('%','\\%')\n",
    "        width = 600 if c.startswith('RID') else 750\n",
    "        height = 250\n",
    "        showlegend = c.startswith('ID')\n",
    "        # pyperclip.copy(for_table.sort_values( by=['Province Name','District'] ).style.hide(axis='index').format(decimal='.', thousands=',', precision=2).to_latex())\n",
    "        display(mg.ShowRWIxAccess( accessibility_frame, province_colors, width=width, height=height, file_name=overleaf_figures+f'{period}_RWI_Nepal_{c}.pdf', showlegend = showlegend, title=None, trendline='ols', trendline_scope='overall', trendline_color_override='red' ))\n",
    "        display(mg.ShowRWIxAccess( accessibility_frame[ ~accessibility_frame.District.isin( ['KATHMANDU','BHAKTAPUR' ] ) ], province_colors, width=600, height=height, showlegend = False, xrange = [-.55, .35], file_name=overleaf_figures+f'{period}_RWI_without_Kathmandu_{c}.pdf', title=None, trendline='ols' ))\n"
   ]
  },
  {
   "cell_type": "markdown",
   "metadata": {},
   "source": [
    "# Optimization"
   ]
  },
  {
   "cell_type": "code",
   "execution_count": null,
   "metadata": {},
   "outputs": [],
   "source": [
    "assert len( set(all_facs.index) ) == len( all_facs.index ), 'indices not unique'"
   ]
  },
  {
   "cell_type": "code",
   "execution_count": null,
   "metadata": {},
   "outputs": [],
   "source": [
    "for df in [all_facs, existing_labs, potential_locs_10kmgrid, potential_locs_healthsites, potential_locs_hospitals ]:\n",
    "    for c in all_facs.columns:\n",
    "        assert( set( mc.all_in( [ l for l in df[c].values if l ] ) ).issubset( set( range(len(household))) ) ), f'unknown households in {c} reach of facilities'"
   ]
  },
  {
   "cell_type": "code",
   "execution_count": null,
   "metadata": {},
   "outputs": [],
   "source": [
    "def ShowServeNobody( locations, metric='ID_60min_driving' ):\n",
    "    idx = locations[metric].apply(len) == 0\n",
    "    isolated = pd.concat([locations.ID,locations.geometry.y,locations.geometry.x,locations.ID],axis=1)[idx]\n",
    "    return mg.ShowPoints( locations = isolated, choices = { 'red' : isolated.index.values }, icon_style ='font-size:7px', tiles='OpenStreetMap' )"
   ]
  },
  {
   "cell_type": "code",
   "execution_count": null,
   "metadata": {},
   "outputs": [],
   "source": [
    "ShowServeNobody( potential_locs_10kmgrid, metric='ID_60min_walking' )"
   ]
  },
  {
   "cell_type": "code",
   "execution_count": null,
   "metadata": {},
   "outputs": [],
   "source": [
    "if os.path.exists('opt_results.pkl'):\n",
    "    results = pd.read_pickle('opt_results.pkl')\n",
    "else:\n",
    "    M = len(already_open)\n",
    "    M_new = len(all_facs)-len(already_open)+1\n",
    "    results = pd.DataFrame()\n",
    "    for c in all_facs.columns:\n",
    "        I, J, IJ, JI = mc.CreateIndexMapping( all_facs[c], household )\n",
    "        results_fixing = mc.OptimizeWithGurobipy( household,I,J,IJ, np.arange(M+1,M+M_new,1), parsimonious=True, already_open=already_open, trace=False, progress=tqdm )\n",
    "        results[' '.join(c.split('_')[1:])] = ( results_fixing.value / sum(household) * 100 ).astype(float).round(1)\n",
    "    results.to_pickle('opt_results.pkl')"
   ]
  },
  {
   "cell_type": "code",
   "execution_count": null,
   "metadata": {},
   "outputs": [],
   "source": [
    "ax = results.plot()\n",
    "ax.set_title(\"potential_locs_healthsites\",color='black')\n",
    "ax.legend(bbox_to_anchor=(1.0, 1.0))\n",
    "ax.plot()\n",
    "plt.show()"
   ]
  },
  {
   "cell_type": "code",
   "execution_count": null,
   "metadata": {},
   "outputs": [],
   "source": [
    "end_of_growth = max( np.argmax( results, axis=0 ) ) + 1"
   ]
  },
  {
   "cell_type": "code",
   "execution_count": null,
   "metadata": {},
   "outputs": [],
   "source": [
    "end_of_growth"
   ]
  },
  {
   "cell_type": "code",
   "execution_count": null,
   "metadata": {},
   "outputs": [],
   "source": [
    "aux = pd.concat( [results.max().to_frame(), results[:end_of_growth].max().to_frame()], axis=1 )\n",
    "aux.columns=['complete','beginning']\n",
    "assert all( aux['complete'] == aux['beginning'] )\n",
    "aux"
   ]
  },
  {
   "cell_type": "code",
   "execution_count": null,
   "metadata": {},
   "outputs": [],
   "source": [
    "aux, colors = AdjustColumnsForLegendAndColorsForLinePlots(results[:end_of_growth], dict(zip(results.columns,sns.color_palette('muted').as_hex())), n=4, d=1 )\n",
    "mg.draw_lines(aux, \n",
    "              y=aux.columns, \n",
    "              x_title=None, \n",
    "              y_title=None, \n",
    "              width=600,height=200,line_width=5,\n",
    "              horizontal_legend=False,\n",
    "              colors=colors,\n",
    "              file_name=overleaf_figures+'max_attainable_coverage.pdf')"
   ]
  },
  {
   "cell_type": "code",
   "execution_count": null,
   "metadata": {},
   "outputs": [],
   "source": [
    "end_of_growth/len(potential_locs_healthsites)*100"
   ]
  },
  {
   "cell_type": "code",
   "execution_count": null,
   "metadata": {},
   "outputs": [],
   "source": [
    "coverage_obtained_in_nepal"
   ]
  },
  {
   "cell_type": "code",
   "execution_count": null,
   "metadata": {},
   "outputs": [],
   "source": [
    "beginning = coverage_obtained_in_nepal.iloc[0]['sol']\n",
    "M = len(beginning)\n",
    "M_new = 20\n",
    "results_20 = pd.DataFrame()\n",
    "results_fixing = dict()\n",
    "for c in all_facs.columns:\n",
    "    I, J, IJ, JI = mc.CreateIndexMapping( all_facs[c], household )\n",
    "    results_fixing[c] = mc.OptimizeWithGurobipy( household,I,J,IJ, np.arange(M,M+M_new+1,1), parsimonious=True, already_open=beginning, trace=False, progress=tqdm )\n",
    "    #mc.PyomoOptimize( household,I,J,IJ, np.arange(M,M+M_new+1,1), parsimonious=True, already_open=beginning, trace=False, progress=tqdm, solver='gurobi_direct' )\n",
    "    results_20[' '.join(c.split('_')[1:])] = ( results_fixing[c].value / sum(household) * 100 ).astype(float).round(1)\n"
   ]
  },
  {
   "cell_type": "code",
   "execution_count": null,
   "metadata": {},
   "outputs": [],
   "source": [
    "len( beginning )"
   ]
  },
  {
   "cell_type": "code",
   "execution_count": null,
   "metadata": {},
   "outputs": [],
   "source": [
    "set( coverage_obtained_in_nepal.iloc[0].sol ) - set(beginning), set(beginning) - set( coverage_obtained_in_nepal.iloc[0].sol ) "
   ]
  },
  {
   "cell_type": "code",
   "execution_count": null,
   "metadata": {},
   "outputs": [],
   "source": [
    "{ c : (set(beginning) - set(results_fixing[c].iloc[0].solution), set(results_fixing[c].iloc[0].solution) - set(beginning)) for c in chrone_columns }"
   ]
  },
  {
   "cell_type": "code",
   "execution_count": null,
   "metadata": {},
   "outputs": [],
   "source": [
    "aux, colors = AdjustColumnsForLegendAndColorsForLinePlots(results_20.copy(), dict(zip(results_20.columns,sns.color_palette('muted').as_hex())), n=4, d=1 )\n",
    "mg.draw_lines(aux, \n",
    "              y=aux.columns, \n",
    "              x_title=None, \n",
    "              y_title=None, \n",
    "              width=600,height=200,line_width=5,\n",
    "              horizontal_legend=False,\n",
    "              colors=colors,\n",
    "              file_name=overleaf_figures+'optimal_20.pdf')"
   ]
  },
  {
   "cell_type": "code",
   "execution_count": null,
   "metadata": {},
   "outputs": [],
   "source": [
    "aux = pd.concat([existing_labs['geometry'],potential_locs_healthsites['geometry']],ignore_index=True)\n",
    "all_facs_coordinates = pd.DataFrame()\n",
    "all_facs_coordinates['Longitude'] = aux.apply(lambda point: point.x)\n",
    "all_facs_coordinates['Latitude'] = aux.apply(lambda point: point.y)\n",
    "all_facs_coordinates = all_facs_coordinates.reset_index()"
   ]
  },
  {
   "cell_type": "code",
   "execution_count": null,
   "metadata": {},
   "outputs": [],
   "source": [
    "for c in chrone_columns:\n",
    "    chosen_again, new_choices = set( results_fixing[c].solution.values[-1] ) & set(existing_labs.Hosp_ID.values) - set(beginning), set( results_fixing[c].solution.values[-1] ) - set(existing_labs.Hosp_ID.values)\n",
    "    color_new_choice, color_chosen_again = 'lightpink', 'lightcyan'\n",
    "\n",
    "    choices = { province_colors[p] : idx for p,idx in lab_descriptions[lab_descriptions.index.isin(beginning)].groupby(['Province Name'])['Hosp_ID'].unique().reset_index().set_index('Province Name').to_dict()['Hosp_ID'].items() } | \\\n",
    "                { color_new_choice : list(new_choices) } | \\\n",
    "                { color_chosen_again : list(chosen_again) }\n",
    "\n",
    "    folium_map = mg.ShowPoints( locations = all_facs_coordinates[['index','Latitude','Longitude','index']], \n",
    "                choices = choices, \n",
    "                icon_style ='font-size:12px', tiles='OpenStreetMap' )\n",
    "    adm = folium.GeoJson(data=shapefile, style_function=style_provinces)\n",
    "    adm.add_to(folium_map)\n",
    "\n",
    "    # for name, data in current_hospitals[['L_NAME','60min_driving']].values:\n",
    "    #     geo_j = folium.GeoJson(data=province_geometries[lab_provinces[name]].intersection(data),style_function=style_isochrones)\n",
    "    #     geo_j.add_to(folium_map)\n",
    "\n",
    "    mg.FoliumToPng( folium_map=folium_map, crop=(300, 113, 1068, 627), file_name=overleaf_figures+f'labs_{c}' )\n",
    "    display(folium_map)"
   ]
  },
  {
   "cell_type": "code",
   "execution_count": null,
   "metadata": {},
   "outputs": [],
   "source": [
    "RWI_population = pd.merge(adjusted_population, rwi_district, left_on='DISTRICT', right_on='District', how='left')[['population','Median RWI']]\n",
    "RWI_population['weight'] = RWI_population['population'].multiply(1000*(2-RWI_population['Median RWI']))\n",
    "RWI_population"
   ]
  },
  {
   "cell_type": "code",
   "execution_count": null,
   "metadata": {},
   "outputs": [],
   "source": [
    "weight = RWI_population['weight'].values"
   ]
  },
  {
   "cell_type": "code",
   "execution_count": null,
   "metadata": {},
   "outputs": [],
   "source": [
    "beginning = coverage_obtained_in_nepal.iloc[0]['sol']\n",
    "M = len(beginning)\n",
    "M_new = 20\n",
    "results_fixing = dict()\n",
    "for c in all_facs.columns:\n",
    "    I, J, IJ, JI = mc.CreateIndexMapping( all_facs[c], household )\n",
    "    results_fixing[c] = mc.OptimizeWithGurobipy( weight,I,J,IJ, np.arange(M,M+M_new+1,1), parsimonious=True, already_open=beginning, trace=False, progress=tqdm )"
   ]
  },
  {
   "cell_type": "code",
   "execution_count": null,
   "metadata": {},
   "outputs": [],
   "source": [
    "results_20 = pd.DataFrame()\n",
    "for c in all_facs.columns:\n",
    "    results_20[' '.join(c.split('_')[1:])] = [ (household[ mc.all_in( all_facs[all_facs.index.isin(s)][c].values ).astype(int) ].sum()/household.sum())*100 for s in results_fixing[c].solution.values]"
   ]
  },
  {
   "cell_type": "code",
   "execution_count": null,
   "metadata": {},
   "outputs": [],
   "source": [
    "aux, colors = AdjustColumnsForLegendAndColorsForLinePlots(results_20.copy(), dict(zip(results_20.columns,sns.color_palette('muted').as_hex())), n=4, d=1 )\n",
    "mg.draw_lines(aux, \n",
    "              y=aux.columns, \n",
    "              x_title=None, \n",
    "              y_title=None, \n",
    "              width=600,height=200,line_width=5,\n",
    "              horizontal_legend=False,\n",
    "              colors=colors,\n",
    "              file_name=overleaf_figures+'optimal_20_RWI.pdf')"
   ]
  },
  {
   "cell_type": "code",
   "execution_count": null,
   "metadata": {},
   "outputs": [],
   "source": [
    "for c in chrone_columns:\n",
    "    sol = results_fixing[c].solution.values[-1]\n",
    "    idx = all_facs.index.isin(sol)\n",
    "    accessibility_frame = mg.GetAccessibilityFromData( mg.UnionListOfLists(purify(all_facs[idx][c])), adjusted_population, rwi_district )\n",
    "    for_table = accessibility_frame.copy()\n",
    "    for_table['District'] = accessibility_frame.District.str.replace('_',' ').str.title()\n",
    "    for_table.columns = for_table.columns.str.replace('_',' ').str.replace('%','\\%')\n",
    "    width = 600 if c.startswith('RID') else 750\n",
    "    height = 250\n",
    "    showlegend = c.startswith('ID')\n",
    "    # pyperclip.copy(for_table.sort_values( by=['Province Name','District'] ).style.hide(axis='index').format(decimal='.', thousands=',', precision=2).to_latex())\n",
    "    display(mg.ShowRWIxAccess( accessibility_frame, province_colors, width=width, height=height, file_name=overleaf_figures+f'RWI_Nepal_{c}.pdf', showlegend = showlegend, title=None, trendline='ols', trendline_scope='overall', trendline_color_override='red' ))\n",
    "    display(mg.ShowRWIxAccess( accessibility_frame[ ~accessibility_frame.District.isin( ['KATHMANDU','BHAKTAPUR' ] ) ], province_colors, width=600, height=height, showlegend = False, xrange = [-.55, .35], file_name=overleaf_figures+f'RWI_without_Kathmandu_{c}.pdf', title=None, trendline='ols' ))\n"
   ]
  },
  {
   "cell_type": "code",
   "execution_count": null,
   "metadata": {},
   "outputs": [],
   "source": []
  }
 ],
 "metadata": {
  "kernelspec": {
   "display_name": "Python 3",
   "language": "python",
   "name": "python3"
  },
  "language_info": {
   "codemirror_mode": {
    "name": "ipython",
    "version": 3
   },
   "file_extension": ".py",
   "mimetype": "text/x-python",
   "name": "python",
   "nbconvert_exporter": "python",
   "pygments_lexer": "ipython3",
   "version": "3.10.11"
  },
  "orig_nbformat": 4
 },
 "nbformat": 4,
 "nbformat_minor": 2
}
