{
 "cells": [
  {
   "cell_type": "code",
   "execution_count": 7,
   "id": "95620814",
   "metadata": {},
   "outputs": [
    {
     "name": "stdout",
     "output_type": "stream",
     "text": [
      "The autoreload extension is already loaded. To reload it, use:\n",
      "  %reload_ext autoreload\n"
     ]
    }
   ],
   "source": [
    "%load_ext autoreload\n",
    "%autoreload 2"
   ]
  },
  {
   "cell_type": "code",
   "execution_count": 8,
   "id": "4e944dc7",
   "metadata": {},
   "outputs": [
    {
     "data": {
      "text/plain": [
       "True"
      ]
     },
     "execution_count": 8,
     "metadata": {},
     "output_type": "execute_result"
    }
   ],
   "source": [
    "import os\n",
    "\n",
    "from dotenv import load_dotenv\n",
    "\n",
    "import pandas as pd\n",
    "\n",
    "# keep the API keys in a `.env` file in the local root directory\n",
    "load_dotenv()\n"
   ]
  },
  {
   "cell_type": "code",
   "execution_count": 9,
   "id": "860e32db",
   "metadata": {},
   "outputs": [
    {
     "name": "stderr",
     "output_type": "stream",
     "text": [
      "INFO:pisa.administrative_area:Validating country name: Timor-Leste\n",
      "INFO:pisa.administrative_area:Country name 'Timor-Leste' validated successfully\n",
      "INFO:pisa.administrative_area:Retrieving boundaries of all administrative areas of level 1 for country Timor-Leste\n"
     ]
    }
   ],
   "source": [
    "from pisa.administrative_area import AdministrativeArea\n",
    "\n",
    "timor_leste = AdministrativeArea(country_name=\"Timor-Leste\", admin_level=1)\n",
    "\n",
    "# these are the boundaries of Baucau\n",
    "# type: Polygon\n",
    "baucau = timor_leste.get_admin_area_boundaries(\"Baucau\")"
   ]
  },
  {
   "cell_type": "code",
   "execution_count": 10,
   "id": "9ed7dd1c",
   "metadata": {},
   "outputs": [],
   "source": [
    "DISTANCE_TYPE = \"length\"\n",
    "\n",
    "DISTANCE_VALUES = [1000]\n",
    "\n",
    "MODE_OF_TRANSPORT = \"driving\""
   ]
  },
  {
   "cell_type": "markdown",
   "id": "64a79f2c",
   "metadata": {},
   "source": [
    "### Coordinates of actual hospital in Timor-Leste"
   ]
  },
  {
   "cell_type": "code",
   "execution_count": 11,
   "id": "f9bd1261",
   "metadata": {},
   "outputs": [
    {
     "data": {
      "text/plain": [
       "(-8.54733, 126.60048)"
      ]
     },
     "execution_count": 11,
     "metadata": {},
     "output_type": "execute_result"
    }
   ],
   "source": [
    "\n",
    "hospital_coordinates = [\n",
    "        (126.60048, -8.54733),\n",
    "    ]\n",
    "\n",
    "hospital_df = pd.DataFrame(hospital_coordinates, columns=[\"longitude\", \"latitude\"])\n",
    "\n",
    "# you need (latitude, longitude) for graph_from_point(), \n",
    "# in contrast to the (longitude, latitude) construction of facilities_df\n",
    "\n",
    "hospital_lat_lon = (hospital_df.latitude.values[0], hospital_df.longitude.values[0])\n",
    "hospital_lat_lon"
   ]
  },
  {
   "cell_type": "markdown",
   "id": "b35309ef",
   "metadata": {},
   "source": [
    "### Mapbox isopolygon"
   ]
  },
  {
   "cell_type": "code",
   "execution_count": 12,
   "id": "93aa8489",
   "metadata": {},
   "outputs": [
    {
     "name": "stderr",
     "output_type": "stream",
     "text": [
      "INFO:pisa.utils:\n",
      "=== Cache Status ===\n",
      "INFO:pisa.utils:Function: _fetch_isopolygons\n",
      "INFO:pisa.utils:Cache file: mapbox_cache/773dc0e5410fc7df3240c0d31cb8b1c63bbf6b691da6dd7acd515e9c44e2af59.pkl\n",
      "INFO:pisa.utils:Cache HIT - Loading cached result\n"
     ]
    },
    {
     "data": {
      "text/html": [
       "<div>\n",
       "<style scoped>\n",
       "    .dataframe tbody tr th:only-of-type {\n",
       "        vertical-align: middle;\n",
       "    }\n",
       "\n",
       "    .dataframe tbody tr th {\n",
       "        vertical-align: top;\n",
       "    }\n",
       "\n",
       "    .dataframe thead th {\n",
       "        text-align: right;\n",
       "    }\n",
       "</style>\n",
       "<table border=\"1\" class=\"dataframe\">\n",
       "  <thead>\n",
       "    <tr style=\"text-align: right;\">\n",
       "      <th></th>\n",
       "      <th>ID_1000</th>\n",
       "    </tr>\n",
       "  </thead>\n",
       "  <tbody>\n",
       "    <tr>\n",
       "      <th>0</th>\n",
       "      <td>POLYGON ((126.60248 -8.541311, 126.601428 -8.5...</td>\n",
       "    </tr>\n",
       "  </tbody>\n",
       "</table>\n",
       "</div>"
      ],
      "text/plain": [
       "                                             ID_1000\n",
       "0  POLYGON ((126.60248 -8.541311, 126.601428 -8.5..."
      ]
     },
     "execution_count": 12,
     "metadata": {},
     "output_type": "execute_result"
    }
   ],
   "source": [
    "from pisa.isopolygons import MapboxIsopolygonCalculator\n",
    "\n",
    "MAPBOX_API_TOKEN = os.getenv(\"MAPBOX_API_TOKEN\")\n",
    "\n",
    "mapbox_iso_1000 = MapboxIsopolygonCalculator(\n",
    "                facilities_df=hospital_df,\n",
    "                distance_type=DISTANCE_TYPE,\n",
    "                distance_values=DISTANCE_VALUES,\n",
    "                mode_of_transport=MODE_OF_TRANSPORT,\n",
    "                mapbox_api_token=MAPBOX_API_TOKEN,\n",
    "            ).calculate_isopolygons()\n",
    "\n",
    "mapbox_iso_1000"
   ]
  },
  {
   "cell_type": "code",
   "execution_count": 13,
   "id": "1cc18e66",
   "metadata": {},
   "outputs": [
    {
     "data": {
      "text/html": [
       "<div style=\"width:100%;\"><div style=\"position:relative;width:100%;height:0;padding-bottom:60%;\"><span style=\"color:#565656\">Make this Notebook Trusted to load map: File -> Trust Notebook</span><iframe srcdoc=\"&lt;!DOCTYPE html&gt;\n",
       "&lt;html&gt;\n",
       "&lt;head&gt;\n",
       "    \n",
       "    &lt;meta http-equiv=&quot;content-type&quot; content=&quot;text/html; charset=UTF-8&quot; /&gt;\n",
       "    \n",
       "        &lt;script&gt;\n",
       "            L_NO_TOUCH = false;\n",
       "            L_DISABLE_3D = false;\n",
       "        &lt;/script&gt;\n",
       "    \n",
       "    &lt;style&gt;html, body {width: 100%;height: 100%;margin: 0;padding: 0;}&lt;/style&gt;\n",
       "    &lt;style&gt;#map {position:absolute;top:0;bottom:0;right:0;left:0;}&lt;/style&gt;\n",
       "    &lt;script src=&quot;https://cdn.jsdelivr.net/npm/leaflet@1.6.0/dist/leaflet.js&quot;&gt;&lt;/script&gt;\n",
       "    &lt;script src=&quot;https://code.jquery.com/jquery-1.12.4.min.js&quot;&gt;&lt;/script&gt;\n",
       "    &lt;script src=&quot;https://maxcdn.bootstrapcdn.com/bootstrap/3.2.0/js/bootstrap.min.js&quot;&gt;&lt;/script&gt;\n",
       "    &lt;script src=&quot;https://cdnjs.cloudflare.com/ajax/libs/Leaflet.awesome-markers/2.0.2/leaflet.awesome-markers.js&quot;&gt;&lt;/script&gt;\n",
       "    &lt;link rel=&quot;stylesheet&quot; href=&quot;https://cdn.jsdelivr.net/npm/leaflet@1.6.0/dist/leaflet.css&quot;/&gt;\n",
       "    &lt;link rel=&quot;stylesheet&quot; href=&quot;https://maxcdn.bootstrapcdn.com/bootstrap/3.2.0/css/bootstrap.min.css&quot;/&gt;\n",
       "    &lt;link rel=&quot;stylesheet&quot; href=&quot;https://maxcdn.bootstrapcdn.com/bootstrap/3.2.0/css/bootstrap-theme.min.css&quot;/&gt;\n",
       "    &lt;link rel=&quot;stylesheet&quot; href=&quot;https://maxcdn.bootstrapcdn.com/font-awesome/4.6.3/css/font-awesome.min.css&quot;/&gt;\n",
       "    &lt;link rel=&quot;stylesheet&quot; href=&quot;https://cdnjs.cloudflare.com/ajax/libs/Leaflet.awesome-markers/2.0.2/leaflet.awesome-markers.css&quot;/&gt;\n",
       "    &lt;link rel=&quot;stylesheet&quot; href=&quot;https://cdn.jsdelivr.net/gh/python-visualization/folium/folium/templates/leaflet.awesome.rotate.min.css&quot;/&gt;\n",
       "    \n",
       "            &lt;meta name=&quot;viewport&quot; content=&quot;width=device-width,\n",
       "                initial-scale=1.0, maximum-scale=1.0, user-scalable=no&quot; /&gt;\n",
       "            &lt;style&gt;\n",
       "                #map_d3a81765acb57ba7434e9c9746db94ed {\n",
       "                    position: relative;\n",
       "                    width: 100.0%;\n",
       "                    height: 100.0%;\n",
       "                    left: 0.0%;\n",
       "                    top: 0.0%;\n",
       "                }\n",
       "            &lt;/style&gt;\n",
       "        \n",
       "&lt;/head&gt;\n",
       "&lt;body&gt;\n",
       "    \n",
       "    \n",
       "            &lt;div class=&quot;folium-map&quot; id=&quot;map_d3a81765acb57ba7434e9c9746db94ed&quot; &gt;&lt;/div&gt;\n",
       "        \n",
       "&lt;/body&gt;\n",
       "&lt;script&gt;\n",
       "    \n",
       "    \n",
       "            var map_d3a81765acb57ba7434e9c9746db94ed = L.map(\n",
       "                &quot;map_d3a81765acb57ba7434e9c9746db94ed&quot;,\n",
       "                {\n",
       "                    center: [-8.564568024978032, 126.46981111466152],\n",
       "                    crs: L.CRS.EPSG3857,\n",
       "                    zoom: 10,\n",
       "                    zoomControl: true,\n",
       "                    preferCanvas: false,\n",
       "                }\n",
       "            );\n",
       "\n",
       "            \n",
       "\n",
       "        \n",
       "    \n",
       "            var tile_layer_68a73273698e8a77de06d69827fd9634 = L.tileLayer(\n",
       "                &quot;https://{s}.tile.openstreetmap.org/{z}/{x}/{y}.png&quot;,\n",
       "                {&quot;attribution&quot;: &quot;Data by \\u0026copy; \\u003ca href=\\&quot;http://openstreetmap.org\\&quot;\\u003eOpenStreetMap\\u003c/a\\u003e, under \\u003ca href=\\&quot;http://www.openstreetmap.org/copyright\\&quot;\\u003eODbL\\u003c/a\\u003e.&quot;, &quot;detectRetina&quot;: false, &quot;maxNativeZoom&quot;: 18, &quot;maxZoom&quot;: 18, &quot;minZoom&quot;: 0, &quot;noWrap&quot;: false, &quot;opacity&quot;: 1, &quot;subdomains&quot;: &quot;abc&quot;, &quot;tms&quot;: false}\n",
       "            ).addTo(map_d3a81765acb57ba7434e9c9746db94ed);\n",
       "        \n",
       "    \n",
       "        function geo_json_95cecab680c085232358b18c3d0a65fc_styler(feature) {\n",
       "            switch(feature.id) {\n",
       "                default:\n",
       "                    return {&quot;color&quot;: &quot;#8000ff&quot;, &quot;fillColor&quot;: &quot;#8000ff&quot;, &quot;fillOpacity&quot;: 0.4, &quot;weight&quot;: 1};\n",
       "            }\n",
       "        }\n",
       "\n",
       "        function geo_json_95cecab680c085232358b18c3d0a65fc_onEachFeature(feature, layer) {\n",
       "            layer.on({\n",
       "            });\n",
       "        };\n",
       "        var geo_json_95cecab680c085232358b18c3d0a65fc = L.geoJson(null, {\n",
       "                onEachFeature: geo_json_95cecab680c085232358b18c3d0a65fc_onEachFeature,\n",
       "            \n",
       "                style: geo_json_95cecab680c085232358b18c3d0a65fc_styler,\n",
       "        });\n",
       "\n",
       "        function geo_json_95cecab680c085232358b18c3d0a65fc_add (data) {\n",
       "            geo_json_95cecab680c085232358b18c3d0a65fc\n",
       "                .addData(data)\n",
       "                .addTo(map_d3a81765acb57ba7434e9c9746db94ed);\n",
       "        }\n",
       "            geo_json_95cecab680c085232358b18c3d0a65fc_add({&quot;features&quot;: [{&quot;geometry&quot;: {&quot;coordinates&quot;: [[[126.60248, -8.541311], [126.601428, -8.541278], [126.6012, -8.54205], [126.600359, -8.542209], [126.59748, -8.544966], [126.59648, -8.544977], [126.59574, -8.54433], [126.595886, -8.543736], [126.596636, -8.54333], [126.59648, -8.54167], [126.596182, -8.543032], [126.593542, -8.543268], [126.59348, -8.542367], [126.593462, -8.543348], [126.594218, -8.543592], [126.594382, -8.544428], [126.595288, -8.545522], [126.596899, -8.545911], [126.59848, -8.547727], [126.60048, -8.54783], [126.601134, -8.54833], [126.600954, -8.549804], [126.600246, -8.55033], [126.600421, -8.553271], [126.599483, -8.55333], [126.600498, -8.553348], [126.60068, -8.55133], [126.601667, -8.550517], [126.602057, -8.548907], [126.602932, -8.548878], [126.603385, -8.55133], [126.604347, -8.551463], [126.60448, -8.552035], [126.604528, -8.551282], [126.603685, -8.551125], [126.603725, -8.54933], [126.60469, -8.54854], [126.605043, -8.546893], [126.60936, -8.54633], [126.60448, -8.545978], [126.60348, -8.546917], [126.600134, -8.546676], [126.600009, -8.543859], [126.600656, -8.543506], [126.60087, -8.54272], [126.601576, -8.542426], [126.601636, -8.541486], [126.602474, -8.541336], [126.60248, -8.541311]]], &quot;type&quot;: &quot;Polygon&quot;}, &quot;id&quot;: &quot;0&quot;, &quot;type&quot;: &quot;Feature&quot;}], &quot;type&quot;: &quot;FeatureCollection&quot;});\n",
       "\n",
       "        \n",
       "    \n",
       "            var marker_45ccee0b55924c5b2311ab7be091a739 = L.marker(\n",
       "                [-8.564568024978032, 126.46981111466152],\n",
       "                {}\n",
       "            ).addTo(map_d3a81765acb57ba7434e9c9746db94ed);\n",
       "        \n",
       "&lt;/script&gt;\n",
       "&lt;/html&gt;\" style=\"position:absolute;width:100%;height:100%;left:0;top:0;border:none !important;\" allowfullscreen webkitallowfullscreen mozallowfullscreen></iframe></div></div>"
      ],
      "text/plain": [
       "<folium.folium.Map at 0x32f6a6ce0>"
      ]
     },
     "execution_count": 13,
     "metadata": {},
     "output_type": "execute_result"
    }
   ],
   "source": [
    "from pisa.visualisation import plot_isochrones\n",
    "\n",
    "plot_isochrones(mapbox_iso_1000, baucau)"
   ]
  },
  {
   "cell_type": "markdown",
   "id": "aec4707c",
   "metadata": {},
   "source": [
    "OSM Isopolygon"
   ]
  },
  {
   "cell_type": "code",
   "execution_count": 14,
   "id": "911f3f32",
   "metadata": {},
   "outputs": [
    {
     "name": "stderr",
     "output_type": "stream",
     "text": [
      "INFO:pisa.osm_road_network:OSM road network set with parameters network_type 'drive' and distance_type 'length'\n"
     ]
    }
   ],
   "source": [
    "from pisa.isopolygons import OsmIsopolygonCalculator\n",
    "from pisa.osm_road_network import OsmRoadNetwork\n",
    "\n",
    "road_network = OsmRoadNetwork(\n",
    "    admin_area_boundaries=baucau,\n",
    "    mode_of_transport=MODE_OF_TRANSPORT,\n",
    "    distance_type=DISTANCE_TYPE,\n",
    ").get_osm_road_network()"
   ]
  },
  {
   "cell_type": "code",
   "execution_count": 22,
   "id": "ec7a5647",
   "metadata": {},
   "outputs": [
    {
     "name": "stderr",
     "output_type": "stream",
     "text": [
      "/Users/catherine/code/Public-Infrastructure-Service-Access/pisa/isopolygons.py:238: UserWarning: Geometry is in a geographic CRS. Results from 'buffer' are likely incorrect. Use 'GeoSeries.to_crs()' to re-project geometries to a projected CRS before this operation.\n",
      "\n",
      "  disks = nodes_gdf.buffer(node_buffer).geometry\n",
      "/Users/catherine/code/Public-Infrastructure-Service-Access/pisa/isopolygons.py:243: UserWarning: Geometry is in a geographic CRS. Results from 'buffer' are likely incorrect. Use 'GeoSeries.to_crs()' to re-project geometries to a projected CRS before this operation.\n",
      "\n",
      "  cylinders = edges_gdf.buffer(edge_buffer).geometry\n"
     ]
    }
   ],
   "source": [
    "osm_1000 = OsmIsopolygonCalculator(\n",
    "    facilities_df=hospital_df,\n",
    "    distance_type=DISTANCE_TYPE,\n",
    "    distance_values=DISTANCE_VALUES,\n",
    "    road_network=road_network,\n",
    ").calculate_isopolygons()\n"
   ]
  },
  {
   "cell_type": "code",
   "execution_count": 23,
   "id": "cd821e1f",
   "metadata": {},
   "outputs": [
    {
     "data": {
      "text/html": [
       "<div style=\"width:100%;\"><div style=\"position:relative;width:100%;height:0;padding-bottom:60%;\"><span style=\"color:#565656\">Make this Notebook Trusted to load map: File -> Trust Notebook</span><iframe srcdoc=\"&lt;!DOCTYPE html&gt;\n",
       "&lt;html&gt;\n",
       "&lt;head&gt;\n",
       "    \n",
       "    &lt;meta http-equiv=&quot;content-type&quot; content=&quot;text/html; charset=UTF-8&quot; /&gt;\n",
       "    \n",
       "        &lt;script&gt;\n",
       "            L_NO_TOUCH = false;\n",
       "            L_DISABLE_3D = false;\n",
       "        &lt;/script&gt;\n",
       "    \n",
       "    &lt;style&gt;html, body {width: 100%;height: 100%;margin: 0;padding: 0;}&lt;/style&gt;\n",
       "    &lt;style&gt;#map {position:absolute;top:0;bottom:0;right:0;left:0;}&lt;/style&gt;\n",
       "    &lt;script src=&quot;https://cdn.jsdelivr.net/npm/leaflet@1.6.0/dist/leaflet.js&quot;&gt;&lt;/script&gt;\n",
       "    &lt;script src=&quot;https://code.jquery.com/jquery-1.12.4.min.js&quot;&gt;&lt;/script&gt;\n",
       "    &lt;script src=&quot;https://maxcdn.bootstrapcdn.com/bootstrap/3.2.0/js/bootstrap.min.js&quot;&gt;&lt;/script&gt;\n",
       "    &lt;script src=&quot;https://cdnjs.cloudflare.com/ajax/libs/Leaflet.awesome-markers/2.0.2/leaflet.awesome-markers.js&quot;&gt;&lt;/script&gt;\n",
       "    &lt;link rel=&quot;stylesheet&quot; href=&quot;https://cdn.jsdelivr.net/npm/leaflet@1.6.0/dist/leaflet.css&quot;/&gt;\n",
       "    &lt;link rel=&quot;stylesheet&quot; href=&quot;https://maxcdn.bootstrapcdn.com/bootstrap/3.2.0/css/bootstrap.min.css&quot;/&gt;\n",
       "    &lt;link rel=&quot;stylesheet&quot; href=&quot;https://maxcdn.bootstrapcdn.com/bootstrap/3.2.0/css/bootstrap-theme.min.css&quot;/&gt;\n",
       "    &lt;link rel=&quot;stylesheet&quot; href=&quot;https://maxcdn.bootstrapcdn.com/font-awesome/4.6.3/css/font-awesome.min.css&quot;/&gt;\n",
       "    &lt;link rel=&quot;stylesheet&quot; href=&quot;https://cdnjs.cloudflare.com/ajax/libs/Leaflet.awesome-markers/2.0.2/leaflet.awesome-markers.css&quot;/&gt;\n",
       "    &lt;link rel=&quot;stylesheet&quot; href=&quot;https://cdn.jsdelivr.net/gh/python-visualization/folium/folium/templates/leaflet.awesome.rotate.min.css&quot;/&gt;\n",
       "    \n",
       "            &lt;meta name=&quot;viewport&quot; content=&quot;width=device-width,\n",
       "                initial-scale=1.0, maximum-scale=1.0, user-scalable=no&quot; /&gt;\n",
       "            &lt;style&gt;\n",
       "                #map_8416b3b38d6c4de130ec5ee649b07752 {\n",
       "                    position: relative;\n",
       "                    width: 100.0%;\n",
       "                    height: 100.0%;\n",
       "                    left: 0.0%;\n",
       "                    top: 0.0%;\n",
       "                }\n",
       "            &lt;/style&gt;\n",
       "        \n",
       "&lt;/head&gt;\n",
       "&lt;body&gt;\n",
       "    \n",
       "    \n",
       "            &lt;div class=&quot;folium-map&quot; id=&quot;map_8416b3b38d6c4de130ec5ee649b07752&quot; &gt;&lt;/div&gt;\n",
       "        \n",
       "&lt;/body&gt;\n",
       "&lt;script&gt;\n",
       "    \n",
       "    \n",
       "            var map_8416b3b38d6c4de130ec5ee649b07752 = L.map(\n",
       "                &quot;map_8416b3b38d6c4de130ec5ee649b07752&quot;,\n",
       "                {\n",
       "                    center: [-8.564568024978032, 126.46981111466152],\n",
       "                    crs: L.CRS.EPSG3857,\n",
       "                    zoom: 10,\n",
       "                    zoomControl: true,\n",
       "                    preferCanvas: false,\n",
       "                }\n",
       "            );\n",
       "\n",
       "            \n",
       "\n",
       "        \n",
       "    \n",
       "            var tile_layer_d398896ea006127b977a82da233d590b = L.tileLayer(\n",
       "                &quot;https://{s}.tile.openstreetmap.org/{z}/{x}/{y}.png&quot;,\n",
       "                {&quot;attribution&quot;: &quot;Data by \\u0026copy; \\u003ca href=\\&quot;http://openstreetmap.org\\&quot;\\u003eOpenStreetMap\\u003c/a\\u003e, under \\u003ca href=\\&quot;http://www.openstreetmap.org/copyright\\&quot;\\u003eODbL\\u003c/a\\u003e.&quot;, &quot;detectRetina&quot;: false, &quot;maxNativeZoom&quot;: 18, &quot;maxZoom&quot;: 18, &quot;minZoom&quot;: 0, &quot;noWrap&quot;: false, &quot;opacity&quot;: 1, &quot;subdomains&quot;: &quot;abc&quot;, &quot;tms&quot;: false}\n",
       "            ).addTo(map_8416b3b38d6c4de130ec5ee649b07752);\n",
       "        \n",
       "    \n",
       "        function geo_json_bf33ff906792f3e6df2978e51f6efc68_styler(feature) {\n",
       "            switch(feature.id) {\n",
       "                default:\n",
       "                    return {&quot;color&quot;: &quot;#8000ff&quot;, &quot;fillColor&quot;: &quot;#8000ff&quot;, &quot;fillOpacity&quot;: 0.4, &quot;weight&quot;: 1};\n",
       "            }\n",
       "        }\n",
       "\n",
       "        function geo_json_bf33ff906792f3e6df2978e51f6efc68_onEachFeature(feature, layer) {\n",
       "            layer.on({\n",
       "            });\n",
       "        };\n",
       "        var geo_json_bf33ff906792f3e6df2978e51f6efc68 = L.geoJson(null, {\n",
       "                onEachFeature: geo_json_bf33ff906792f3e6df2978e51f6efc68_onEachFeature,\n",
       "            \n",
       "                style: geo_json_bf33ff906792f3e6df2978e51f6efc68_styler,\n",
       "        });\n",
       "\n",
       "        function geo_json_bf33ff906792f3e6df2978e51f6efc68_add (data) {\n",
       "            geo_json_bf33ff906792f3e6df2978e51f6efc68\n",
       "                .addData(data)\n",
       "                .addTo(map_8416b3b38d6c4de130ec5ee649b07752);\n",
       "        }\n",
       "            geo_json_bf33ff906792f3e6df2978e51f6efc68_add({&quot;features&quot;: [{&quot;geometry&quot;: {&quot;coordinates&quot;: [[[126.59888129032201, -8.547627785280403], [126.59878421714033, -8.547642184726673], [126.5986862, -8.547647], [126.59858818285967, -8.547642184726673], [126.598491109678, -8.547627785280403], [126.59839591532275, -8.547603940335732], [126.59830351656764, -8.547570879532511], [126.59821480326318, -8.547528921264348], [126.59813062976698, -8.547478469612303], [126.59805180671584, -8.547420010453363], [126.59797909321881, -8.547354106781187], [126.59791318954665, -8.547281393284164], [126.5978547303877, -8.54720257023302], [126.59780427873565, -8.547118396736826], [126.5977623204675, -8.547029683432365], [126.59772925966428, -8.546937284677254], [126.5977054147196, -8.546842090322016], [126.59769101527333, -8.54674501714033], [126.59768742940665, -8.546672025147199], [126.59746079469481, -8.546543668299892], [126.59744933326269, -8.546536974539142], [126.59708175311519, -8.546315703934384], [126.5970513, -8.546317199999999], [126.59695328285967, -8.546312384726672], [126.596856209678, -8.546297985280402], [126.59676101532276, -8.546274140335731], [126.59666861656764, -8.54624107953251], [126.59661852819968, -8.546217389498784], [126.59656528467725, -8.546236440335731], [126.59647009032201, -8.546260285280402], [126.59637301714034, -8.546274684726672], [126.596275, -8.546279499999999], [126.59617698285967, -8.546274684726672], [126.596079909678, -8.546260285280402], [126.59598471532276, -8.546236440335731], [126.59589231656764, -8.54620337953251], [126.59580360326318, -8.546161421264348], [126.59571942976699, -8.546110969612302], [126.59564060671585, -8.546052510453363], [126.59556789321881, -8.545986606781186], [126.59550198954665, -8.545913893284164], [126.5954435303877, -8.54583507023302], [126.59539307873565, -8.545750896736825], [126.5953511204675, -8.545662183432365], [126.59531805966428, -8.545569784677253], [126.5952942147196, -8.545474590322016], [126.59527981527333, -8.545377517140329], [126.595275, -8.5452795], [126.5952762877991, -8.545253286247206], [126.59514667462213, -8.545162229138727], [126.5951059611371, -8.545130359707155], [126.59506875643898, -8.545094456239752], [126.59503545835743, -8.545054902652081], [126.59500642294861, -8.545012121890423], [126.59498196068802, -8.54496657140921], [126.59496233315042, -8.544918738279472], [126.59494775021297, -8.544869133980583], [126.59493836781094, -8.544818288931022], [126.59492439701317, -8.5447120473644], [126.59492070671584, -8.544709310453364], [126.5948479932188, -8.544643406781187], [126.59478208954664, -8.544570693284165], [126.59472363038769, -8.54449187023302], [126.59467317873565, -8.544407696736826], [126.59463122046749, -8.544318983432365], [126.59459815966427, -8.544226584677254], [126.5945743147196, -8.544131390322017], [126.59455991527332, -8.54403431714033], [126.5945551, -8.5439363], [126.59455991527332, -8.54383828285967], [126.5945743147196, -8.543741209677984], [126.59459815966427, -8.543646015322746], [126.59463122046749, -8.543553616567635], [126.59467317873565, -8.543464903263175], [126.59472363038769, -8.54338072976698], [126.59478208954664, -8.543301906715836], [126.5948479932188, -8.543229193218814], [126.59492070671584, -8.543163289546637], [126.59499952976698, -8.543104830387698], [126.59508370326317, -8.543054378735652], [126.59517241656764, -8.54301242046749], [126.59526481532275, -8.542979359664269], [126.59536000967799, -8.542955514719598], [126.59545708285967, -8.542941115273328], [126.5955551, -8.542936300000001], [126.59565311714033, -8.542941115273328], [126.59575019032201, -8.542955514719598], [126.59584538467725, -8.542979359664269], [126.59593778343236, -8.54301242046749], [126.59602649673683, -8.543054378735652], [126.59611067023302, -8.543104830387698], [126.59618949328416, -8.543163289546637], [126.59626220678119, -8.543229193218814], [126.59632811045336, -8.543301906715836], [126.5963865696123, -8.54338072976698], [126.59643702126435, -8.543464903263175], [126.5964789795325, -8.543553616567635], [126.59651204033572, -8.543646015322746], [126.5965358852804, -8.543741209677984], [126.59655028472667, -8.54383828285967], [126.5965551, -8.5439363], [126.59655028472667, -8.54403431714033], [126.5965358852804, -8.544131390322017], [126.59651204033572, -8.544226584677254], [126.59648490409923, -8.54430242537762], [126.59656528467725, -8.544322559664268], [126.59665768343237, -8.544355620467488], [126.59670777180033, -8.544379310501215], [126.59676101532276, -8.544360259664268], [126.596856209678, -8.544336414719597], [126.59695328285967, -8.544322015273327], [126.5970513, -8.5443172], [126.59714931714034, -8.544322015273327], [126.59724639032201, -8.544336414719597], [126.59734158467725, -8.544360259664268], [126.59743398343237, -8.544393320467488], [126.59752269673683, -8.544435278735651], [126.59760687023302, -8.544485730387697], [126.59768569328416, -8.544544189546636], [126.5977584067812, -8.544610093218813], [126.59782431045336, -8.544682806715835], [126.59788276961231, -8.54476162976698], [126.59793322126436, -8.544845803263174], [126.59797517953251, -8.544934516567634], [126.59800824033573, -8.545026915322746], [126.59803208528041, -8.545122109677983], [126.59804648472668, -8.54521918285967], [126.59805130000001, -8.5453172], [126.59804648472668, -8.545415217140329], [126.59803208528041, -8.545512290322016], [126.59800824033573, -8.545607484677253], [126.59797938430046, -8.54568813189322], [126.59816350403567, -8.545792409956134], [126.59821990671584, -8.545741289546637], [126.59829872976698, -8.545682830387697], [126.59838290326317, -8.545632378735652], [126.59847161656764, -8.545590420467489], [126.59856401532275, -8.545557359664269], [126.59865920967799, -8.545533514719597], [126.59875628285967, -8.545519115273327], [126.5988543, -8.5455143], [126.59895231714033, -8.545519115273327], [126.59904939032201, -8.545533514719597], [126.59914458467725, -8.545557359664269], [126.59923698343236, -8.545590420467489], [126.59932569673683, -8.545632378735652], [126.59940987023302, -8.545682830387697], [126.59948869328416, -8.545741289546637], [126.59956140678119, -8.545807193218813], [126.59962731045336, -8.545879906715836], [126.59968576961231, -8.54595872976698], [126.59973622126435, -8.546042903263174], [126.5997781795325, -8.546131616567635], [126.59981124033573, -8.546224015322746], [126.5998350852804, -8.546319209677984], [126.59984948472668, -8.54641628285967], [126.59985000064023, -8.546426784521469], [126.60004260447498, -8.54651629436407], [126.60013708434629, -8.546546177773841], [126.60018296754102, -8.546563202405588], [126.60022696657761, -8.546584631134548], [126.60041214729392, -8.546686319419406], [126.60050136071722, -8.546730026588822], [126.60050202976699, -8.546729530387697], [126.60058620326318, -8.546679078735652], [126.60067491656764, -8.546637120467489], [126.60076731532276, -8.546604059664269], [126.600862509678, -8.546580214719597], [126.60095958285967, -8.546565815273327], [126.6010576, -8.546561], [126.60115561714034, -8.546565815273327], [126.60119081742782, -8.546571036742733], [126.60122970671584, -8.546535789546637], [126.60130852976698, -8.546477330387697], [126.60139270326317, -8.546426878735652], [126.60148141656764, -8.546384920467489], [126.60157381532275, -8.546351859664268], [126.60166900967799, -8.546328014719597], [126.60176608285967, -8.546313615273327], [126.6018641, -8.5463088], [126.60196211714033, -8.546313615273327], [126.60205919032201, -8.546328014719597], [126.60215438467725, -8.546351859664268], [126.60224678343236, -8.546384920467489], [126.60233549673683, -8.546426878735652], [126.60241967023302, -8.546477330387697], [126.60249849328416, -8.546535789546637], [126.6025477154325, -8.546580401901432], [126.6029674342823, -8.546436891288835], [126.6029942940591, -8.54642854347329], [126.6030615071549, -8.546409710109472], [126.60308553038769, -8.54636962976698], [126.60314398954664, -8.546290806715836], [126.6032098932188, -8.546218093218814], [126.60328260671584, -8.546152189546637], [126.60336142976698, -8.546093730387698], [126.60344560326317, -8.546043278735652], [126.60353431656763, -8.54600132046749], [126.60362671532275, -8.545968259664269], [126.60372190967799, -8.545944414719598], [126.60381898285966, -8.545930015273328], [126.603917, -8.545925200000001], [126.60401501714033, -8.545930015273328], [126.604112090322, -8.545944414719598], [126.60420728467724, -8.545968259664269], [126.60429968343236, -8.54600132046749], [126.60438839673682, -8.546043278735652], [126.60447257023301, -8.546093730387698], [126.60455139328415, -8.546152189546637], [126.60462410678119, -8.546218093218814], [126.60469001045335, -8.546290806715836], [126.6047484696123, -8.54636962976698], [126.60479892126435, -8.546453803263175], [126.6048408795325, -8.546542516567635], [126.60487394033572, -8.546634915322747], [126.6048977852804, -8.546730109677984], [126.60491218472667, -8.546827182859671], [126.604917, -8.5469252], [126.60491218472667, -8.54702321714033], [126.6048977852804, -8.547120290322017], [126.60487394033572, -8.547215484677254], [126.6048408795325, -8.547307883432365], [126.60479892126435, -8.547396596736826], [126.6047484696123, -8.54748077023302], [126.60469001045335, -8.547559593284165], [126.60462410678119, -8.547632306781187], [126.60455139328415, -8.547698210453364], [126.60447257023301, -8.547756669612303], [126.60438839673682, -8.547807121264348], [126.60429968343236, -8.547849079532511], [126.60420728467724, -8.547882140335732], [126.604112090322, -8.547905985280403], [126.60401501714033, -8.547920384726673], [126.603917, -8.5479252], [126.60381898285966, -8.547920384726673], [126.60372190967799, -8.547905985280403], [126.60362671532275, -8.547882140335732], [126.60353431656763, -8.547849079532511], [126.60344560326317, -8.547807121264348], [126.60336142976698, -8.547756669612303], [126.60328260671584, -8.547698210453364], [126.6032098932188, -8.547632306781187], [126.60314398954664, -8.547559593284165], [126.60308553038769, -8.54748077023302], [126.60307189131262, -8.547458014811022], [126.60283618940568, -8.547538606199932], [126.60282104033573, -8.547599084677254], [126.60278797953251, -8.547691483432365], [126.60274602126435, -8.547780196736825], [126.60269556961231, -8.54786437023302], [126.60263711045336, -8.547943193284164], [126.60257120678119, -8.548015906781187], [126.60249849328416, -8.548081810453363], [126.60241967023302, -8.548140269612302], [126.60233549673683, -8.548190721264348], [126.60224678343236, -8.54823267953251], [126.60215438467725, -8.548265740335731], [126.60205919032201, -8.548289585280402], [126.60196211714033, -8.548303984726672], [126.6018641, -8.5483088], [126.60176608285967, -8.548303984726672], [126.60173088257218, -8.548298763257266], [126.60169199328416, -8.548334010453363], [126.60161317023302, -8.548392469612303], [126.60152899673683, -8.548442921264348], [126.60144028343237, -8.548484879532511], [126.60134788467725, -8.548517940335731], [126.60125269032201, -8.548541785280403], [126.60115561714034, -8.548556184726673], [126.6010576, -8.548561], [126.60095958285967, -8.548556184726673], [126.600862509678, -8.548541785280403], [126.60076731532276, -8.548517940335731], [126.60067491656764, -8.548484879532511], [126.60058620326318, -8.548442921264348], [126.60050202976699, -8.548392469612303], [126.60042320671585, -8.548334010453363], [126.60035049321881, -8.548268106781187], [126.60032108856942, -8.548235663750079], [126.60028705277938, -8.548240136941672], [126.60023748022357, -8.54824415719768], [126.60018775351074, -8.548243232654576], [126.60013836465704, -8.54823737246016], [126.60008980233569, -8.548226634597562], [126.60004254704187, -8.548211125311514], [126.59986035754378, -8.54814111362666], [126.59952548184249, -8.548050410363851], [126.59947911639232, -8.548035391056255], [126.5994344334734, -8.548015929007855], [126.59939185763328, -8.547992209134156], [126.59935179339939, -8.547964456805705], [126.59931462143561, -8.54793293570676], [126.5991086103035, -8.54774021561543], [126.59902436362482, -8.5476953180239], [126.59888601681573, -8.54762660135536], [126.59888129032201, -8.547627785280403]]], &quot;type&quot;: &quot;Polygon&quot;}, &quot;id&quot;: &quot;0&quot;, &quot;type&quot;: &quot;Feature&quot;}], &quot;type&quot;: &quot;FeatureCollection&quot;});\n",
       "\n",
       "        \n",
       "    \n",
       "            var marker_d8cf351317f0435917aaa85262c25b82 = L.marker(\n",
       "                [-8.564568024978032, 126.46981111466152],\n",
       "                {}\n",
       "            ).addTo(map_8416b3b38d6c4de130ec5ee649b07752);\n",
       "        \n",
       "&lt;/script&gt;\n",
       "&lt;/html&gt;\" style=\"position:absolute;width:100%;height:100%;left:0;top:0;border:none !important;\" allowfullscreen webkitallowfullscreen mozallowfullscreen></iframe></div></div>"
      ],
      "text/plain": [
       "<folium.folium.Map at 0x32f8708b0>"
      ]
     },
     "execution_count": 23,
     "metadata": {},
     "output_type": "execute_result"
    }
   ],
   "source": [
    "plot_isochrones(osm_1000, baucau)"
   ]
  },
  {
   "cell_type": "code",
   "execution_count": 17,
   "id": "7a97d8a9",
   "metadata": {},
   "outputs": [],
   "source": [
    "from pisa.isopolygons import OsmIsopolygonCalculatorAlternative\n",
    "\n",
    "osm_alt_1000 = OsmIsopolygonCalculatorAlternative(\n",
    "    facilities_df=hospital_df,\n",
    "    distance_type=DISTANCE_TYPE,\n",
    "    distance_values=DISTANCE_VALUES,\n",
    "    road_network=road_network,\n",
    ").calculate_isopolygons()\n"
   ]
  },
  {
   "cell_type": "code",
   "execution_count": 18,
   "id": "1baf3946",
   "metadata": {},
   "outputs": [
    {
     "data": {
      "text/html": [
       "<div style=\"width:100%;\"><div style=\"position:relative;width:100%;height:0;padding-bottom:60%;\"><span style=\"color:#565656\">Make this Notebook Trusted to load map: File -> Trust Notebook</span><iframe srcdoc=\"&lt;!DOCTYPE html&gt;\n",
       "&lt;html&gt;\n",
       "&lt;head&gt;\n",
       "    \n",
       "    &lt;meta http-equiv=&quot;content-type&quot; content=&quot;text/html; charset=UTF-8&quot; /&gt;\n",
       "    \n",
       "        &lt;script&gt;\n",
       "            L_NO_TOUCH = false;\n",
       "            L_DISABLE_3D = false;\n",
       "        &lt;/script&gt;\n",
       "    \n",
       "    &lt;style&gt;html, body {width: 100%;height: 100%;margin: 0;padding: 0;}&lt;/style&gt;\n",
       "    &lt;style&gt;#map {position:absolute;top:0;bottom:0;right:0;left:0;}&lt;/style&gt;\n",
       "    &lt;script src=&quot;https://cdn.jsdelivr.net/npm/leaflet@1.6.0/dist/leaflet.js&quot;&gt;&lt;/script&gt;\n",
       "    &lt;script src=&quot;https://code.jquery.com/jquery-1.12.4.min.js&quot;&gt;&lt;/script&gt;\n",
       "    &lt;script src=&quot;https://maxcdn.bootstrapcdn.com/bootstrap/3.2.0/js/bootstrap.min.js&quot;&gt;&lt;/script&gt;\n",
       "    &lt;script src=&quot;https://cdnjs.cloudflare.com/ajax/libs/Leaflet.awesome-markers/2.0.2/leaflet.awesome-markers.js&quot;&gt;&lt;/script&gt;\n",
       "    &lt;link rel=&quot;stylesheet&quot; href=&quot;https://cdn.jsdelivr.net/npm/leaflet@1.6.0/dist/leaflet.css&quot;/&gt;\n",
       "    &lt;link rel=&quot;stylesheet&quot; href=&quot;https://maxcdn.bootstrapcdn.com/bootstrap/3.2.0/css/bootstrap.min.css&quot;/&gt;\n",
       "    &lt;link rel=&quot;stylesheet&quot; href=&quot;https://maxcdn.bootstrapcdn.com/bootstrap/3.2.0/css/bootstrap-theme.min.css&quot;/&gt;\n",
       "    &lt;link rel=&quot;stylesheet&quot; href=&quot;https://maxcdn.bootstrapcdn.com/font-awesome/4.6.3/css/font-awesome.min.css&quot;/&gt;\n",
       "    &lt;link rel=&quot;stylesheet&quot; href=&quot;https://cdnjs.cloudflare.com/ajax/libs/Leaflet.awesome-markers/2.0.2/leaflet.awesome-markers.css&quot;/&gt;\n",
       "    &lt;link rel=&quot;stylesheet&quot; href=&quot;https://cdn.jsdelivr.net/gh/python-visualization/folium/folium/templates/leaflet.awesome.rotate.min.css&quot;/&gt;\n",
       "    \n",
       "            &lt;meta name=&quot;viewport&quot; content=&quot;width=device-width,\n",
       "                initial-scale=1.0, maximum-scale=1.0, user-scalable=no&quot; /&gt;\n",
       "            &lt;style&gt;\n",
       "                #map_2b03f72760e79050388961235e5d3333 {\n",
       "                    position: relative;\n",
       "                    width: 100.0%;\n",
       "                    height: 100.0%;\n",
       "                    left: 0.0%;\n",
       "                    top: 0.0%;\n",
       "                }\n",
       "            &lt;/style&gt;\n",
       "        \n",
       "&lt;/head&gt;\n",
       "&lt;body&gt;\n",
       "    \n",
       "    \n",
       "            &lt;div class=&quot;folium-map&quot; id=&quot;map_2b03f72760e79050388961235e5d3333&quot; &gt;&lt;/div&gt;\n",
       "        \n",
       "&lt;/body&gt;\n",
       "&lt;script&gt;\n",
       "    \n",
       "    \n",
       "            var map_2b03f72760e79050388961235e5d3333 = L.map(\n",
       "                &quot;map_2b03f72760e79050388961235e5d3333&quot;,\n",
       "                {\n",
       "                    center: [-8.564568024978032, 126.46981111466152],\n",
       "                    crs: L.CRS.EPSG3857,\n",
       "                    zoom: 10,\n",
       "                    zoomControl: true,\n",
       "                    preferCanvas: false,\n",
       "                }\n",
       "            );\n",
       "\n",
       "            \n",
       "\n",
       "        \n",
       "    \n",
       "            var tile_layer_532577ab2637ca1678c5f28cef70367d = L.tileLayer(\n",
       "                &quot;https://{s}.tile.openstreetmap.org/{z}/{x}/{y}.png&quot;,\n",
       "                {&quot;attribution&quot;: &quot;Data by \\u0026copy; \\u003ca href=\\&quot;http://openstreetmap.org\\&quot;\\u003eOpenStreetMap\\u003c/a\\u003e, under \\u003ca href=\\&quot;http://www.openstreetmap.org/copyright\\&quot;\\u003eODbL\\u003c/a\\u003e.&quot;, &quot;detectRetina&quot;: false, &quot;maxNativeZoom&quot;: 18, &quot;maxZoom&quot;: 18, &quot;minZoom&quot;: 0, &quot;noWrap&quot;: false, &quot;opacity&quot;: 1, &quot;subdomains&quot;: &quot;abc&quot;, &quot;tms&quot;: false}\n",
       "            ).addTo(map_2b03f72760e79050388961235e5d3333);\n",
       "        \n",
       "    \n",
       "        function geo_json_9583fb218787a8e73ba7e03f8d29129f_styler(feature) {\n",
       "            switch(feature.id) {\n",
       "                default:\n",
       "                    return {&quot;color&quot;: &quot;#8000ff&quot;, &quot;fillColor&quot;: &quot;#8000ff&quot;, &quot;fillOpacity&quot;: 0.4, &quot;weight&quot;: 1};\n",
       "            }\n",
       "        }\n",
       "\n",
       "        function geo_json_9583fb218787a8e73ba7e03f8d29129f_onEachFeature(feature, layer) {\n",
       "            layer.on({\n",
       "            });\n",
       "        };\n",
       "        var geo_json_9583fb218787a8e73ba7e03f8d29129f = L.geoJson(null, {\n",
       "                onEachFeature: geo_json_9583fb218787a8e73ba7e03f8d29129f_onEachFeature,\n",
       "            \n",
       "                style: geo_json_9583fb218787a8e73ba7e03f8d29129f_styler,\n",
       "        });\n",
       "\n",
       "        function geo_json_9583fb218787a8e73ba7e03f8d29129f_add (data) {\n",
       "            geo_json_9583fb218787a8e73ba7e03f8d29129f\n",
       "                .addData(data)\n",
       "                .addTo(map_2b03f72760e79050388961235e5d3333);\n",
       "        }\n",
       "            geo_json_9583fb218787a8e73ba7e03f8d29129f_add({&quot;features&quot;: [{&quot;geometry&quot;: {&quot;coordinates&quot;: [[[126.59450500716189, -8.544594371588195], [126.59450427024144, -8.544574054922416], [126.594505768754, -8.544550059883871], [126.59450618189543, -8.544526022043655], [126.5945085311323, -8.544505827080384], [126.59450979830625, -8.544485536344787], [126.59451365235105, -8.544461803055315], [126.59451643046559, -8.544437921272804], [126.59452075695103, -8.544418052763652], [126.59452401601449, -8.544397983368574], [126.59459391664966, -8.544070483726589], [126.59459541479917, -8.544064842289265], [126.59459642481444, -8.544059094337806], [126.59466952542712, -8.543737094697434], [126.59469340515244, -8.543651650031537], [126.59472558344487, -8.543568946702177], [126.59476575040654, -8.543489781184448], [126.59481351920543, -8.543414915882154], [126.59486842980087, -8.54334507178572], [126.59492995337395, -8.54328092152868], [126.59499749742041, -8.543223082910083], [126.59507041145676, -8.543172112944767], [126.59514799328458, -8.543128502499128], [126.59522949575306, -8.543092671563944], [126.59531413395413, -8.543064965209657], [126.59540109278151, -8.543045650263194], [126.59548953478036, -8.543034912738289], [126.59557860821216, -8.543032856044114], [126.59566745525717, -8.543039499989266], [126.59575522027552, -8.543054780591026], [126.59584105804718, -8.543078550691439], [126.59592414191182, -8.543110581374357], [126.59600367172975, -8.543150564170059], [126.5960788815876, -8.543198114025703], [126.59614904717432, -8.543252773013597], [126.5962134927568, -8.54331401474106], [126.59627159768748, -8.543381249419804], [126.59632280238154, -8.543453829545799], [126.59636661370614, -8.543531056134949], [126.59640260972972, -8.543612185454682], [126.5964304437856, -8.54369643618633], [126.59644984781073, -8.54378299694971], [126.59646063492758, -8.543871034117087], [126.59646270124401, -8.543959699841514], [126.59645602685421, -8.544048140222069], [126.5964406760304, -8.544135503527437], [126.59642300350983, -8.544213350473688], [126.59643654881455, -8.544214643752507], [126.59646503923017, -8.544216356660703], [126.59648086953725, -8.544218875403915], [126.59649682755496, -8.54422039904137], [126.59652483556765, -8.544225870788516], [126.59655302013057, -8.54423035519929], [126.59656852619649, -8.544234406344383], [126.59658425734467, -8.54423747963593], [126.59661159170275, -8.54424565771928], [126.5966391989821, -8.544252870446142], [126.59665423147615, -8.544258414978994], [126.59666958425575, -8.544263008327585], [126.59691158389158, -8.544348508011076], [126.59692891642597, -8.54435560297985], [126.59694662628353, -8.544361705205699], [126.5970788639126, -8.544414636624124], [126.5970992248192, -8.544414712075849], [126.59718786048191, -8.544423733685322], [126.59727518100985, -8.54444135984677], [126.59736034546354, -8.544467420813262], [126.5974425336668, -8.544501665606534], [126.59752095410532, -8.544543764433747], [126.59759485154933, -8.544593311863569], [126.5976635143268, -8.544649830730535], [126.59772628117712, -8.544712776730291], [126.59778254761947, -8.54478154366139], [126.59783177177441, -8.544855469263211], [126.59787347958247, -8.544933841593906], [126.59790726936995, -8.545015905886583], [126.59793281571721, -8.545100871818128], [126.597949872593, -8.545187921120393], [126.59795094348658, -8.545199173334977], [126.59816668413893, -8.545329041408078], [126.59869071442958, -8.545625830714787], [126.59870171793754, -8.545623404998693], [126.59871041703454, -8.545622362877577], [126.59871900657254, -8.545620641594642], [126.59875463014546, -8.545617066299751], [126.59879017782538, -8.545612807806704], [126.59879893765034, -8.545612619453093], [126.59880765531979, -8.54561174451853], [126.59884345941155, -8.545611662143784], [126.59887925524896, -8.545610892456011], [126.59888799144048, -8.545611559683968], [126.59889675328616, -8.545611539524005], [126.5989323930858, -8.545614950863348], [126.59896809235005, -8.545617677393993], [126.59897672077462, -8.545619193777979], [126.59898544241553, -8.54562002858693], [126.59902057469493, -8.545626900788207], [126.5990558335846, -8.54563309728013], [126.59906427114598, -8.545635448216718], [126.5990728685888, -8.545637129955175], [126.59910715500675, -8.54564739683637], [126.5991416339616, -8.54565700361502], [126.59914979940223, -8.545660166463799], [126.59915818984904, -8.545662678935896], [126.59919130021011, -8.545676241622441], [126.5992246671808, -8.545689166170593], [126.5994065669643, -8.545770065912972], [126.59941420601596, -8.54577392156342], [126.59942212797249, -8.545777162556256], [126.59974322761656, -8.545927262094047], [126.59974711999607, -8.545929319409515], [126.59975117977393, -8.545931026321465], [126.6000118964639, -8.546055985546243], [126.60019199267107, -8.546139682499378], [126.60026124446522, -8.546161586364574], [126.60026128973016, -8.546161603157232], [126.60026133642933, -8.546161615457542], [126.60030303391221, -8.546177089647996], [126.60034473302814, -8.546192559414653], [126.6003447764215, -8.546192580542785], [126.6003448216847, -8.546192597340225], [126.60038479471787, -8.546212065360187], [126.6004247697133, -8.546231529089049], [126.60042481081726, -8.546231554349214], [126.6004248542085, -8.546231575481993], [126.60060166861125, -8.546328669390363], [126.60068261955568, -8.546368328560533], [126.60077469100412, -8.546395610491503], [126.6008951922735, -8.546416295528767], [126.60090754043954, -8.54641904230564], [126.60092005196967, -8.546420918677786], [126.60095099604307, -8.5464287087457], [126.60098214608375, -8.546435637883516], [126.60099416432033, -8.546439576212046], [126.60100643084208, -8.546442664266078], [126.60103645883895, -8.546453435954998], [126.60106677658548, -8.546463370954925], [126.60107834915097, -8.546468462907269], [126.60109025253169, -8.54647273290397], [126.60125725231518, -8.546542032672944], [126.60125855120532, -8.546542647787275], [126.6012599028601, -8.54654313747087], [126.60126876489163, -8.546547368546296], [126.60159272521555, -8.546446364211914], [126.60159905319658, -8.54644472592753], [126.60160522124707, -8.54644256625578], [126.60232426414015, -8.546229642514154], [126.60283424862213, -8.54605526787526], [126.60285887732992, -8.546048170911952], [126.60288318741664, -8.546040058137411], [126.60315798674488, -8.545963058150814], [126.6031706253567, -8.545960174673715], [126.60318303181114, -8.545956422921552], [126.60321402708495, -8.545950272641921], [126.60324483337534, -8.545943244234763], [126.60325769506078, -8.545941607759241], [126.60327041120433, -8.545939084538599], [126.60330186283707, -8.545935988003588], [126.6033332128648, -8.545931999130824], [126.60334617375968, -8.54593162541716], [126.60335907712987, -8.54593035502809], [126.60339068222738, -8.545930342059341], [126.60342227407668, -8.545929431136361], [126.60343520936134, -8.545930323783834], [126.6034481756926, -8.545930318461027], [126.60347962988286, -8.54593338918402], [126.60351115930898, -8.54593556498406], [126.60352394441053, -8.545937715396287], [126.60353684883079, -8.545938975191254], [126.6037521483805, -8.545970674983247], [126.60377643808823, -8.545975473966148], [126.60380091496245, -8.545979213798722], [126.60409861438076, -8.546039713479797], [126.60418493258544, -8.5460616969545], [126.60426867047728, -8.546091996422666], [126.60434902161816, -8.546130320087054], [126.60442521218522, -8.546176298873174], [126.60449650842287, -8.546229489983558], [126.60456222370952, -8.546289381162028], [126.60462172516986, -8.546355395626914], [126.60467443977005, -8.546426897625576], [126.60471985983621, -8.546503198556987], [126.60475754794392, -8.54658356360328], [126.60478714113091, -8.546667218806325], [126.60480835439292, -8.546753358521304], [126.60482098342844, -8.54684115317561], [126.60482490660671, -8.546929757257933], [126.6048200861392, -8.547018317461134], [126.60480656844383, -8.547105980900062], [126.6047844836981, -8.547191903325416], [126.60475404458573, -8.547275257254393], [126.6047155442484, -8.547355239939908], [126.60466935346298, -8.547431081101612], [126.60461591707059, -8.547502050344319], [126.6045557496929, -8.547567464192069], [126.6044894307757, -8.547626692670704], [126.60441759900877, -8.547679165374806], [126.60434094617472, -8.547724376961249], [126.60426021048657, -8.547761892015922], [126.60417616947834, -8.547791349247184], [126.6040896325166, -8.547812464965197], [126.60400143300578, -8.547825035814197], [126.60391242036161, -8.547828940730788], [126.6038234518307, -8.547824142109903], [126.60373538423448, -8.547810686166835], [126.60346302706463, -8.547755336281964], [126.60339989850561, -8.547773025086487], [126.60289625096351, -8.547945232337296], [126.60287805297109, -8.547950476186207], [126.60286018122126, -8.547956733792232], [126.60212924120033, -8.548173179630645], [126.60137978633728, -8.548406843146076], [126.6013427675148, -8.54841901484449], [126.60097236849555, -8.54854118236109], [126.60093279018528, -8.548552122802313], [126.60089329723314, -8.54856336471714], [126.60088987252364, -8.548563986318655], [126.60088651827961, -8.548564913515444], [126.60084605325113, -8.548571939727802], [126.60080564348218, -8.5485792742907], [126.6003407423341, -8.548640374136436], [126.60033674684453, -8.548640701733637], [126.60033279666148, -8.548641382917973], [126.60029235646435, -8.548644341375997], [126.60025194406208, -8.548647654852624], [126.6002479355537, -8.548647591043556], [126.60024393731629, -8.548647883539372], [126.60020340053516, -8.548646882114163], [126.60016285645581, -8.548646236709981], [126.60015887353313, -8.54864578210922], [126.60015486574672, -8.54864568309972], [126.60011462277392, -8.548640731436222], [126.60007433748362, -8.548636133367735], [126.60007041850477, -8.548635292353461], [126.60006643976666, -8.548634802792227], [126.60002687816795, -8.548625948578794], [126.59998723963714, -8.548617442128938], [126.5999834223439, -8.548616222800632], [126.59997951097208, -8.548615347402546], [126.59994101175018, -8.548602675911596], [126.59990240172104, -8.548590343003127], [126.59989872287639, -8.548588757103767], [126.59989491653955, -8.548587504299498], [126.59973236961206, -8.548525040730752], [126.59941781725075, -8.548439841934222], [126.59937639435755, -8.54842641713047], [126.5993349422417, -8.548413082051894], [126.59933403584823, -8.54841268909646], [126.59933309578855, -8.548412384431025], [126.59929319429997, -8.548394982756367], [126.59925325489071, -8.548377667522132], [126.59925239155598, -8.548377188024583], [126.59925148602343, -8.548376793107236], [126.59921349021333, -8.548355582150965], [126.59917544815113, -8.548334453517805], [126.59917463618962, -8.54833389209604], [126.59917377390491, -8.548333410730061], [126.59913804969521, -8.548308594767668], [126.59910227134613, -8.548283856216809], [126.5991015185774, -8.548283218277605], [126.5991007078449, -8.548282655098895], [126.59906759927794, -8.548254473122496], [126.59903442920887, -8.548226362902154], [126.59886767337736, -8.548070365173604], [126.59883615904647, -8.548053570199865], [126.59837832439308, -8.547826163908178], [126.59835590721173, -8.54781362569443], [126.59833298632526, -8.54780202487949], [126.59831709186393, -8.547791915773889], [126.59830064799314, -8.547782718504942], [126.5982795733901, -8.54776805348183], [126.59825790520244, -8.547754272198434], [126.5982430827168, -8.547742660991002], [126.59822762367959, -8.547731903625087], [126.59820809461499, -8.547715253025757], [126.59818788780294, -8.54769942399618], [126.59809628784187, -8.547620123846578], [126.59809152972076, -8.547615577714504], [126.59808640660789, -8.5476114432518], [126.59805939981068, -8.547584879287879], [126.59803200849991, -8.547558708336853], [126.59802772094551, -8.547553719858543], [126.59802302962024, -8.547549105456012], [126.59799876860639, -8.547520034424428], [126.59797408623028, -8.547491316996787], [126.59797031053387, -8.54748593421417], [126.59796609617607, -8.547480884311284], [126.5979448145914, -8.547449586183292], [126.59792307885346, -8.547418598844471], [126.59791985137679, -8.547412873596839], [126.59791615457284, -8.547407436827122], [126.59789805736875, -8.547374213021387], [126.59787947759472, -8.547341254197658], [126.59787682941992, -8.547335241622552], [126.59787368577166, -8.5473294703451], [126.59785894723213, -8.547294640825585], [126.59784370235344, -8.547260027929243], [126.59784165898347, -8.547253785931048], [126.59783909876563, -8.547247735726593], [126.59782978619394, -8.54721782080332], [126.59725821156307, -8.546894103094317], [126.59724801380042, -8.546887648358691], [126.59723737844662, -8.546881936031875], [126.59672057554879, -8.546570837864953], [126.59645508050657, -8.546422232512354], [126.59595496218013, -8.546144909031892], [126.59593528017615, -8.546132698380722], [126.59591504249816, -8.546121423603003], [126.5958063209813, -8.546053673363778], [126.59530686983095, -8.545765475448883], [126.59527287384356, -8.545743572520593], [126.59523868251287, -8.545721972984317], [126.59491058244339, -8.54549147246038], [126.59489603896448, -8.545480151479758], [126.59488086573258, -8.545469681447221], [126.59486096673628, -8.545452850441222], [126.59484039693874, -8.545436838429383], [126.5948270382555, -8.545424152985742], [126.59481296906019, -8.545412252949044], [126.59479482321369, -8.545393561485902], [126.59477592915087, -8.54537561962456], [126.59476388391464, -8.545361691886479], [126.59475105424963, -8.545348476449965], [126.59473483630681, -8.545328104539504], [126.59471779993845, -8.545308405619512], [126.59470718415089, -8.545293369719236], [126.59469571757248, -8.54527896615542], [126.5946815837202, -8.545257109991066], [126.59466656911499, -8.545235843724516], [126.59465748501121, -8.545219844466509], [126.59464749194817, -8.545204391490048], [126.59463557830209, -8.5451812615593], [126.5946227300577, -8.545158632752516], [126.59461526512162, -8.545141824218634], [126.59460684181177, -8.545125470650621], [126.59459726310546, -8.545101289707912], [126.59458670495609, -8.545077516289037], [126.59458093107808, -8.545060060354919], [126.59457415864145, -8.545042963689404], [126.5945670071214, -8.545017964610574], [126.59455884074632, -8.544993275531013], [126.5945548135308, -8.544975340307083], [126.59454975718846, -8.544957665194344], [126.59454510172597, -8.544932088734274], [126.59453940577005, -8.544906721763429], [126.59453716400003, -8.544888479975569], [126.59453387244605, -8.54487039663667], [126.59451187286096, -8.544703096693187], [126.59451021898339, -8.544682833556912], [126.59450748506407, -8.54466268662117], [126.59450661361136, -8.544638660918341], [126.59450465779925, -8.544614698517513], [126.59450500716189, -8.544594371588195]]], &quot;type&quot;: &quot;Polygon&quot;}, &quot;id&quot;: &quot;0&quot;, &quot;type&quot;: &quot;Feature&quot;}], &quot;type&quot;: &quot;FeatureCollection&quot;});\n",
       "\n",
       "        \n",
       "    \n",
       "            var marker_a038340a33092ed76edf7d5673d2ba52 = L.marker(\n",
       "                [-8.564568024978032, 126.46981111466152],\n",
       "                {}\n",
       "            ).addTo(map_2b03f72760e79050388961235e5d3333);\n",
       "        \n",
       "&lt;/script&gt;\n",
       "&lt;/html&gt;\" style=\"position:absolute;width:100%;height:100%;left:0;top:0;border:none !important;\" allowfullscreen webkitallowfullscreen mozallowfullscreen></iframe></div></div>"
      ],
      "text/plain": [
       "<folium.folium.Map at 0x1479d0670>"
      ]
     },
     "execution_count": 18,
     "metadata": {},
     "output_type": "execute_result"
    }
   ],
   "source": [
    "plot_isochrones(osm_alt_1000, baucau)"
   ]
  },
  {
   "cell_type": "code",
   "execution_count": null,
   "id": "f8b02776",
   "metadata": {},
   "outputs": [],
   "source": []
  },
  {
   "cell_type": "code",
   "execution_count": null,
   "id": "e263bc9c",
   "metadata": {},
   "outputs": [],
   "source": []
  }
 ],
 "metadata": {
  "kernelspec": {
   "display_name": "gpbp-ys_3FNdB-py3.10",
   "language": "python",
   "name": "python3"
  },
  "language_info": {
   "codemirror_mode": {
    "name": "ipython",
    "version": 3
   },
   "file_extension": ".py",
   "mimetype": "text/x-python",
   "name": "python",
   "nbconvert_exporter": "python",
   "pygments_lexer": "ipython3",
   "version": "3.10.15"
  }
 },
 "nbformat": 4,
 "nbformat_minor": 5
}
