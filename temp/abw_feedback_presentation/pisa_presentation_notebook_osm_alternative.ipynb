{
 "cells": [
  {
   "cell_type": "code",
   "execution_count": 13,
   "id": "9773e728",
   "metadata": {},
   "outputs": [
    {
     "name": "stdout",
     "output_type": "stream",
     "text": [
      "The autoreload extension is already loaded. To reload it, use:\n",
      "  %reload_ext autoreload\n"
     ]
    }
   ],
   "source": [
    "%load_ext autoreload\n",
    "%autoreload 2"
   ]
  },
  {
   "cell_type": "code",
   "execution_count": 14,
   "id": "fd971be8",
   "metadata": {},
   "outputs": [
    {
     "data": {
      "text/plain": [
       "True"
      ]
     },
     "execution_count": 14,
     "metadata": {},
     "output_type": "execute_result"
    }
   ],
   "source": [
    "import os\n",
    "from functools import partial\n",
    "\n",
    "from dotenv import load_dotenv\n",
    "\n",
    "from optimization import jg_opt\n",
    "from pisa.administrative_area import AdministrativeArea\n",
    "from pisa.facilities import Facilities\n",
    "from pisa.population import WorldpopPopulation\n",
    "from pisa.population_served_by_isopolygons import get_population_served_by_isopolygons\n",
    "\n",
    "# keep the API keys in a `.env` file in the local root directory\n",
    "load_dotenv()\n"
   ]
  },
  {
   "cell_type": "markdown",
   "id": "27a16dad",
   "metadata": {},
   "source": [
    "Some choices:\n",
    "\n",
    "- Population with WorldPop or Facebook\n",
    "- isopolygon calculator either Mapbox or OSM"
   ]
  },
  {
   "cell_type": "markdown",
   "id": "3f9141a2",
   "metadata": {},
   "source": [
    "### Define Administrative Area\n",
    "\n",
    "Let op: the administrative area is a country because of the package that we use for fetching the data (gadm).\n",
    "\n",
    "The naming is confusing: we want the administrative area to be a subset of a country (in this case, the administrative area should be Baucau). \n",
    "\n",
    "Should be easy to fix once we change gadm to pygadm (see issue #59 on GitHub)"
   ]
  },
  {
   "cell_type": "code",
   "execution_count": 15,
   "id": "c575b71b",
   "metadata": {},
   "outputs": [
    {
     "name": "stderr",
     "output_type": "stream",
     "text": [
      "INFO:pisa.administrative_area:Validating country name: Timor-Leste\n",
      "INFO:pisa.administrative_area:Country name 'Timor-Leste' validated successfully\n",
      "INFO:pisa.administrative_area:Retrieving boundaries of all administrative areas of level 1 for country Timor-Leste\n"
     ]
    }
   ],
   "source": [
    "timor_leste = AdministrativeArea(country_name=\"Timor-Leste\", admin_level=1)\n",
    "\n",
    "# these are the boundaries of Baucau\n",
    "# type: Polygon\n",
    "baucau = timor_leste.get_admin_area_boundaries(\"Baucau\")"
   ]
  },
  {
   "cell_type": "markdown",
   "id": "71db06a9",
   "metadata": {},
   "source": [
    "### Get population \n",
    "In this example, from WorldPop"
   ]
  },
  {
   "cell_type": "code",
   "execution_count": 16,
   "id": "8a9246a6",
   "metadata": {},
   "outputs": [],
   "source": [
    "population_gdf = WorldpopPopulation(\n",
    "    admin_area_boundaries=baucau, iso3_country_code=timor_leste.get_iso3_country_code()\n",
    ").get_population_gdf()\n",
    "\n",
    "population_count = population_gdf.population.values"
   ]
  },
  {
   "cell_type": "markdown",
   "id": "65d3d1a6",
   "metadata": {},
   "source": [
    "### Create instance of Facilities class for Baucau"
   ]
  },
  {
   "cell_type": "code",
   "execution_count": 17,
   "id": "d6e5f170",
   "metadata": {},
   "outputs": [],
   "source": [
    "facilities_calculator = Facilities(admin_area_boundaries=baucau)"
   ]
  },
  {
   "cell_type": "markdown",
   "id": "072690b5",
   "metadata": {},
   "source": [
    "## Calculate isopolygons"
   ]
  },
  {
   "cell_type": "code",
   "execution_count": 18,
   "id": "e69834c3",
   "metadata": {},
   "outputs": [],
   "source": [
    "DISTANCE_TYPE = \"length\"\n",
    "\n",
    "DISTANCE_VALUES = [2000, 5000, 10000]\n",
    "\n",
    "MODE_OF_TRANSPORT = \"driving\""
   ]
  },
  {
   "cell_type": "markdown",
   "id": "15a153f6",
   "metadata": {},
   "source": [
    "#### Using OSM alternative calculator"
   ]
  },
  {
   "cell_type": "code",
   "execution_count": null,
   "id": "5c6a8667",
   "metadata": {},
   "outputs": [
    {
     "name": "stderr",
     "output_type": "stream",
     "text": [
      "INFO:pisa.osm_road_network:OSM road network set with parameters network_type 'drive' and distance_type 'length'\n"
     ]
    }
   ],
   "source": [
    "from pisa.osm_road_network import OsmRoadNetwork\n",
    "\n",
    "road_network = OsmRoadNetwork(\n",
    "    admin_area_boundaries=baucau,\n",
    "    mode_of_transport=MODE_OF_TRANSPORT,\n",
    "    distance_type=DISTANCE_TYPE,\n",
    ").get_osm_road_network()"
   ]
  },
  {
   "cell_type": "markdown",
   "id": "7d53470c",
   "metadata": {},
   "source": [
    "#### Calculate isopolygons for existing facilities"
   ]
  },
  {
   "cell_type": "code",
   "execution_count": 32,
   "id": "64084c71",
   "metadata": {},
   "outputs": [
    {
     "name": "stderr",
     "output_type": "stream",
     "text": [
      "INFO:pisa.facilities:Retrieving existing facilities with tags {'amenity': 'hospital', 'building': 'hospital'} using OSM.\n",
      "INFO:pisa.facilities:Successfully retrieved existing facilities from OSM.\n"
     ]
    }
   ],
   "source": [
    "from pisa.isopolygons import OsmIsopolygonCalculatorAlternative\n",
    "\n",
    "isopolygons_existing_facilities = OsmIsopolygonCalculatorAlternative(\n",
    "    facilities_df=facilities_calculator.get_existing_facilities(),\n",
    "    distance_type=DISTANCE_TYPE,\n",
    "    distance_values=DISTANCE_VALUES,\n",
    "    road_network=road_network,\n",
    ").calculate_isopolygons()\n",
    "\n",
    "population_served_current = get_population_served_by_isopolygons(\n",
    "    grouped_population=population_gdf, isopolygons=isopolygons_existing_facilities\n",
    ")\n",
    "\n",
    "current = {DISTANCE_TYPE: population_served_current}"
   ]
  },
  {
   "cell_type": "markdown",
   "id": "cdaecaa2",
   "metadata": {},
   "source": [
    "#### Calculate isopolygons for potential facilities"
   ]
  },
  {
   "cell_type": "code",
   "execution_count": 33,
   "id": "b23e63b1",
   "metadata": {},
   "outputs": [],
   "source": [
    "isopolygons_potential_facilities = OsmIsopolygonCalculatorAlternative(\n",
    "    facilities_df=facilities_calculator.estimate_potential_facilities(),\n",
    "    distance_type=DISTANCE_TYPE,\n",
    "    distance_values=DISTANCE_VALUES,\n",
    "    road_network=road_network,\n",
    ").calculate_isopolygons()\n",
    "\n",
    "population_served_potential = get_population_served_by_isopolygons(\n",
    "    grouped_population=population_gdf, isopolygons=isopolygons_potential_facilities\n",
    ")\n",
    "\n",
    "potential = {DISTANCE_TYPE: population_served_potential}"
   ]
  },
  {
   "cell_type": "markdown",
   "id": "5a3ba7af",
   "metadata": {},
   "source": [
    "### Calculate solutions"
   ]
  },
  {
   "cell_type": "code",
   "execution_count": 34,
   "id": "2e25e9de",
   "metadata": {},
   "outputs": [],
   "source": [
    "BUDGET = [\n",
    "    5,\n",
    "    20,\n",
    "    50,\n",
    "]  # budget for the optimization in terms of how many locations can be built\n",
    "\n",
    "\n",
    "CBC_SOLVER_PATH = os.getenv(\n",
    "    \"CBC_SOLVER_PATH\"\n",
    ")  # path to the cbc executable (e.g. /opt/homebrew/bin/cbc)\n",
    "\n",
    "cbc_optimize = partial(jg_opt.OpenOptimize, solver_path=CBC_SOLVER_PATH)\n",
    "\n",
    "values, solutions = jg_opt.Solve(\n",
    "    household=population_count,\n",
    "    current=current,\n",
    "    potential=potential,\n",
    "    accessibility=DISTANCE_TYPE,\n",
    "    budgets=BUDGET,\n",
    "    optimize=cbc_optimize,\n",
    "    type=\"ID\",\n",
    ")"
   ]
  },
  {
   "cell_type": "code",
   "execution_count": 35,
   "id": "dda9a6f2",
   "metadata": {},
   "outputs": [
    {
     "data": {
      "text/html": [
       "<div>\n",
       "<style scoped>\n",
       "    .dataframe tbody tr th:only-of-type {\n",
       "        vertical-align: middle;\n",
       "    }\n",
       "\n",
       "    .dataframe tbody tr th {\n",
       "        vertical-align: top;\n",
       "    }\n",
       "\n",
       "    .dataframe thead th {\n",
       "        text-align: right;\n",
       "    }\n",
       "</style>\n",
       "<table border=\"1\" class=\"dataframe\">\n",
       "  <thead>\n",
       "    <tr style=\"text-align: right;\">\n",
       "      <th></th>\n",
       "      <th>10000</th>\n",
       "      <th>5000</th>\n",
       "      <th>2000</th>\n",
       "    </tr>\n",
       "  </thead>\n",
       "  <tbody>\n",
       "    <tr>\n",
       "      <th>5</th>\n",
       "      <td>0.263659</td>\n",
       "      <td>0.205705</td>\n",
       "      <td>0.123098</td>\n",
       "    </tr>\n",
       "    <tr>\n",
       "      <th>20</th>\n",
       "      <td>0.267482</td>\n",
       "      <td>0.221113</td>\n",
       "      <td>0.131744</td>\n",
       "    </tr>\n",
       "    <tr>\n",
       "      <th>50</th>\n",
       "      <td>0.267482</td>\n",
       "      <td>0.224543</td>\n",
       "      <td>0.133409</td>\n",
       "    </tr>\n",
       "  </tbody>\n",
       "</table>\n",
       "</div>"
      ],
      "text/plain": [
       "       10000      5000      2000\n",
       "5   0.263659  0.205705  0.123098\n",
       "20  0.267482  0.221113  0.131744\n",
       "50  0.267482  0.224543  0.133409"
      ]
     },
     "execution_count": 35,
     "metadata": {},
     "output_type": "execute_result"
    }
   ],
   "source": [
    "values"
   ]
  },
  {
   "cell_type": "code",
   "execution_count": 36,
   "id": "8e4bb25d",
   "metadata": {},
   "outputs": [
    {
     "data": {
      "text/html": [
       "<div>\n",
       "<style scoped>\n",
       "    .dataframe tbody tr th:only-of-type {\n",
       "        vertical-align: middle;\n",
       "    }\n",
       "\n",
       "    .dataframe tbody tr th {\n",
       "        vertical-align: top;\n",
       "    }\n",
       "\n",
       "    .dataframe thead th {\n",
       "        text-align: right;\n",
       "    }\n",
       "</style>\n",
       "<table border=\"1\" class=\"dataframe\">\n",
       "  <thead>\n",
       "    <tr style=\"text-align: right;\">\n",
       "      <th></th>\n",
       "      <th>10000</th>\n",
       "      <th>5000</th>\n",
       "      <th>2000</th>\n",
       "    </tr>\n",
       "  </thead>\n",
       "  <tbody>\n",
       "    <tr>\n",
       "      <th>5</th>\n",
       "      <td>[25, 27, 22, 18, 38]</td>\n",
       "      <td>[25, 27, 22, 43, 9]</td>\n",
       "      <td>[39, 43, 25, 22, 7]</td>\n",
       "    </tr>\n",
       "    <tr>\n",
       "      <th>20</th>\n",
       "      <td>[25, 27, 22, 18, 38, 14, 37, 43, 35, 0, 3, 9, ...</td>\n",
       "      <td>[25, 27, 22, 43, 9, 16, 18, 42, 38, 39, 28, 12...</td>\n",
       "      <td>[39, 43, 25, 22, 7, 27, 24, 32, 38, 10, 16, 42...</td>\n",
       "    </tr>\n",
       "    <tr>\n",
       "      <th>50</th>\n",
       "      <td>[25, 27, 22, 18, 38, 14, 37, 43, 35, 0, 3, 9, ...</td>\n",
       "      <td>[25, 27, 22, 43, 9, 16, 18, 42, 38, 39, 28, 12...</td>\n",
       "      <td>[39, 43, 25, 22, 7, 27, 24, 32, 38, 10, 16, 42...</td>\n",
       "    </tr>\n",
       "  </tbody>\n",
       "</table>\n",
       "</div>"
      ],
      "text/plain": [
       "                                                10000  \\\n",
       "5                                [25, 27, 22, 18, 38]   \n",
       "20  [25, 27, 22, 18, 38, 14, 37, 43, 35, 0, 3, 9, ...   \n",
       "50  [25, 27, 22, 18, 38, 14, 37, 43, 35, 0, 3, 9, ...   \n",
       "\n",
       "                                                 5000  \\\n",
       "5                                 [25, 27, 22, 43, 9]   \n",
       "20  [25, 27, 22, 43, 9, 16, 18, 42, 38, 39, 28, 12...   \n",
       "50  [25, 27, 22, 43, 9, 16, 18, 42, 38, 39, 28, 12...   \n",
       "\n",
       "                                                 2000  \n",
       "5                                 [39, 43, 25, 22, 7]  \n",
       "20  [39, 43, 25, 22, 7, 27, 24, 32, 38, 10, 16, 42...  \n",
       "50  [39, 43, 25, 22, 7, 27, 24, 32, 38, 10, 16, 42...  "
      ]
     },
     "execution_count": 36,
     "metadata": {},
     "output_type": "execute_result"
    }
   ],
   "source": [
    "solutions"
   ]
  }
 ],
 "metadata": {
  "kernelspec": {
   "display_name": "gpbp-ys_3FNdB-py3.10",
   "language": "python",
   "name": "python3"
  },
  "language_info": {
   "codemirror_mode": {
    "name": "ipython",
    "version": 3
   },
   "file_extension": ".py",
   "mimetype": "text/x-python",
   "name": "python",
   "nbconvert_exporter": "python",
   "pygments_lexer": "ipython3",
   "version": "3.10.15"
  }
 },
 "nbformat": 4,
 "nbformat_minor": 5
}
