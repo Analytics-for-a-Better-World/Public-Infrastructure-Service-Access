{
 "cells": [
  {
   "cell_type": "code",
   "execution_count": 5,
   "id": "9773e728",
   "metadata": {},
   "outputs": [
    {
     "name": "stdout",
     "output_type": "stream",
     "text": [
      "The autoreload extension is already loaded. To reload it, use:\n",
      "  %reload_ext autoreload\n"
     ]
    }
   ],
   "source": [
    "%load_ext autoreload\n",
    "%autoreload 2"
   ]
  },
  {
   "cell_type": "code",
   "execution_count": 2,
   "id": "fd971be8",
   "metadata": {},
   "outputs": [
    {
     "data": {
      "text/plain": [
       "True"
      ]
     },
     "execution_count": 2,
     "metadata": {},
     "output_type": "execute_result"
    }
   ],
   "source": [
    "import os\n",
    "from functools import partial\n",
    "\n",
    "from dotenv import load_dotenv\n",
    "\n",
    "from optimization import jg_opt\n",
    "from pisa.administrative_area import AdministrativeArea\n",
    "from pisa.facilities import Facilities\n",
    "from pisa.population import WorldpopPopulation\n",
    "from pisa.population_served_by_isopolygons import get_population_served_by_isopolygons\n",
    "\n",
    "# keep the API keys in a `.env` file in the local root directory\n",
    "load_dotenv()\n"
   ]
  },
  {
   "cell_type": "markdown",
   "id": "27a16dad",
   "metadata": {},
   "source": [
    "Some choices:\n",
    "\n",
    "- Population with WorldPop or Facebook\n",
    "- isopolygon calculator either Mapbox or OSM"
   ]
  },
  {
   "cell_type": "markdown",
   "id": "3f9141a2",
   "metadata": {},
   "source": [
    "### Define Administrative Area\n",
    "\n",
    "Let op: the administrative area is a country because of the package that we use for fetching the data (gadm).\n",
    "\n",
    "The naming is confusing: we want the administrative area to be a subset of a country (in this case, the administrative area should be Baucau). \n",
    "\n",
    "Should be easy to fix once we change gadm to pygadm (see issue #59 on GitHub)"
   ]
  },
  {
   "cell_type": "code",
   "execution_count": 3,
   "id": "c575b71b",
   "metadata": {},
   "outputs": [
    {
     "name": "stderr",
     "output_type": "stream",
     "text": [
      "INFO:pisa.administrative_area:Validating country name: Timor-Leste\n",
      "INFO:pisa.administrative_area:Country name 'Timor-Leste' validated successfully\n",
      "INFO:pisa.administrative_area:Retrieving boundaries of all administrative areas of level 1 for country Timor-Leste\n"
     ]
    }
   ],
   "source": [
    "timor_leste = AdministrativeArea(country_name=\"Timor-Leste\", admin_level=1)\n",
    "\n",
    "# these are the boundaries of Baucau\n",
    "# type: Polygon\n",
    "baucau = timor_leste.get_admin_area_boundaries(\"Baucau\")"
   ]
  },
  {
   "cell_type": "markdown",
   "id": "71db06a9",
   "metadata": {},
   "source": [
    "### Get population \n",
    "In this example, from WorldPop"
   ]
  },
  {
   "cell_type": "code",
   "execution_count": 4,
   "id": "8a9246a6",
   "metadata": {},
   "outputs": [],
   "source": [
    "population_gdf = WorldpopPopulation(\n",
    "    admin_area_boundaries=baucau, iso3_country_code=timor_leste.get_iso3_country_code()\n",
    ").get_population_gdf()\n",
    "\n",
    "population_count = population_gdf.population.values"
   ]
  },
  {
   "cell_type": "markdown",
   "id": "65d3d1a6",
   "metadata": {},
   "source": [
    "### Create instance of Facilities class for Baucau"
   ]
  },
  {
   "cell_type": "code",
   "execution_count": 6,
   "id": "d6e5f170",
   "metadata": {},
   "outputs": [],
   "source": [
    "facilities_calculator = Facilities(admin_area_boundaries=baucau)"
   ]
  },
  {
   "cell_type": "markdown",
   "id": "072690b5",
   "metadata": {},
   "source": [
    "## Calculate isopolygons"
   ]
  },
  {
   "cell_type": "code",
   "execution_count": 7,
   "id": "e69834c3",
   "metadata": {},
   "outputs": [],
   "source": [
    "DISTANCE_TYPE = \"length\"\n",
    "\n",
    "DISTANCE_VALUES = [2000, 5000, 10000]\n",
    "\n",
    "MODE_OF_TRANSPORT = \"driving\""
   ]
  },
  {
   "cell_type": "markdown",
   "id": "15a153f6",
   "metadata": {},
   "source": [
    "#### Using Mapbox API"
   ]
  },
  {
   "cell_type": "code",
   "execution_count": 8,
   "id": "5e00f5ef",
   "metadata": {},
   "outputs": [],
   "source": [
    "from pisa.isopolygons import MapboxIsopolygonCalculator\n",
    "\n",
    "MAPBOX_API_TOKEN = os.getenv(\"MAPBOX_API_TOKEN\")"
   ]
  },
  {
   "cell_type": "markdown",
   "id": "7d53470c",
   "metadata": {},
   "source": [
    "#### Calculate isopolygons for existing facilities"
   ]
  },
  {
   "cell_type": "code",
   "execution_count": 9,
   "id": "64084c71",
   "metadata": {},
   "outputs": [
    {
     "name": "stderr",
     "output_type": "stream",
     "text": [
      "INFO:pisa.facilities:Retrieving existing facilities with tags {'amenity': 'hospital', 'building': 'hospital'} using OSM.\n",
      "INFO:pisa.facilities:Successfully retrieved existing facilities from OSM.\n"
     ]
    }
   ],
   "source": [
    "isopolygons_existing_facilities = MapboxIsopolygonCalculator(\n",
    "    facilities_df=facilities_calculator.get_existing_facilities(),\n",
    "    distance_type=DISTANCE_TYPE,\n",
    "    distance_values=DISTANCE_VALUES,\n",
    "    mode_of_transport=MODE_OF_TRANSPORT,\n",
    "    mapbox_api_token=MAPBOX_API_TOKEN,\n",
    ").calculate_isopolygons()\n",
    "\n",
    "population_served_current = get_population_served_by_isopolygons(\n",
    "    grouped_population=population_gdf, isopolygons=isopolygons_existing_facilities\n",
    ")\n",
    "\n",
    "current = {DISTANCE_TYPE: population_served_current}"
   ]
  },
  {
   "cell_type": "markdown",
   "id": "cdaecaa2",
   "metadata": {},
   "source": [
    "#### Calculate isopolygons for potential facilities"
   ]
  },
  {
   "cell_type": "code",
   "execution_count": 10,
   "id": "b23e63b1",
   "metadata": {},
   "outputs": [],
   "source": [
    "isopolygons_potential_facilities = MapboxIsopolygonCalculator(\n",
    "    facilities_df=facilities_calculator.estimate_potential_facilities(),\n",
    "    distance_type=DISTANCE_TYPE,\n",
    "    distance_values=DISTANCE_VALUES,\n",
    "    mode_of_transport=MODE_OF_TRANSPORT,\n",
    "    mapbox_api_token=MAPBOX_API_TOKEN,\n",
    ").calculate_isopolygons()\n",
    "\n",
    "population_served_potential = get_population_served_by_isopolygons(\n",
    "    grouped_population=population_gdf, isopolygons=isopolygons_potential_facilities\n",
    ")\n",
    "\n",
    "potential = {DISTANCE_TYPE: population_served_potential}"
   ]
  },
  {
   "cell_type": "markdown",
   "id": "5a3ba7af",
   "metadata": {},
   "source": [
    "### Calculate solutions"
   ]
  },
  {
   "cell_type": "code",
   "execution_count": 11,
   "id": "2e25e9de",
   "metadata": {},
   "outputs": [],
   "source": [
    "BUDGET = [\n",
    "    5,\n",
    "    20,\n",
    "    50,\n",
    "]  # budget for the optimization in terms of how many locations can be built\n",
    "\n",
    "\n",
    "CBC_SOLVER_PATH = os.getenv(\n",
    "    \"CBC_SOLVER_PATH\"\n",
    ")  # path to the cbc executable (e.g. /opt/homebrew/bin/cbc)\n",
    "\n",
    "cbc_optimize = partial(jg_opt.OpenOptimize, solver_path=CBC_SOLVER_PATH)\n",
    "\n",
    "values, solutions = jg_opt.Solve(\n",
    "    household=population_count,\n",
    "    current=current,\n",
    "    potential=potential,\n",
    "    accessibility=DISTANCE_TYPE,\n",
    "    budgets=BUDGET,\n",
    "    optimize=cbc_optimize,\n",
    "    type=\"ID\",\n",
    ")"
   ]
  },
  {
   "cell_type": "code",
   "execution_count": 12,
   "id": "0fb1a524",
   "metadata": {},
   "outputs": [
    {
     "data": {
      "text/html": [
       "<div>\n",
       "<style scoped>\n",
       "    .dataframe tbody tr th:only-of-type {\n",
       "        vertical-align: middle;\n",
       "    }\n",
       "\n",
       "    .dataframe tbody tr th {\n",
       "        vertical-align: top;\n",
       "    }\n",
       "\n",
       "    .dataframe thead th {\n",
       "        text-align: right;\n",
       "    }\n",
       "</style>\n",
       "<table border=\"1\" class=\"dataframe\">\n",
       "  <thead>\n",
       "    <tr style=\"text-align: right;\">\n",
       "      <th></th>\n",
       "      <th>10000</th>\n",
       "      <th>5000</th>\n",
       "      <th>2000</th>\n",
       "    </tr>\n",
       "  </thead>\n",
       "  <tbody>\n",
       "    <tr>\n",
       "      <th>5</th>\n",
       "      <td>0.474183</td>\n",
       "      <td>0.291701</td>\n",
       "      <td>0.142469</td>\n",
       "    </tr>\n",
       "    <tr>\n",
       "      <th>20</th>\n",
       "      <td>0.492997</td>\n",
       "      <td>0.315200</td>\n",
       "      <td>0.149626</td>\n",
       "    </tr>\n",
       "    <tr>\n",
       "      <th>50</th>\n",
       "      <td>0.497300</td>\n",
       "      <td>0.324737</td>\n",
       "      <td>0.153492</td>\n",
       "    </tr>\n",
       "  </tbody>\n",
       "</table>\n",
       "</div>"
      ],
      "text/plain": [
       "       10000      5000      2000\n",
       "5   0.474183  0.291701  0.142469\n",
       "20  0.492997  0.315200  0.149626\n",
       "50  0.497300  0.324737  0.153492"
      ]
     },
     "execution_count": 12,
     "metadata": {},
     "output_type": "execute_result"
    }
   ],
   "source": [
    "values"
   ]
  },
  {
   "cell_type": "code",
   "execution_count": 13,
   "id": "8e4bb25d",
   "metadata": {},
   "outputs": [
    {
     "data": {
      "text/html": [
       "<div>\n",
       "<style scoped>\n",
       "    .dataframe tbody tr th:only-of-type {\n",
       "        vertical-align: middle;\n",
       "    }\n",
       "\n",
       "    .dataframe tbody tr th {\n",
       "        vertical-align: top;\n",
       "    }\n",
       "\n",
       "    .dataframe thead th {\n",
       "        text-align: right;\n",
       "    }\n",
       "</style>\n",
       "<table border=\"1\" class=\"dataframe\">\n",
       "  <thead>\n",
       "    <tr style=\"text-align: right;\">\n",
       "      <th></th>\n",
       "      <th>10000</th>\n",
       "      <th>5000</th>\n",
       "      <th>2000</th>\n",
       "    </tr>\n",
       "  </thead>\n",
       "  <tbody>\n",
       "    <tr>\n",
       "      <th>5</th>\n",
       "      <td>[28, 22, 27, 39, 18]</td>\n",
       "      <td>[25, 22, 39, 27, 28]</td>\n",
       "      <td>[39, 20, 27, 7, 25]</td>\n",
       "    </tr>\n",
       "    <tr>\n",
       "      <th>20</th>\n",
       "      <td>[28, 22, 27, 39, 18, 10, 25, 20, 29, 51, 16, 8...</td>\n",
       "      <td>[25, 22, 39, 27, 28, 43, 16, 26, 8, 36, 23, 18...</td>\n",
       "      <td>[39, 20, 27, 7, 25, 43, 10, 13, 6, 22, 42, 26,...</td>\n",
       "    </tr>\n",
       "    <tr>\n",
       "      <th>50</th>\n",
       "      <td>[28, 22, 27, 39, 18, 10, 25, 20, 29, 51, 16, 8...</td>\n",
       "      <td>[25, 22, 39, 27, 28, 43, 16, 26, 8, 36, 23, 18...</td>\n",
       "      <td>[39, 20, 27, 7, 25, 43, 10, 13, 6, 22, 42, 26,...</td>\n",
       "    </tr>\n",
       "  </tbody>\n",
       "</table>\n",
       "</div>"
      ],
      "text/plain": [
       "                                                10000  \\\n",
       "5                                [28, 22, 27, 39, 18]   \n",
       "20  [28, 22, 27, 39, 18, 10, 25, 20, 29, 51, 16, 8...   \n",
       "50  [28, 22, 27, 39, 18, 10, 25, 20, 29, 51, 16, 8...   \n",
       "\n",
       "                                                 5000  \\\n",
       "5                                [25, 22, 39, 27, 28]   \n",
       "20  [25, 22, 39, 27, 28, 43, 16, 26, 8, 36, 23, 18...   \n",
       "50  [25, 22, 39, 27, 28, 43, 16, 26, 8, 36, 23, 18...   \n",
       "\n",
       "                                                 2000  \n",
       "5                                 [39, 20, 27, 7, 25]  \n",
       "20  [39, 20, 27, 7, 25, 43, 10, 13, 6, 22, 42, 26,...  \n",
       "50  [39, 20, 27, 7, 25, 43, 10, 13, 6, 22, 42, 26,...  "
      ]
     },
     "execution_count": 13,
     "metadata": {},
     "output_type": "execute_result"
    }
   ],
   "source": [
    "solutions"
   ]
  }
 ],
 "metadata": {
  "kernelspec": {
   "display_name": "gpbp-ys_3FNdB-py3.10",
   "language": "python",
   "name": "python3"
  },
  "language_info": {
   "codemirror_mode": {
    "name": "ipython",
    "version": 3
   },
   "file_extension": ".py",
   "mimetype": "text/x-python",
   "name": "python",
   "nbconvert_exporter": "python",
   "pygments_lexer": "ipython3",
   "version": "3.10.15"
  }
 },
 "nbformat": 4,
 "nbformat_minor": 5
}
