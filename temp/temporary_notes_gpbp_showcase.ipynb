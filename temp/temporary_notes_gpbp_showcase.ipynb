{
 "cells": [
  {
   "cell_type": "code",
   "execution_count": null,
   "metadata": {},
   "outputs": [],
   "source": [
    "%load_ext autoreload\n",
    "%autoreload 2"
   ]
  },
  {
   "cell_type": "code",
   "execution_count": null,
   "metadata": {},
   "outputs": [],
   "source": [
    "# import sys\n",
    "# sys.path.insert(0, \"..\")\n",
    "from gpbp.layers import AdmArea\n",
    "from gpbp import visualisation\n",
    "\n",
    "from optimization import jg_opt\n",
    "from functools import partial\n",
    "\n",
    "import warnings\n",
    "warnings.filterwarnings(action='ignore')"
   ]
  },
  {
   "cell_type": "markdown",
   "metadata": {},
   "source": [
    "## Defining the Administrative Area"
   ]
  },
  {
   "cell_type": "code",
   "execution_count": null,
   "metadata": {},
   "outputs": [],
   "source": [
    "adm_area = AdmArea(country=\"Timor-Leste\", level=1)"
   ]
  },
  {
   "cell_type": "code",
   "execution_count": null,
   "metadata": {},
   "outputs": [],
   "source": [
    "adm_area.country"
   ]
  },
  {
   "cell_type": "code",
   "execution_count": null,
   "metadata": {},
   "outputs": [],
   "source": [
    "adm_area.country_gdf"
   ]
  },
  {
   "cell_type": "code",
   "execution_count": null,
   "metadata": {},
   "outputs": [],
   "source": [
    "adm_area.adm_name"
   ]
  },
  {
   "cell_type": "markdown",
   "metadata": {},
   "source": [
    "- `AdmArea` stands for Administrative Area\n",
    "- `init`:\n",
    "  - `country` gets the ISO codes of the country using `pycountry`. assignment tries to find a similar country if the country name is not immediately found\n",
    "  - `level` should probably be explained in the package docs\n",
    "  - Gets country geometry (as well as of all admin areas down to the specified `level`) from the GADM dataset using `gadm`\n",
    "- [backend] if `level == 0`, `self.geometry` and `self.adm_name` are populated, otherwise they are not. Doesn't look like a good practice. I guess it's to make an exception for country-level analyses.\n",
    "- [backend] Code has some print statements but they are not being shown. Convert to logging?"
   ]
  },
  {
   "cell_type": "code",
   "execution_count": null,
   "metadata": {},
   "outputs": [],
   "source": [
    "adm_area.get_adm_area(\"Baucau\")"
   ]
  },
  {
   "cell_type": "markdown",
   "metadata": {},
   "source": [
    "- `self.get_adm_area` simply extracts the geometry of a specific admin area\n",
    "- However it has a special treatment of `level == 0` as mentioned before. Not sure if necessary to do this."
   ]
  },
  {
   "cell_type": "markdown",
   "metadata": {},
   "source": [
    "- [frontend] We could add some quick plotting tools for the user to check their work as they develop. E.g. plot the loaded maps etc."
   ]
  },
  {
   "cell_type": "markdown",
   "metadata": {},
   "source": [
    "## Retrieving Facility and Population data"
   ]
  },
  {
   "cell_type": "code",
   "execution_count": null,
   "metadata": {},
   "outputs": [],
   "source": [
    "adm_area.get_facilities(method=\"osm\", tags={\"building\":\"hospital\"})\n",
    "visualisation.plot_facilities(adm_area.fac_gdf)"
   ]
  },
  {
   "cell_type": "markdown",
   "metadata": {},
   "source": [
    "- `self.get_facilities` uses `osmnx` to get the requested facilities. It's an API to query OSM but it can also do some network analyses.\n",
    "  - It's built to work with more sources, but only `osmnx` is supported so far\n",
    "  - I think [this example notebook from osmnx](https://github.com/gboeing/osmnx-examples/blob/main/notebooks/16-download-osm-geospatial-features.ipynb) explains what we use the package for\n",
    "  - The query to `osmnx` returns a complex GeoPandas df. `osm_facilities` parses the data into the OSM IDs of the facilities and the coordinates of the facilities' centroids.\n",
    "- The example query doesn't seem to be complete. I can find other healthcare facilities in e.g. Baucau which were not returned by the query"
   ]
  },
  {
   "cell_type": "code",
   "execution_count": null,
   "metadata": {},
   "outputs": [],
   "source": [
    "adm_area.get_population(method=\"world_pop\")\n",
    "visualisation.plot_population_heatmap(adm_area.pop_df)"
   ]
  },
  {
   "cell_type": "markdown",
   "metadata": {},
   "source": [
    "- `self.get_population` is very similar in design to `self.get_facilities`\n",
    "  - It supports two sources: worldpop.org and facebook\n",
    "  - For worldpop.org it's a simple GET and parsing the resulting JSON\n",
    "  - [backend] During the data parsing there are some functions that might be better suited as methods of `AdmArea` (`get_admarea_mask`)\n",
    "  - For facebook it's a file download. If the file already exists, the download is skipped. The data parsing is also different."
   ]
  },
  {
   "cell_type": "markdown",
   "metadata": {},
   "source": [
    "## Computing potential locations for facilities"
   ]
  },
  {
   "cell_type": "code",
   "execution_count": null,
   "metadata": {},
   "outputs": [],
   "source": [
    "adm_area.compute_potential_fac(spacing=0.05)\n",
    "visualisation.plot_facilities(adm_area.pot_fac_gdf)"
   ]
  },
  {
   "cell_type": "markdown",
   "metadata": {},
   "source": [
    "- `compute_potential_fac` simply defines a grid over the polygon of the chosen administrative area. However I can imagine they might want to have different strategies to define potential facility locations. \n",
    "- some names of class attributes are a bit poor. E.g. `pot_fac_gdf` stands for \"potential facilities gdf\"."
   ]
  },
  {
   "cell_type": "markdown",
   "metadata": {},
   "source": [
    "## Retrieving the road network"
   ]
  },
  {
   "cell_type": "code",
   "execution_count": null,
   "metadata": {},
   "outputs": [],
   "source": [
    "adm_area.get_road_network(\"driving\")"
   ]
  },
  {
   "cell_type": "markdown",
   "metadata": {},
   "source": [
    "- `get_road_network` takes the `network_type` as an argument, but each network type has an extra parameter hardcoded in it: `default_speed`. we could make this one an argument as well\n",
    "  - Actually, looking at it with more detail, this `default_speed` is just an imputation value for when `osmnx` cannot find the average speed of a certain edge in the network. So perhaps it makes sense not to let the user tune this.\n",
    "- this method uses `osmnx` to get a graph of a given network from OpenStreetMaps\n",
    "- the `osmnx` functions expect a specific projection, but it seems they do the conversion to the right projection, so we don't have to worry about checking the projections, it seems.\n",
    "- after getting the network of roads, we get the average travel speed in each edge (imputing it with a hardcoded value when missing).\n",
    "- finally given the edge speeds, `osmnx` computes the travel time in each edge"
   ]
  },
  {
   "cell_type": "markdown",
   "metadata": {},
   "source": [
    "## Prepare optimization data"
   ]
  },
  {
   "cell_type": "code",
   "execution_count": null,
   "metadata": {},
   "outputs": [],
   "source": [
    "MAPBOX_API_TOKEN = None # fill out with your own access token for mapbox strategy\n",
    "if MAPBOX_API_TOKEN is None:\n",
    "    raise ValueError(\"Please fill out the MAPBOX_API_TOKEN with your own access token.\")\n",
    "DISTANCE_TYPE = \"length\"\n",
    "pop_count, current, potential = adm_area.prepare_optimization_data(\n",
    "    DISTANCE_TYPE, [2000, 5000, 10000], \"driving\", \"mapbox\", population_resolution=3, mapbox_access_token=MAPBOX_API_TOKEN)"
   ]
  },
  {
   "cell_type": "code",
   "execution_count": null,
   "metadata": {},
   "outputs": [],
   "source": [
    "pop_count.shape"
   ]
  },
  {
   "cell_type": "code",
   "execution_count": null,
   "metadata": {},
   "outputs": [],
   "source": [
    "current['length']"
   ]
  },
  {
   "cell_type": "markdown",
   "metadata": {},
   "source": [
    "- This method is the longest.\n",
    "- We have to pass the mode of transport, even though it was already defined in `get_road_network`.\n",
    "- the population is projected to a lower resolution grid. the user defines the number of digits that lat and long should be projected to.\n",
    "- the existing facilities and potential locations for new facilities are merged into the same gdf, I'm not sure why. Then this gdf is passed into two calls of the same function `population_served` and they are once again split into existing and potential facilities. The splitting is done by index, which is not very elegant. We could replace this with a new column that labels the type of facility (potential or existing).\n",
    "- `population_served` is poorly documented and it's also quite long\n",
    "  - in a first step, isopolygons are computed depending on the chosen strategy.\n",
    "  - OSM is done locally with networkx and osmnx\n",
    "  - at a second stage, the population and isopolygons are joined but I still didn't fully get what happens to them\n",
    "  - this happens for every distance passed to `prepare_optimization_data`\n",
    "- the outputs are:\n",
    "  -  the population per point of the low resolution grid\n",
    "  -  current and potential TODO didn't get what exactly this is"
   ]
  },
  {
   "cell_type": "markdown",
   "metadata": {},
   "source": [
    "## Optimize"
   ]
  },
  {
   "cell_type": "code",
   "execution_count": null,
   "metadata": {},
   "outputs": [],
   "source": [
    "CBC_SOLVER_PATH = None # fill out the solver path where the cbc executable \n",
    "BUDGET = [5, 20, 50] # budget for the optimization in terms of how many locations can be built\n",
    "cbc_optimize = partial(\n",
    "                    jg_opt.OpenOptimize, solver_path=CBC_SOLVER_PATH\n",
    "                )\n",
    "jg_opt.Solve(pop_count, current, potential, DISTANCE_TYPE, BUDGET, optimize=cbc_optimize, type='ID')"
   ]
  }
 ],
 "metadata": {
  "kernelspec": {
   "display_name": "pisa",
   "language": "python",
   "name": "python3"
  },
  "language_info": {
   "codemirror_mode": {
    "name": "ipython",
    "version": 3
   },
   "file_extension": ".py",
   "mimetype": "text/x-python",
   "name": "python",
   "nbconvert_exporter": "python",
   "pygments_lexer": "ipython3",
   "version": "3.10.15"
  }
 },
 "nbformat": 4,
 "nbformat_minor": 2
}
